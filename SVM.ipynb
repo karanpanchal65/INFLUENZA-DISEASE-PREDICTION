{
 "cells": [
  {
   "cell_type": "code",
   "execution_count": 1,
   "id": "4107ddf3",
   "metadata": {},
   "outputs": [],
   "source": [
    "import pandas as pd \n",
    "from sklearn.model_selection import train_test_split  \n",
    "from sklearn.svm import SVC\n",
    "from sklearn.preprocessing import StandardScaler\n",
    "from sklearn.metrics import confusion_matrix  \n",
    "from sklearn.metrics import accuracy_score\n",
    "from sklearn.metrics import precision_score , recall_score , f1_score\n",
    "from sklearn.metrics import roc_curve , auc\n",
    "import matplotlib.pyplot as plt\n",
    "import seaborn as snb"
   ]
  },
  {
   "cell_type": "code",
   "execution_count": 2,
   "id": "5d4857a2",
   "metadata": {},
   "outputs": [],
   "source": [
    "# Load the dataset\n",
    "df = pd.read_csv('inf.csv')\n",
    "df = df.drop(['Unnamed: 0'],axis = 1)"
   ]
  },
  {
   "cell_type": "code",
   "execution_count": 3,
   "id": "7f10bcc7",
   "metadata": {},
   "outputs": [
    {
     "data": {
      "text/plain": [
       "1    10028\n",
       "0     8489\n",
       "Name: Pathogen Test Result, dtype: int64"
      ]
     },
     "execution_count": 3,
     "metadata": {},
     "output_type": "execute_result"
    }
   ],
   "source": [
    "df['Pathogen Test Result'].value_counts()"
   ]
  },
  {
   "cell_type": "code",
   "execution_count": 4,
   "id": "ab7de976",
   "metadata": {},
   "outputs": [
    {
     "data": {
      "text/html": [
       "<div>\n",
       "<style scoped>\n",
       "    .dataframe tbody tr th:only-of-type {\n",
       "        vertical-align: middle;\n",
       "    }\n",
       "\n",
       "    .dataframe tbody tr th {\n",
       "        vertical-align: top;\n",
       "    }\n",
       "\n",
       "    .dataframe thead th {\n",
       "        text-align: right;\n",
       "    }\n",
       "</style>\n",
       "<table border=\"1\" class=\"dataframe\">\n",
       "  <thead>\n",
       "    <tr style=\"text-align: right;\">\n",
       "      <th></th>\n",
       "      <th>Collection Year</th>\n",
       "      <th>Pathogen Test Result</th>\n",
       "      <th>Host Sex</th>\n",
       "      <th>Host Age</th>\n",
       "      <th>Chronic Conditions</th>\n",
       "      <th>Fever</th>\n",
       "      <th>chills</th>\n",
       "      <th>conjunctivitis</th>\n",
       "      <th>cough</th>\n",
       "      <th>diarrhea</th>\n",
       "      <th>...</th>\n",
       "      <th>loss of appetite</th>\n",
       "      <th>malaise</th>\n",
       "      <th>myalgia</th>\n",
       "      <th>nausea</th>\n",
       "      <th>other symptoms</th>\n",
       "      <th>running nose</th>\n",
       "      <th>short breath</th>\n",
       "      <th>throat</th>\n",
       "      <th>vomiting</th>\n",
       "      <th>wheezing</th>\n",
       "    </tr>\n",
       "  </thead>\n",
       "  <tbody>\n",
       "    <tr>\n",
       "      <th>count</th>\n",
       "      <td>18517.000000</td>\n",
       "      <td>18517.000000</td>\n",
       "      <td>18517.000000</td>\n",
       "      <td>18517.000000</td>\n",
       "      <td>18517.000000</td>\n",
       "      <td>18517.000000</td>\n",
       "      <td>18517.000000</td>\n",
       "      <td>18517.000000</td>\n",
       "      <td>18517.000000</td>\n",
       "      <td>18517.000000</td>\n",
       "      <td>...</td>\n",
       "      <td>18517.000000</td>\n",
       "      <td>18517.000000</td>\n",
       "      <td>18517.000000</td>\n",
       "      <td>18517.000000</td>\n",
       "      <td>18517.000000</td>\n",
       "      <td>18517.000000</td>\n",
       "      <td>18517.000000</td>\n",
       "      <td>18517.000000</td>\n",
       "      <td>18517.000000</td>\n",
       "      <td>18517.000000</td>\n",
       "    </tr>\n",
       "    <tr>\n",
       "      <th>mean</th>\n",
       "      <td>2015.881838</td>\n",
       "      <td>0.541556</td>\n",
       "      <td>0.471405</td>\n",
       "      <td>34.079657</td>\n",
       "      <td>7.982341</td>\n",
       "      <td>0.442944</td>\n",
       "      <td>0.400443</td>\n",
       "      <td>0.230545</td>\n",
       "      <td>0.448615</td>\n",
       "      <td>0.122752</td>\n",
       "      <td>...</td>\n",
       "      <td>0.264676</td>\n",
       "      <td>0.287952</td>\n",
       "      <td>0.268024</td>\n",
       "      <td>0.201545</td>\n",
       "      <td>0.009613</td>\n",
       "      <td>0.323865</td>\n",
       "      <td>0.243182</td>\n",
       "      <td>0.263326</td>\n",
       "      <td>0.173408</td>\n",
       "      <td>0.145326</td>\n",
       "    </tr>\n",
       "    <tr>\n",
       "      <th>std</th>\n",
       "      <td>2.855294</td>\n",
       "      <td>0.498284</td>\n",
       "      <td>0.499195</td>\n",
       "      <td>22.497576</td>\n",
       "      <td>11.803348</td>\n",
       "      <td>0.496747</td>\n",
       "      <td>0.490001</td>\n",
       "      <td>0.421193</td>\n",
       "      <td>0.497366</td>\n",
       "      <td>0.328161</td>\n",
       "      <td>...</td>\n",
       "      <td>0.441172</td>\n",
       "      <td>0.452821</td>\n",
       "      <td>0.442942</td>\n",
       "      <td>0.401165</td>\n",
       "      <td>0.097575</td>\n",
       "      <td>0.467962</td>\n",
       "      <td>0.429016</td>\n",
       "      <td>0.440449</td>\n",
       "      <td>0.378610</td>\n",
       "      <td>0.352439</td>\n",
       "    </tr>\n",
       "    <tr>\n",
       "      <th>min</th>\n",
       "      <td>2006.000000</td>\n",
       "      <td>0.000000</td>\n",
       "      <td>0.000000</td>\n",
       "      <td>1.000000</td>\n",
       "      <td>0.000000</td>\n",
       "      <td>0.000000</td>\n",
       "      <td>0.000000</td>\n",
       "      <td>0.000000</td>\n",
       "      <td>0.000000</td>\n",
       "      <td>0.000000</td>\n",
       "      <td>...</td>\n",
       "      <td>0.000000</td>\n",
       "      <td>0.000000</td>\n",
       "      <td>0.000000</td>\n",
       "      <td>0.000000</td>\n",
       "      <td>0.000000</td>\n",
       "      <td>0.000000</td>\n",
       "      <td>0.000000</td>\n",
       "      <td>0.000000</td>\n",
       "      <td>0.000000</td>\n",
       "      <td>0.000000</td>\n",
       "    </tr>\n",
       "    <tr>\n",
       "      <th>25%</th>\n",
       "      <td>2015.000000</td>\n",
       "      <td>0.000000</td>\n",
       "      <td>0.000000</td>\n",
       "      <td>16.000000</td>\n",
       "      <td>0.000000</td>\n",
       "      <td>0.000000</td>\n",
       "      <td>0.000000</td>\n",
       "      <td>0.000000</td>\n",
       "      <td>0.000000</td>\n",
       "      <td>0.000000</td>\n",
       "      <td>...</td>\n",
       "      <td>0.000000</td>\n",
       "      <td>0.000000</td>\n",
       "      <td>0.000000</td>\n",
       "      <td>0.000000</td>\n",
       "      <td>0.000000</td>\n",
       "      <td>0.000000</td>\n",
       "      <td>0.000000</td>\n",
       "      <td>0.000000</td>\n",
       "      <td>0.000000</td>\n",
       "      <td>0.000000</td>\n",
       "    </tr>\n",
       "    <tr>\n",
       "      <th>50%</th>\n",
       "      <td>2016.000000</td>\n",
       "      <td>1.000000</td>\n",
       "      <td>0.000000</td>\n",
       "      <td>32.000000</td>\n",
       "      <td>0.000000</td>\n",
       "      <td>0.000000</td>\n",
       "      <td>0.000000</td>\n",
       "      <td>0.000000</td>\n",
       "      <td>0.000000</td>\n",
       "      <td>0.000000</td>\n",
       "      <td>...</td>\n",
       "      <td>0.000000</td>\n",
       "      <td>0.000000</td>\n",
       "      <td>0.000000</td>\n",
       "      <td>0.000000</td>\n",
       "      <td>0.000000</td>\n",
       "      <td>0.000000</td>\n",
       "      <td>0.000000</td>\n",
       "      <td>0.000000</td>\n",
       "      <td>0.000000</td>\n",
       "      <td>0.000000</td>\n",
       "    </tr>\n",
       "    <tr>\n",
       "      <th>75%</th>\n",
       "      <td>2018.000000</td>\n",
       "      <td>1.000000</td>\n",
       "      <td>1.000000</td>\n",
       "      <td>51.000000</td>\n",
       "      <td>18.000000</td>\n",
       "      <td>1.000000</td>\n",
       "      <td>1.000000</td>\n",
       "      <td>0.000000</td>\n",
       "      <td>1.000000</td>\n",
       "      <td>0.000000</td>\n",
       "      <td>...</td>\n",
       "      <td>1.000000</td>\n",
       "      <td>1.000000</td>\n",
       "      <td>1.000000</td>\n",
       "      <td>0.000000</td>\n",
       "      <td>0.000000</td>\n",
       "      <td>1.000000</td>\n",
       "      <td>0.000000</td>\n",
       "      <td>1.000000</td>\n",
       "      <td>0.000000</td>\n",
       "      <td>0.000000</td>\n",
       "    </tr>\n",
       "    <tr>\n",
       "      <th>max</th>\n",
       "      <td>2020.000000</td>\n",
       "      <td>1.000000</td>\n",
       "      <td>1.000000</td>\n",
       "      <td>97.000000</td>\n",
       "      <td>30.000000</td>\n",
       "      <td>1.000000</td>\n",
       "      <td>1.000000</td>\n",
       "      <td>1.000000</td>\n",
       "      <td>1.000000</td>\n",
       "      <td>1.000000</td>\n",
       "      <td>...</td>\n",
       "      <td>1.000000</td>\n",
       "      <td>1.000000</td>\n",
       "      <td>1.000000</td>\n",
       "      <td>1.000000</td>\n",
       "      <td>1.000000</td>\n",
       "      <td>1.000000</td>\n",
       "      <td>1.000000</td>\n",
       "      <td>1.000000</td>\n",
       "      <td>1.000000</td>\n",
       "      <td>1.000000</td>\n",
       "    </tr>\n",
       "  </tbody>\n",
       "</table>\n",
       "<p>8 rows × 22 columns</p>\n",
       "</div>"
      ],
      "text/plain": [
       "       Collection Year  Pathogen Test Result      Host Sex      Host Age  \\\n",
       "count     18517.000000          18517.000000  18517.000000  18517.000000   \n",
       "mean       2015.881838              0.541556      0.471405     34.079657   \n",
       "std           2.855294              0.498284      0.499195     22.497576   \n",
       "min        2006.000000              0.000000      0.000000      1.000000   \n",
       "25%        2015.000000              0.000000      0.000000     16.000000   \n",
       "50%        2016.000000              1.000000      0.000000     32.000000   \n",
       "75%        2018.000000              1.000000      1.000000     51.000000   \n",
       "max        2020.000000              1.000000      1.000000     97.000000   \n",
       "\n",
       "       Chronic Conditions         Fever        chills  conjunctivitis  \\\n",
       "count        18517.000000  18517.000000  18517.000000    18517.000000   \n",
       "mean             7.982341      0.442944      0.400443        0.230545   \n",
       "std             11.803348      0.496747      0.490001        0.421193   \n",
       "min              0.000000      0.000000      0.000000        0.000000   \n",
       "25%              0.000000      0.000000      0.000000        0.000000   \n",
       "50%              0.000000      0.000000      0.000000        0.000000   \n",
       "75%             18.000000      1.000000      1.000000        0.000000   \n",
       "max             30.000000      1.000000      1.000000        1.000000   \n",
       "\n",
       "              cough      diarrhea  ...  loss of appetite       malaise  \\\n",
       "count  18517.000000  18517.000000  ...      18517.000000  18517.000000   \n",
       "mean       0.448615      0.122752  ...          0.264676      0.287952   \n",
       "std        0.497366      0.328161  ...          0.441172      0.452821   \n",
       "min        0.000000      0.000000  ...          0.000000      0.000000   \n",
       "25%        0.000000      0.000000  ...          0.000000      0.000000   \n",
       "50%        0.000000      0.000000  ...          0.000000      0.000000   \n",
       "75%        1.000000      0.000000  ...          1.000000      1.000000   \n",
       "max        1.000000      1.000000  ...          1.000000      1.000000   \n",
       "\n",
       "            myalgia        nausea  other symptoms  running nose  short breath  \\\n",
       "count  18517.000000  18517.000000    18517.000000  18517.000000  18517.000000   \n",
       "mean       0.268024      0.201545        0.009613      0.323865      0.243182   \n",
       "std        0.442942      0.401165        0.097575      0.467962      0.429016   \n",
       "min        0.000000      0.000000        0.000000      0.000000      0.000000   \n",
       "25%        0.000000      0.000000        0.000000      0.000000      0.000000   \n",
       "50%        0.000000      0.000000        0.000000      0.000000      0.000000   \n",
       "75%        1.000000      0.000000        0.000000      1.000000      0.000000   \n",
       "max        1.000000      1.000000        1.000000      1.000000      1.000000   \n",
       "\n",
       "             throat      vomiting      wheezing  \n",
       "count  18517.000000  18517.000000  18517.000000  \n",
       "mean       0.263326      0.173408      0.145326  \n",
       "std        0.440449      0.378610      0.352439  \n",
       "min        0.000000      0.000000      0.000000  \n",
       "25%        0.000000      0.000000      0.000000  \n",
       "50%        0.000000      0.000000      0.000000  \n",
       "75%        1.000000      0.000000      0.000000  \n",
       "max        1.000000      1.000000      1.000000  \n",
       "\n",
       "[8 rows x 22 columns]"
      ]
     },
     "execution_count": 4,
     "metadata": {},
     "output_type": "execute_result"
    }
   ],
   "source": [
    "df.describe()"
   ]
  },
  {
   "cell_type": "code",
   "execution_count": 5,
   "id": "6f8c3986",
   "metadata": {},
   "outputs": [],
   "source": [
    "# Split the data into features and target variable\n",
    "X = df.drop(['Pathogen Test Result'],axis = 1)\n",
    "Y = df['Pathogen Test Result']"
   ]
  },
  {
   "cell_type": "code",
   "execution_count": 6,
   "id": "69b4ac4f",
   "metadata": {},
   "outputs": [],
   "source": [
    "# Split the data into training and testing sets\n",
    "X_train , X_test , Y_train , Y_test = train_test_split(X,Y,test_size= 0.3, random_state=2)"
   ]
  },
  {
   "cell_type": "code",
   "execution_count": 7,
   "id": "8aabb8f0",
   "metadata": {},
   "outputs": [],
   "source": [
    "st_x= StandardScaler()    \n",
    "X_train= st_x.fit_transform(X_train)    \n",
    "X_test= st_x.transform(X_test)    "
   ]
  },
  {
   "cell_type": "code",
   "execution_count": 8,
   "id": "85c82aad",
   "metadata": {},
   "outputs": [
    {
     "data": {
      "text/html": [
       "<style>#sk-container-id-1 {color: black;background-color: white;}#sk-container-id-1 pre{padding: 0;}#sk-container-id-1 div.sk-toggleable {background-color: white;}#sk-container-id-1 label.sk-toggleable__label {cursor: pointer;display: block;width: 100%;margin-bottom: 0;padding: 0.3em;box-sizing: border-box;text-align: center;}#sk-container-id-1 label.sk-toggleable__label-arrow:before {content: \"▸\";float: left;margin-right: 0.25em;color: #696969;}#sk-container-id-1 label.sk-toggleable__label-arrow:hover:before {color: black;}#sk-container-id-1 div.sk-estimator:hover label.sk-toggleable__label-arrow:before {color: black;}#sk-container-id-1 div.sk-toggleable__content {max-height: 0;max-width: 0;overflow: hidden;text-align: left;background-color: #f0f8ff;}#sk-container-id-1 div.sk-toggleable__content pre {margin: 0.2em;color: black;border-radius: 0.25em;background-color: #f0f8ff;}#sk-container-id-1 input.sk-toggleable__control:checked~div.sk-toggleable__content {max-height: 200px;max-width: 100%;overflow: auto;}#sk-container-id-1 input.sk-toggleable__control:checked~label.sk-toggleable__label-arrow:before {content: \"▾\";}#sk-container-id-1 div.sk-estimator input.sk-toggleable__control:checked~label.sk-toggleable__label {background-color: #d4ebff;}#sk-container-id-1 div.sk-label input.sk-toggleable__control:checked~label.sk-toggleable__label {background-color: #d4ebff;}#sk-container-id-1 input.sk-hidden--visually {border: 0;clip: rect(1px 1px 1px 1px);clip: rect(1px, 1px, 1px, 1px);height: 1px;margin: -1px;overflow: hidden;padding: 0;position: absolute;width: 1px;}#sk-container-id-1 div.sk-estimator {font-family: monospace;background-color: #f0f8ff;border: 1px dotted black;border-radius: 0.25em;box-sizing: border-box;margin-bottom: 0.5em;}#sk-container-id-1 div.sk-estimator:hover {background-color: #d4ebff;}#sk-container-id-1 div.sk-parallel-item::after {content: \"\";width: 100%;border-bottom: 1px solid gray;flex-grow: 1;}#sk-container-id-1 div.sk-label:hover label.sk-toggleable__label {background-color: #d4ebff;}#sk-container-id-1 div.sk-serial::before {content: \"\";position: absolute;border-left: 1px solid gray;box-sizing: border-box;top: 0;bottom: 0;left: 50%;z-index: 0;}#sk-container-id-1 div.sk-serial {display: flex;flex-direction: column;align-items: center;background-color: white;padding-right: 0.2em;padding-left: 0.2em;position: relative;}#sk-container-id-1 div.sk-item {position: relative;z-index: 1;}#sk-container-id-1 div.sk-parallel {display: flex;align-items: stretch;justify-content: center;background-color: white;position: relative;}#sk-container-id-1 div.sk-item::before, #sk-container-id-1 div.sk-parallel-item::before {content: \"\";position: absolute;border-left: 1px solid gray;box-sizing: border-box;top: 0;bottom: 0;left: 50%;z-index: -1;}#sk-container-id-1 div.sk-parallel-item {display: flex;flex-direction: column;z-index: 1;position: relative;background-color: white;}#sk-container-id-1 div.sk-parallel-item:first-child::after {align-self: flex-end;width: 50%;}#sk-container-id-1 div.sk-parallel-item:last-child::after {align-self: flex-start;width: 50%;}#sk-container-id-1 div.sk-parallel-item:only-child::after {width: 0;}#sk-container-id-1 div.sk-dashed-wrapped {border: 1px dashed gray;margin: 0 0.4em 0.5em 0.4em;box-sizing: border-box;padding-bottom: 0.4em;background-color: white;}#sk-container-id-1 div.sk-label label {font-family: monospace;font-weight: bold;display: inline-block;line-height: 1.2em;}#sk-container-id-1 div.sk-label-container {text-align: center;}#sk-container-id-1 div.sk-container {/* jupyter's `normalize.less` sets `[hidden] { display: none; }` but bootstrap.min.css set `[hidden] { display: none !important; }` so we also need the `!important` here to be able to override the default hidden behavior on the sphinx rendered scikit-learn.org. See: https://github.com/scikit-learn/scikit-learn/issues/21755 */display: inline-block !important;position: relative;}#sk-container-id-1 div.sk-text-repr-fallback {display: none;}</style><div id=\"sk-container-id-1\" class=\"sk-top-container\"><div class=\"sk-text-repr-fallback\"><pre>SVC(kernel=&#x27;linear&#x27;, random_state=2)</pre><b>In a Jupyter environment, please rerun this cell to show the HTML representation or trust the notebook. <br />On GitHub, the HTML representation is unable to render, please try loading this page with nbviewer.org.</b></div><div class=\"sk-container\" hidden><div class=\"sk-item\"><div class=\"sk-estimator sk-toggleable\"><input class=\"sk-toggleable__control sk-hidden--visually\" id=\"sk-estimator-id-1\" type=\"checkbox\" checked><label for=\"sk-estimator-id-1\" class=\"sk-toggleable__label sk-toggleable__label-arrow\">SVC</label><div class=\"sk-toggleable__content\"><pre>SVC(kernel=&#x27;linear&#x27;, random_state=2)</pre></div></div></div></div></div>"
      ],
      "text/plain": [
       "SVC(kernel='linear', random_state=2)"
      ]
     },
     "execution_count": 8,
     "metadata": {},
     "output_type": "execute_result"
    }
   ],
   "source": [
    "# Train the model on the training set\n",
    "classifier = SVC(kernel='linear', random_state=2)  \n",
    "classifier.fit(X_train, Y_train)  "
   ]
  },
  {
   "cell_type": "code",
   "execution_count": 9,
   "id": "84a1b3ad",
   "metadata": {},
   "outputs": [],
   "source": [
    "# Use the trained model to make predictions on the testing set\n",
    "y_pred = classifier.predict(X_test)  "
   ]
  },
  {
   "cell_type": "code",
   "execution_count": 10,
   "id": "54d56040",
   "metadata": {},
   "outputs": [],
   "source": [
    "cm= confusion_matrix(Y_test, y_pred)  "
   ]
  },
  {
   "cell_type": "code",
   "execution_count": 11,
   "id": "0d286155",
   "metadata": {},
   "outputs": [
    {
     "data": {
      "text/plain": [
       "array([[2022,  539],\n",
       "       [1091, 1904]], dtype=int64)"
      ]
     },
     "execution_count": 11,
     "metadata": {},
     "output_type": "execute_result"
    },
    {
     "data": {
      "image/png": "[encoded data removed]",
      "text/plain": [
       "<Figure size 640x480 with 2 Axes>"
      ]
     },
     "metadata": {},
     "output_type": "display_data"
    }
   ],
   "source": [
    "snb.heatmap(cm,annot = True)\n",
    "cm"
   ]
  },
  {
   "cell_type": "code",
   "execution_count": 12,
   "id": "6e8d1918",
   "metadata": {},
   "outputs": [
    {
     "name": "stdout",
     "output_type": "stream",
     "text": [
      "accuracy on testing Data : 70.66 %\n"
     ]
    }
   ],
   "source": [
    "score =accuracy_score(Y_test,y_pred)\n",
    "print('accuracy on testing Data :',round(score*100 ,2),'%')"
   ]
  },
  {
   "cell_type": "code",
   "execution_count": 13,
   "id": "e787d0ec",
   "metadata": {},
   "outputs": [],
   "source": [
    "y_pred2 =classifier.predict(X_train)"
   ]
  },
  {
   "cell_type": "code",
   "execution_count": 14,
   "id": "f48150f9",
   "metadata": {},
   "outputs": [
    {
     "name": "stdout",
     "output_type": "stream",
     "text": [
      "accuracy on Training Data : 71.1 %\n"
     ]
    }
   ],
   "source": [
    "score2 =accuracy_score(y_pred2, Y_train)\n",
    "print('accuracy on Training Data :',round(score2*100 ,2),'%')"
   ]
  },
  {
   "cell_type": "code",
   "execution_count": 15,
   "id": "4b041b59",
   "metadata": {},
   "outputs": [
    {
     "name": "stdout",
     "output_type": "stream",
     "text": [
      "for testing  :  77.94 %\n",
      "for training :  78.67 %\n"
     ]
    }
   ],
   "source": [
    "# precision for trainig and testing\n",
    "print('for testing  : ' , round(precision_score(Y_test , y_pred)*100,2),'%')\n",
    "print('for training : ' , round(precision_score(Y_train , y_pred2)*100,2),'%')"
   ]
  },
  {
   "cell_type": "code",
   "execution_count": 16,
   "id": "682db4cd",
   "metadata": {},
   "outputs": [
    {
     "name": "stdout",
     "output_type": "stream",
     "text": [
      "for testing  :  63.57 %\n",
      "for training :  64.13 %\n"
     ]
    }
   ],
   "source": [
    "# Recall for trainig and testing\n",
    "print('for testing  : ' , round(recall_score(Y_test , y_pred)*100,2),'%')\n",
    "print('for training : ' , round(recall_score(Y_train , y_pred2)*100,2),'%')"
   ]
  },
  {
   "cell_type": "code",
   "execution_count": 17,
   "id": "16ac0028",
   "metadata": {},
   "outputs": [
    {
     "name": "stdout",
     "output_type": "stream",
     "text": [
      "for testing  :  70.03 %\n",
      "for training :  70.66 %\n"
     ]
    }
   ],
   "source": [
    "# f1_score for trainig and testing\n",
    "print('for testing  : ' , round(f1_score(Y_test , y_pred)*100,2),'%')\n",
    "print('for training : ' , round(f1_score(Y_train , y_pred2)*100,2),'%')"
   ]
  },
  {
   "cell_type": "code",
   "execution_count": 18,
   "id": "137e2eb8",
   "metadata": {},
   "outputs": [],
   "source": [
    "# for sensitivity and specificity\n",
    "tn, fp, fn, tp = cm.ravel()"
   ]
  },
  {
   "cell_type": "code",
   "execution_count": 19,
   "id": "9fe59de2",
   "metadata": {},
   "outputs": [
    {
     "name": "stdout",
     "output_type": "stream",
     "text": [
      "specificity for data is :  78.95 %\n"
     ]
    }
   ],
   "source": [
    "specificity = tn / (tn+fp)\n",
    "print('specificity for data is : ',round(specificity*100,2),'%')"
   ]
  },
  {
   "cell_type": "code",
   "execution_count": 20,
   "id": "f7dc54ad",
   "metadata": {},
   "outputs": [
    {
     "name": "stdout",
     "output_type": "stream",
     "text": [
      "sensitivity for data is :  63.57 %\n"
     ]
    }
   ],
   "source": [
    "sensitivity = tp / (tp+fn)\n",
    "print('sensitivity for data is : ',round(sensitivity*100,2),'%')"
   ]
  },
  {
   "cell_type": "code",
   "execution_count": 21,
   "id": "568eeb2a",
   "metadata": {},
   "outputs": [],
   "source": [
    "#ROC and AUC\n",
    "fpr, tpr, threshold = roc_curve(Y_test,y_pred)\n",
    "roc_auc = auc(fpr, tpr)"
   ]
  },
  {
   "cell_type": "code",
   "execution_count": 22,
   "id": "1311e44a",
   "metadata": {},
   "outputs": [
    {
     "name": "stdout",
     "output_type": "stream",
     "text": [
      "Area under curve :  71.26 %\n"
     ]
    }
   ],
   "source": [
    "print('Area under curve : ',round(roc_auc*100,2),'%')"
   ]
  },
  {
   "cell_type": "code",
   "execution_count": 23,
   "id": "3fcfca4e",
   "metadata": {},
   "outputs": [
    {
     "data": {
      "image/png": "[encoded data removed]",
      "text/plain": [
       "<Figure size 640x480 with 1 Axes>"
      ]
     },
     "metadata": {},
     "output_type": "display_data"
    }
   ],
   "source": [
    "plt.title('Receiver Operating Characteristic')\n",
    "plt.plot(fpr, tpr, 'b', label = 'AUC = %0.2f' % roc_auc)\n",
    "plt.legend(loc = 'lower right')\n",
    "plt.plot([0, 1], [0, 1],'r--')\n",
    "plt.xlim([0, 1])\n",
    "plt.ylim([0, 1])\n",
    "plt.ylabel('True Positive Rate')\n",
    "plt.xlabel('False Positive Rate')\n",
    "plt.show()"
   ]
  },
  {
   "cell_type": "code",
   "execution_count": null,
   "id": "a68e3316",
   "metadata": {},
   "outputs": [],
   "source": []
  }
 ],
 "metadata": {
  "kernelspec": {
   "display_name": "Python 3 (ipykernel)",
   "language": "python",
   "name": "python3"
  },
  "language_info": {
   "codemirror_mode": {
    "name": "ipython",
    "version": 3
   },
   "file_extension": ".py",
   "mimetype": "text/x-python",
   "name": "python",
   "nbconvert_exporter": "python",
   "pygments_lexer": "ipython3",
   "version": "3.11.0"
  }
 },
 "nbformat": 4,
 "nbformat_minor": 5
}
