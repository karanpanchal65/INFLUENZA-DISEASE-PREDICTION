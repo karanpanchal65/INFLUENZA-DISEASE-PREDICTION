{
 "cells": [
  {
   "cell_type": "code",
   "execution_count": 1,
   "id": "ae4c3c8b",
   "metadata": {},
   "outputs": [
    {
     "data": {
      "image/png": "[encoded data removed]",
      "text/plain": [
       "<Figure size 800x600 with 1 Axes>"
      ]
     },
     "metadata": {},
     "output_type": "display_data"
    }
   ],
   "source": [
    "import pandas as pd \n",
    "from sklearn.model_selection import train_test_split  \n",
    "from sklearn.svm import SVC\n",
    "from sklearn.model_selection import train_test_split\n",
    "from keras.models import Sequential\n",
    "from keras.layers import Dense\n",
    "from sklearn.model_selection import train_test_split  \n",
    "from sklearn.metrics import confusion_matrix , classification_report \n",
    "from sklearn.neighbors import KNeighborsClassifier\n",
    "from sklearn.ensemble import RandomForestClassifier\n",
    "from sklearn.neural_network import MLPClassifier\n",
    "from sklearn.preprocessing import StandardScaler\n",
    "from sklearn.metrics import confusion_matrix  \n",
    "from sklearn.metrics import accuracy_score\n",
    "from sklearn.metrics import precision_score , recall_score , f1_score\n",
    "from sklearn.metrics import roc_curve , auc\n",
    "import matplotlib.pyplot as plt\n",
    "import numpy as np"
   ]
  },
  {
   "cell_type": "code",
   "execution_count": null,
   "id": "be1e8cb9",
   "metadata": {},
   "outputs": [],
   "source": []
  },
  {
   "cell_type": "code",
   "execution_count": 2,
   "id": "0feee29e",
   "metadata": {},
   "outputs": [],
   "source": [
    "# Load the dataset\n",
    "df = pd.read_csv('inf.csv')\n",
    "df = df.drop(['Unnamed: 0'],axis = 1)"
   ]
  },
  {
   "cell_type": "code",
   "execution_count": 3,
   "id": "e5a23d4b",
   "metadata": {},
   "outputs": [
    {
     "data": {
      "text/plain": [
       "1    10028\n",
       "0     8489\n",
       "Name: Pathogen Test Result, dtype: int64"
      ]
     },
     "execution_count": 3,
     "metadata": {},
     "output_type": "execute_result"
    }
   ],
   "source": [
    "df['Pathogen Test Result'].value_counts()"
   ]
  },
  {
   "cell_type": "code",
   "execution_count": 4,
   "id": "f3854c94",
   "metadata": {},
   "outputs": [],
   "source": [
    "# Split the data into features and target variable\n",
    "X = df.drop(['Pathogen Test Result'],axis = 1)\n",
    "Y = df['Pathogen Test Result']"
   ]
  },
  {
   "cell_type": "code",
   "execution_count": 5,
   "id": "04fa3a2a",
   "metadata": {},
   "outputs": [],
   "source": [
    "# Split the data into training and testing sets\n",
    "X_train , X_test , Y_train , Y_test = train_test_split(X,Y,test_size= 0.3, random_state=2)"
   ]
  },
  {
   "cell_type": "markdown",
   "id": "a39418f1",
   "metadata": {},
   "source": [
    "# SVM"
   ]
  },
  {
   "cell_type": "code",
   "execution_count": 6,
   "id": "cd5a991b",
   "metadata": {},
   "outputs": [],
   "source": [
    "st_x= StandardScaler()    \n",
    "X_train= st_x.fit_transform(X_train)    \n",
    "X_test= st_x.transform(X_test)    "
   ]
  },
  {
   "cell_type": "code",
   "execution_count": 7,
   "id": "1075eae1",
   "metadata": {},
   "outputs": [
    {
     "data": {
      "text/html": [
       "<style>#sk-container-id-1 {color: black;background-color: white;}#sk-container-id-1 pre{padding: 0;}#sk-container-id-1 div.sk-toggleable {background-color: white;}#sk-container-id-1 label.sk-toggleable__label {cursor: pointer;display: block;width: 100%;margin-bottom: 0;padding: 0.3em;box-sizing: border-box;text-align: center;}#sk-container-id-1 label.sk-toggleable__label-arrow:before {content: \"▸\";float: left;margin-right: 0.25em;color: #696969;}#sk-container-id-1 label.sk-toggleable__label-arrow:hover:before {color: black;}#sk-container-id-1 div.sk-estimator:hover label.sk-toggleable__label-arrow:before {color: black;}#sk-container-id-1 div.sk-toggleable__content {max-height: 0;max-width: 0;overflow: hidden;text-align: left;background-color: #f0f8ff;}#sk-container-id-1 div.sk-toggleable__content pre {margin: 0.2em;color: black;border-radius: 0.25em;background-color: #f0f8ff;}#sk-container-id-1 input.sk-toggleable__control:checked~div.sk-toggleable__content {max-height: 200px;max-width: 100%;overflow: auto;}#sk-container-id-1 input.sk-toggleable__control:checked~label.sk-toggleable__label-arrow:before {content: \"▾\";}#sk-container-id-1 div.sk-estimator input.sk-toggleable__control:checked~label.sk-toggleable__label {background-color: #d4ebff;}#sk-container-id-1 div.sk-label input.sk-toggleable__control:checked~label.sk-toggleable__label {background-color: #d4ebff;}#sk-container-id-1 input.sk-hidden--visually {border: 0;clip: rect(1px 1px 1px 1px);clip: rect(1px, 1px, 1px, 1px);height: 1px;margin: -1px;overflow: hidden;padding: 0;position: absolute;width: 1px;}#sk-container-id-1 div.sk-estimator {font-family: monospace;background-color: #f0f8ff;border: 1px dotted black;border-radius: 0.25em;box-sizing: border-box;margin-bottom: 0.5em;}#sk-container-id-1 div.sk-estimator:hover {background-color: #d4ebff;}#sk-container-id-1 div.sk-parallel-item::after {content: \"\";width: 100%;border-bottom: 1px solid gray;flex-grow: 1;}#sk-container-id-1 div.sk-label:hover label.sk-toggleable__label {background-color: #d4ebff;}#sk-container-id-1 div.sk-serial::before {content: \"\";position: absolute;border-left: 1px solid gray;box-sizing: border-box;top: 0;bottom: 0;left: 50%;z-index: 0;}#sk-container-id-1 div.sk-serial {display: flex;flex-direction: column;align-items: center;background-color: white;padding-right: 0.2em;padding-left: 0.2em;position: relative;}#sk-container-id-1 div.sk-item {position: relative;z-index: 1;}#sk-container-id-1 div.sk-parallel {display: flex;align-items: stretch;justify-content: center;background-color: white;position: relative;}#sk-container-id-1 div.sk-item::before, #sk-container-id-1 div.sk-parallel-item::before {content: \"\";position: absolute;border-left: 1px solid gray;box-sizing: border-box;top: 0;bottom: 0;left: 50%;z-index: -1;}#sk-container-id-1 div.sk-parallel-item {display: flex;flex-direction: column;z-index: 1;position: relative;background-color: white;}#sk-container-id-1 div.sk-parallel-item:first-child::after {align-self: flex-end;width: 50%;}#sk-container-id-1 div.sk-parallel-item:last-child::after {align-self: flex-start;width: 50%;}#sk-container-id-1 div.sk-parallel-item:only-child::after {width: 0;}#sk-container-id-1 div.sk-dashed-wrapped {border: 1px dashed gray;margin: 0 0.4em 0.5em 0.4em;box-sizing: border-box;padding-bottom: 0.4em;background-color: white;}#sk-container-id-1 div.sk-label label {font-family: monospace;font-weight: bold;display: inline-block;line-height: 1.2em;}#sk-container-id-1 div.sk-label-container {text-align: center;}#sk-container-id-1 div.sk-container {/* jupyter's `normalize.less` sets `[hidden] { display: none; }` but bootstrap.min.css set `[hidden] { display: none !important; }` so we also need the `!important` here to be able to override the default hidden behavior on the sphinx rendered scikit-learn.org. See: https://github.com/scikit-learn/scikit-learn/issues/21755 */display: inline-block !important;position: relative;}#sk-container-id-1 div.sk-text-repr-fallback {display: none;}</style><div id=\"sk-container-id-1\" class=\"sk-top-container\"><div class=\"sk-text-repr-fallback\"><pre>SVC(kernel=&#x27;linear&#x27;, random_state=2)</pre><b>In a Jupyter environment, please rerun this cell to show the HTML representation or trust the notebook. <br />On GitHub, the HTML representation is unable to render, please try loading this page with nbviewer.org.</b></div><div class=\"sk-container\" hidden><div class=\"sk-item\"><div class=\"sk-estimator sk-toggleable\"><input class=\"sk-toggleable__control sk-hidden--visually\" id=\"sk-estimator-id-1\" type=\"checkbox\" checked><label for=\"sk-estimator-id-1\" class=\"sk-toggleable__label sk-toggleable__label-arrow\">SVC</label><div class=\"sk-toggleable__content\"><pre>SVC(kernel=&#x27;linear&#x27;, random_state=2)</pre></div></div></div></div></div>"
      ],
      "text/plain": [
       "SVC(kernel='linear', random_state=2)"
      ]
     },
     "execution_count": 7,
     "metadata": {},
     "output_type": "execute_result"
    }
   ],
   "source": [
    "# Train the model on the training set\n",
    "classifier_svm = SVC(kernel='linear', random_state=2)  \n",
    "classifier_svm.fit(X_train, Y_train)  "
   ]
  },
  {
   "cell_type": "code",
   "execution_count": 8,
   "id": "0d64923d",
   "metadata": {},
   "outputs": [],
   "source": [
    "# Use the trained model to make predictions on the testing set\n",
    "y_pred = classifier_svm.predict(X_test)  \n",
    "cm= confusion_matrix(Y_test, y_pred)  "
   ]
  },
  {
   "cell_type": "code",
   "execution_count": 9,
   "id": "7ad37e7b",
   "metadata": {},
   "outputs": [
    {
     "name": "stdout",
     "output_type": "stream",
     "text": [
      "accuracy on testing Data : 70.66 %\n"
     ]
    }
   ],
   "source": [
    "score =accuracy_score(Y_test,y_pred)\n",
    "print('accuracy on testing Data :',round(score*100 ,2),'%')"
   ]
  },
  {
   "cell_type": "code",
   "execution_count": 10,
   "id": "0e04a729",
   "metadata": {},
   "outputs": [
    {
     "name": "stdout",
     "output_type": "stream",
     "text": [
      "for testing  :  77.94 %\n"
     ]
    }
   ],
   "source": [
    "print('for testing  : ' , round(precision_score(Y_test , y_pred)*100,2),'%')"
   ]
  },
  {
   "cell_type": "code",
   "execution_count": 11,
   "id": "fcb6c40a",
   "metadata": {},
   "outputs": [
    {
     "name": "stdout",
     "output_type": "stream",
     "text": [
      "for testing  :  63.57 %\n"
     ]
    }
   ],
   "source": [
    "print('for testing  : ' , round(recall_score(Y_test , y_pred)*100,2),'%')"
   ]
  },
  {
   "cell_type": "code",
   "execution_count": 12,
   "id": "389d2fe1",
   "metadata": {},
   "outputs": [
    {
     "name": "stdout",
     "output_type": "stream",
     "text": [
      "for testing  :  70.03 %\n"
     ]
    }
   ],
   "source": [
    "print('for testing  : ' , round(f1_score(Y_test , y_pred)*100,2),'%')"
   ]
  },
  {
   "cell_type": "code",
   "execution_count": 13,
   "id": "00ca1a59",
   "metadata": {},
   "outputs": [],
   "source": [
    "# for sensitivity and specificity\n",
    "tn_svm, fp_svm, fn_svm, tp_svm = cm.ravel()"
   ]
  },
  {
   "cell_type": "code",
   "execution_count": 14,
   "id": "45a02289",
   "metadata": {},
   "outputs": [
    {
     "name": "stdout",
     "output_type": "stream",
     "text": [
      "specificity for data is :  78.95 %\n"
     ]
    }
   ],
   "source": [
    "specificity_svm = tn_svm/ (tn_svm+fp_svm)\n",
    "print('specificity for data is : ',round(specificity_svm*100,2),'%')"
   ]
  },
  {
   "cell_type": "code",
   "execution_count": 15,
   "id": "18019fcb",
   "metadata": {},
   "outputs": [
    {
     "name": "stdout",
     "output_type": "stream",
     "text": [
      "sensitivity for data is :  63.57 %\n"
     ]
    }
   ],
   "source": [
    "sensitivity_svm = tp_svm / (tp_svm+fn_svm)\n",
    "print('sensitivity for data is : ',round(sensitivity_svm*100,2),'%')"
   ]
  },
  {
   "cell_type": "code",
   "execution_count": 16,
   "id": "6884c7b1",
   "metadata": {},
   "outputs": [],
   "source": [
    "#ROC and AUC\n",
    "fpr_svm, tpr_svm, threshold_svm = roc_curve(Y_test,y_pred)\n",
    "roc_auc_svm = auc(fpr_svm, tpr_svm)"
   ]
  },
  {
   "cell_type": "code",
   "execution_count": 17,
   "id": "20108e1d",
   "metadata": {},
   "outputs": [
    {
     "name": "stdout",
     "output_type": "stream",
     "text": [
      "Area under curve :  71.26 %\n"
     ]
    }
   ],
   "source": [
    "print('Area under curve : ',round(roc_auc_svm*100,2),'%')"
   ]
  },
  {
   "cell_type": "code",
   "execution_count": 18,
   "id": "a2092b87",
   "metadata": {},
   "outputs": [
    {
     "data": {
      "text/plain": [
       "[<matplotlib.lines.Line2D at 0x1c37ad61690>]"
      ]
     },
     "execution_count": 18,
     "metadata": {},
     "output_type": "execute_result"
    }
   ],
   "source": [
    "ax.plot(fpr_svm, tpr_svm, 'b', label = 'AUC = %0.2f' % roc_auc_svm)"
   ]
  },
  {
   "cell_type": "markdown",
   "id": "ca817973",
   "metadata": {},
   "source": [
    "# ANN"
   ]
  },
  {
   "cell_type": "code",
   "execution_count": 19,
   "id": "1cbd4a81",
   "metadata": {},
   "outputs": [],
   "source": [
    "# Split the data into training and testing sets\n",
    "X_train_ann , X_test_ann , Y_train_ann , Y_test_ann = train_test_split(X,Y,test_size= 0.3, random_state=2)"
   ]
  },
  {
   "cell_type": "code",
   "execution_count": 20,
   "id": "ee121833",
   "metadata": {},
   "outputs": [],
   "source": [
    "# Create a neural network model\n",
    "model = Sequential()\n",
    "model.add(Dense(16, input_dim=X_train_ann.shape[1], activation='relu'))\n",
    "model.add(Dense(8, activation='relu'))\n",
    "model.add(Dense(1, activation='sigmoid'))"
   ]
  },
  {
   "cell_type": "code",
   "execution_count": 21,
   "id": "c752ab8d",
   "metadata": {},
   "outputs": [],
   "source": [
    "# Compile the model\n",
    "model.compile(loss='binary_crossentropy', optimizer='adam', metrics=['accuracy'])"
   ]
  },
  {
   "cell_type": "code",
   "execution_count": 22,
   "id": "277d9d93",
   "metadata": {},
   "outputs": [
    {
     "name": "stdout",
     "output_type": "stream",
     "text": [
      "Epoch 1/100\n",
      "406/406 [==============================] - 1s 1ms/step - loss: 63.6264 - accuracy: 0.5151\n",
      "Epoch 2/100\n",
      "406/406 [==============================] - 1s 1ms/step - loss: 0.8011 - accuracy: 0.5199\n",
      "Epoch 3/100\n",
      "406/406 [==============================] - 1s 1ms/step - loss: 0.7785 - accuracy: 0.5280\n",
      "Epoch 4/100\n",
      "406/406 [==============================] - 1s 1ms/step - loss: 0.8650 - accuracy: 0.5217\n",
      "Epoch 5/100\n",
      "406/406 [==============================] - 1s 1ms/step - loss: 0.7970 - accuracy: 0.5307\n",
      "Epoch 6/100\n",
      "406/406 [==============================] - 0s 1ms/step - loss: 0.8217 - accuracy: 0.5270\n",
      "Epoch 7/100\n",
      "406/406 [==============================] - 0s 1ms/step - loss: 0.8122 - accuracy: 0.5308\n",
      "Epoch 8/100\n",
      "406/406 [==============================] - 0s 1ms/step - loss: 0.8311 - accuracy: 0.5390\n",
      "Epoch 9/100\n",
      "406/406 [==============================] - 1s 1ms/step - loss: 0.8026 - accuracy: 0.5358\n",
      "Epoch 10/100\n",
      "406/406 [==============================] - 1s 2ms/step - loss: 0.8565 - accuracy: 0.5321\n",
      "Epoch 11/100\n",
      "406/406 [==============================] - 1s 2ms/step - loss: 0.8248 - accuracy: 0.5265\n",
      "Epoch 12/100\n",
      "406/406 [==============================] - 1s 2ms/step - loss: 0.8232 - accuracy: 0.5405\n",
      "Epoch 13/100\n",
      "406/406 [==============================] - 1s 1ms/step - loss: 0.7865 - accuracy: 0.5332\n",
      "Epoch 14/100\n",
      "406/406 [==============================] - 1s 1ms/step - loss: 0.8072 - accuracy: 0.5432\n",
      "Epoch 15/100\n",
      "406/406 [==============================] - 0s 1ms/step - loss: 0.8562 - accuracy: 0.5416\n",
      "Epoch 16/100\n",
      "406/406 [==============================] - 0s 1ms/step - loss: 0.7818 - accuracy: 0.5417\n",
      "Epoch 17/100\n",
      "406/406 [==============================] - 0s 1ms/step - loss: 0.7964 - accuracy: 0.5464\n",
      "Epoch 18/100\n",
      "406/406 [==============================] - 0s 1ms/step - loss: 0.7929 - accuracy: 0.5456\n",
      "Epoch 19/100\n",
      "406/406 [==============================] - 1s 2ms/step - loss: 0.8593 - accuracy: 0.5378\n",
      "Epoch 20/100\n",
      "406/406 [==============================] - 1s 2ms/step - loss: 0.8165 - accuracy: 0.5405\n",
      "Epoch 21/100\n",
      "406/406 [==============================] - 1s 2ms/step - loss: 0.7885 - accuracy: 0.5449\n",
      "Epoch 22/100\n",
      "406/406 [==============================] - 1s 1ms/step - loss: 0.8173 - accuracy: 0.5324\n",
      "Epoch 23/100\n",
      "406/406 [==============================] - 0s 1ms/step - loss: 0.8105 - accuracy: 0.5434\n",
      "Epoch 24/100\n",
      "406/406 [==============================] - 1s 1ms/step - loss: 0.7537 - accuracy: 0.5448\n",
      "Epoch 25/100\n",
      "406/406 [==============================] - 0s 1ms/step - loss: 0.8048 - accuracy: 0.5466\n",
      "Epoch 26/100\n",
      "406/406 [==============================] - 0s 1ms/step - loss: 0.8256 - accuracy: 0.5361\n",
      "Epoch 27/100\n",
      "406/406 [==============================] - 1s 1ms/step - loss: 0.7962 - accuracy: 0.5477\n",
      "Epoch 28/100\n",
      "406/406 [==============================] - 0s 1ms/step - loss: 0.7882 - accuracy: 0.5484\n",
      "Epoch 29/100\n",
      "406/406 [==============================] - 0s 1ms/step - loss: 0.8620 - accuracy: 0.5391\n",
      "Epoch 30/100\n",
      "406/406 [==============================] - 0s 1ms/step - loss: 0.8069 - accuracy: 0.5408\n",
      "Epoch 31/100\n",
      "406/406 [==============================] - 0s 1ms/step - loss: 0.8044 - accuracy: 0.5415\n",
      "Epoch 32/100\n",
      "406/406 [==============================] - 0s 1ms/step - loss: 0.7496 - accuracy: 0.5497\n",
      "Epoch 33/100\n",
      "406/406 [==============================] - 0s 1ms/step - loss: 0.7612 - accuracy: 0.5512\n",
      "Epoch 34/100\n",
      "406/406 [==============================] - 0s 1ms/step - loss: 0.8301 - accuracy: 0.5372\n",
      "Epoch 35/100\n",
      "406/406 [==============================] - 0s 1ms/step - loss: 0.7978 - accuracy: 0.5458\n",
      "Epoch 36/100\n",
      "406/406 [==============================] - 1s 1ms/step - loss: 0.7851 - accuracy: 0.5435\n",
      "Epoch 37/100\n",
      "406/406 [==============================] - 0s 1ms/step - loss: 0.8118 - accuracy: 0.5453\n",
      "Epoch 38/100\n",
      "406/406 [==============================] - 0s 1ms/step - loss: 0.8341 - accuracy: 0.5385\n",
      "Epoch 39/100\n",
      "406/406 [==============================] - 0s 1ms/step - loss: 0.8278 - accuracy: 0.5415\n",
      "Epoch 40/100\n",
      "406/406 [==============================] - 0s 1ms/step - loss: 0.8415 - accuracy: 0.5442\n",
      "Epoch 41/100\n",
      "406/406 [==============================] - 1s 2ms/step - loss: 0.7856 - accuracy: 0.5478\n",
      "Epoch 42/100\n",
      "406/406 [==============================] - 1s 2ms/step - loss: 0.7925 - accuracy: 0.5472\n",
      "Epoch 43/100\n",
      "406/406 [==============================] - 1s 1ms/step - loss: 0.8121 - accuracy: 0.5476\n",
      "Epoch 44/100\n",
      "406/406 [==============================] - 0s 1ms/step - loss: 0.7476 - accuracy: 0.5538\n",
      "Epoch 45/100\n",
      "406/406 [==============================] - 0s 1ms/step - loss: 0.7645 - accuracy: 0.5506\n",
      "Epoch 46/100\n",
      "406/406 [==============================] - 0s 1ms/step - loss: 0.8699 - accuracy: 0.5447\n",
      "Epoch 47/100\n",
      "406/406 [==============================] - 0s 1ms/step - loss: 0.8547 - accuracy: 0.5424\n",
      "Epoch 48/100\n",
      "406/406 [==============================] - 0s 1ms/step - loss: 0.7627 - accuracy: 0.5473\n",
      "Epoch 49/100\n",
      "406/406 [==============================] - 0s 1ms/step - loss: 0.7715 - accuracy: 0.5430\n",
      "Epoch 50/100\n",
      "406/406 [==============================] - 1s 1ms/step - loss: 0.7713 - accuracy: 0.5490\n",
      "Epoch 51/100\n",
      "406/406 [==============================] - 0s 1ms/step - loss: 0.8029 - accuracy: 0.5552\n",
      "Epoch 52/100\n",
      "406/406 [==============================] - 0s 1ms/step - loss: 0.8078 - accuracy: 0.5454\n",
      "Epoch 53/100\n",
      "406/406 [==============================] - 0s 1ms/step - loss: 0.7450 - accuracy: 0.5527\n",
      "Epoch 54/100\n",
      "406/406 [==============================] - 0s 1ms/step - loss: 0.7855 - accuracy: 0.5436\n",
      "Epoch 55/100\n",
      "406/406 [==============================] - 0s 1ms/step - loss: 0.8232 - accuracy: 0.5399\n",
      "Epoch 56/100\n",
      "406/406 [==============================] - 0s 1ms/step - loss: 0.7841 - accuracy: 0.5447\n",
      "Epoch 57/100\n",
      "406/406 [==============================] - 0s 1ms/step - loss: 0.7470 - accuracy: 0.5503\n",
      "Epoch 58/100\n",
      "406/406 [==============================] - 0s 1ms/step - loss: 0.7698 - accuracy: 0.5437\n",
      "Epoch 59/100\n",
      "406/406 [==============================] - 0s 1ms/step - loss: 0.7480 - accuracy: 0.5530\n",
      "Epoch 60/100\n",
      "406/406 [==============================] - 1s 1ms/step - loss: 0.7605 - accuracy: 0.5474\n",
      "Epoch 61/100\n",
      "406/406 [==============================] - 1s 2ms/step - loss: 0.8075 - accuracy: 0.5455\n",
      "Epoch 62/100\n",
      "406/406 [==============================] - 1s 2ms/step - loss: 0.7523 - accuracy: 0.5501\n",
      "Epoch 63/100\n",
      "406/406 [==============================] - 0s 1ms/step - loss: 0.8514 - accuracy: 0.5449\n",
      "Epoch 64/100\n",
      "406/406 [==============================] - 0s 1ms/step - loss: 0.8164 - accuracy: 0.5513\n",
      "Epoch 65/100\n",
      "406/406 [==============================] - 1s 1ms/step - loss: 0.8177 - accuracy: 0.5449\n",
      "Epoch 66/100\n",
      "406/406 [==============================] - 1s 1ms/step - loss: 0.7571 - accuracy: 0.5517\n",
      "Epoch 67/100\n",
      "406/406 [==============================] - 1s 1ms/step - loss: 0.7613 - accuracy: 0.5522\n",
      "Epoch 68/100\n",
      "406/406 [==============================] - 1s 1ms/step - loss: 0.7957 - accuracy: 0.5442\n",
      "Epoch 69/100\n",
      "406/406 [==============================] - 1s 1ms/step - loss: 0.7478 - accuracy: 0.5554\n",
      "Epoch 70/100\n",
      "406/406 [==============================] - 1s 1ms/step - loss: 0.7737 - accuracy: 0.5525\n",
      "Epoch 71/100\n",
      "406/406 [==============================] - 1s 1ms/step - loss: 0.7607 - accuracy: 0.5519\n",
      "Epoch 72/100\n",
      "406/406 [==============================] - 1s 1ms/step - loss: 0.7922 - accuracy: 0.5488\n",
      "Epoch 73/100\n",
      "406/406 [==============================] - 1s 1ms/step - loss: 0.7980 - accuracy: 0.5510\n",
      "Epoch 74/100\n",
      "406/406 [==============================] - 0s 1ms/step - loss: 0.7639 - accuracy: 0.5555\n",
      "Epoch 75/100\n",
      "406/406 [==============================] - 0s 1ms/step - loss: 0.7643 - accuracy: 0.5539\n",
      "Epoch 76/100\n",
      "406/406 [==============================] - 0s 1ms/step - loss: 0.7941 - accuracy: 0.5425\n",
      "Epoch 77/100\n",
      "406/406 [==============================] - 0s 1ms/step - loss: 0.7878 - accuracy: 0.5421\n",
      "Epoch 78/100\n",
      "406/406 [==============================] - 1s 1ms/step - loss: 0.7708 - accuracy: 0.5469\n",
      "Epoch 79/100\n",
      "406/406 [==============================] - 1s 1ms/step - loss: 0.7639 - accuracy: 0.5456\n",
      "Epoch 80/100\n",
      "406/406 [==============================] - 1s 1ms/step - loss: 0.7601 - accuracy: 0.5502\n",
      "Epoch 81/100\n"
     ]
    },
    {
     "name": "stdout",
     "output_type": "stream",
     "text": [
      "406/406 [==============================] - 1s 1ms/step - loss: 0.7654 - accuracy: 0.5459\n",
      "Epoch 82/100\n",
      "406/406 [==============================] - 1s 1ms/step - loss: 0.7821 - accuracy: 0.5460\n",
      "Epoch 83/100\n",
      "406/406 [==============================] - 1s 1ms/step - loss: 0.8057 - accuracy: 0.5458\n",
      "Epoch 84/100\n",
      "406/406 [==============================] - 1s 1ms/step - loss: 0.7670 - accuracy: 0.5476\n",
      "Epoch 85/100\n",
      "406/406 [==============================] - 1s 1ms/step - loss: 0.7767 - accuracy: 0.5419\n",
      "Epoch 86/100\n",
      "406/406 [==============================] - 1s 1ms/step - loss: 0.7427 - accuracy: 0.5574\n",
      "Epoch 87/100\n",
      "406/406 [==============================] - 1s 1ms/step - loss: 0.7909 - accuracy: 0.5426\n",
      "Epoch 88/100\n",
      "406/406 [==============================] - 1s 1ms/step - loss: 0.7591 - accuracy: 0.5510\n",
      "Epoch 89/100\n",
      "406/406 [==============================] - 1s 1ms/step - loss: 0.7852 - accuracy: 0.5545\n",
      "Epoch 90/100\n",
      "406/406 [==============================] - 1s 2ms/step - loss: 0.7751 - accuracy: 0.5571\n",
      "Epoch 91/100\n",
      "406/406 [==============================] - 1s 1ms/step - loss: 0.7557 - accuracy: 0.5539\n",
      "Epoch 92/100\n",
      "406/406 [==============================] - 1s 2ms/step - loss: 0.7466 - accuracy: 0.5571\n",
      "Epoch 93/100\n",
      "406/406 [==============================] - 1s 2ms/step - loss: 0.7796 - accuracy: 0.5418\n",
      "Epoch 94/100\n",
      "406/406 [==============================] - 1s 2ms/step - loss: 0.7957 - accuracy: 0.5452\n",
      "Epoch 95/100\n",
      "406/406 [==============================] - 1s 1ms/step - loss: 0.7721 - accuracy: 0.5529\n",
      "Epoch 96/100\n",
      "406/406 [==============================] - 1s 1ms/step - loss: 0.7662 - accuracy: 0.5503\n",
      "Epoch 97/100\n",
      "406/406 [==============================] - 1s 1ms/step - loss: 0.7412 - accuracy: 0.5532\n",
      "Epoch 98/100\n",
      "406/406 [==============================] - 1s 1ms/step - loss: 0.7710 - accuracy: 0.5435\n",
      "Epoch 99/100\n",
      "406/406 [==============================] - 1s 1ms/step - loss: 0.7740 - accuracy: 0.5523\n",
      "Epoch 100/100\n",
      "406/406 [==============================] - 1s 1ms/step - loss: 0.7496 - accuracy: 0.5500\n"
     ]
    },
    {
     "data": {
      "text/plain": [
       "<keras.callbacks.History at 0x1c378822c10>"
      ]
     },
     "execution_count": 22,
     "metadata": {},
     "output_type": "execute_result"
    }
   ],
   "source": [
    "# Train the model on the training set\n",
    "model.fit(X_train_ann , Y_train_ann, epochs=100, batch_size=32)"
   ]
  },
  {
   "cell_type": "code",
   "execution_count": 23,
   "id": "6c240897",
   "metadata": {},
   "outputs": [
    {
     "name": "stdout",
     "output_type": "stream",
     "text": [
      "174/174 [==============================] - 0s 1ms/step\n"
     ]
    }
   ],
   "source": [
    "# Use the trained model to make predictions on the testing set\n",
    "y_pred_ann = model.predict(X_test_ann)\n",
    "y_pred_ann = np.round(y_pred_ann)"
   ]
  },
  {
   "cell_type": "code",
   "execution_count": 24,
   "id": "1dec4c76",
   "metadata": {},
   "outputs": [
    {
     "name": "stdout",
     "output_type": "stream",
     "text": [
      "406/406 [==============================] - 0s 1ms/step\n"
     ]
    }
   ],
   "source": [
    "y_pred2_ann = model.predict(X_train_ann)\n",
    "y_pred2_ann = np.round(y_pred_ann)"
   ]
  },
  {
   "cell_type": "code",
   "execution_count": 25,
   "id": "b1d0464a",
   "metadata": {},
   "outputs": [
    {
     "name": "stdout",
     "output_type": "stream",
     "text": [
      "Accuracy: 47.46 %\n"
     ]
    }
   ],
   "source": [
    "# Evaluate the accuracy of the model\n",
    "accuracy_ann = accuracy_score(Y_test_ann, y_pred_ann)\n",
    "print(\"Accuracy:\", round(accuracy_ann*100,2),'%')"
   ]
  },
  {
   "cell_type": "code",
   "execution_count": 26,
   "id": "4fbe9c83",
   "metadata": {},
   "outputs": [],
   "source": [
    "cm_ann = confusion_matrix(Y_test, y_pred_ann)"
   ]
  },
  {
   "cell_type": "code",
   "execution_count": null,
   "id": "7fab578c",
   "metadata": {},
   "outputs": [],
   "source": []
  },
  {
   "cell_type": "code",
   "execution_count": 27,
   "id": "a0b69a1f",
   "metadata": {},
   "outputs": [
    {
     "name": "stdout",
     "output_type": "stream",
     "text": [
      "for testing :  97.5 %\n"
     ]
    }
   ],
   "source": [
    "# precision for testing\n",
    "print('for testing : ' , round(precision_score(Y_test_ann , y_pred_ann)*100,2),'%')"
   ]
  },
  {
   "cell_type": "code",
   "execution_count": 28,
   "id": "b48c6d74",
   "metadata": {},
   "outputs": [
    {
     "name": "stdout",
     "output_type": "stream",
     "text": [
      "for testing :  2.6 %\n"
     ]
    }
   ],
   "source": [
    "# Recall for testing \n",
    "print('for testing : ' , round(recall_score(Y_test_ann , y_pred_ann)*100,2),'%')"
   ]
  },
  {
   "cell_type": "code",
   "execution_count": 29,
   "id": "f7b71477",
   "metadata": {},
   "outputs": [
    {
     "name": "stdout",
     "output_type": "stream",
     "text": [
      "for testing :  5.07 %\n"
     ]
    }
   ],
   "source": [
    "# f1_score for testing \n",
    "print('for testing : ' , round(f1_score(Y_test_ann , y_pred_ann)*100,2),'%')"
   ]
  },
  {
   "cell_type": "code",
   "execution_count": 30,
   "id": "252c70f6",
   "metadata": {},
   "outputs": [],
   "source": [
    "# for sensitivity and specificity\n",
    "tn_ann, fp_ann, fn_ann, tp_ann = cm_ann.ravel()"
   ]
  },
  {
   "cell_type": "code",
   "execution_count": 31,
   "id": "0d2b467c",
   "metadata": {},
   "outputs": [
    {
     "name": "stdout",
     "output_type": "stream",
     "text": [
      "specificity for data is :  99.92 %\n"
     ]
    }
   ],
   "source": [
    "specificity = tn_ann / (tn_ann+fp_ann)\n",
    "print('specificity for data is : ',round(specificity*100,2),'%')"
   ]
  },
  {
   "cell_type": "code",
   "execution_count": 32,
   "id": "2b7e70be",
   "metadata": {},
   "outputs": [
    {
     "name": "stdout",
     "output_type": "stream",
     "text": [
      "sensitivity for data is :  2.6 %\n"
     ]
    }
   ],
   "source": [
    "sensitivity = tp_ann / (tp_ann+fn_ann)\n",
    "print('sensitivity for data is : ',round(sensitivity*100,2),'%')"
   ]
  },
  {
   "cell_type": "code",
   "execution_count": 33,
   "id": "d06bc98b",
   "metadata": {},
   "outputs": [],
   "source": [
    "#ROC and AUC\n",
    "fpr_ann, tpr_ann, threshold_ann = roc_curve(Y_test_ann,y_pred_ann)\n",
    "roc_auc_ann = auc(fpr_ann, tpr_ann)"
   ]
  },
  {
   "cell_type": "code",
   "execution_count": 34,
   "id": "117af6f3",
   "metadata": {},
   "outputs": [
    {
     "name": "stdout",
     "output_type": "stream",
     "text": [
      "Area under curve :  51.26 %\n"
     ]
    }
   ],
   "source": [
    "print('Area under curve : ',round(roc_auc_ann*100,2),'%')"
   ]
  },
  {
   "cell_type": "code",
   "execution_count": 35,
   "id": "67fa504f",
   "metadata": {},
   "outputs": [
    {
     "data": {
      "text/plain": [
       "[<matplotlib.lines.Line2D at 0x1c37882fd10>]"
      ]
     },
     "execution_count": 35,
     "metadata": {},
     "output_type": "execute_result"
    }
   ],
   "source": [
    "\n",
    "ax.plot(fpr_ann, tpr_ann, 'b', label = 'AUC = %0.2f' % roc_auc_ann)\n"
   ]
  },
  {
   "cell_type": "markdown",
   "id": "9012428d",
   "metadata": {},
   "source": [
    "# RANDOM FOREST "
   ]
  },
  {
   "cell_type": "code",
   "execution_count": 36,
   "id": "988d7b1d",
   "metadata": {},
   "outputs": [],
   "source": [
    "# Create a random forest classifier object with 100 trees\n",
    "rf = RandomForestClassifier(n_estimators=100)"
   ]
  },
  {
   "cell_type": "code",
   "execution_count": 37,
   "id": "8748bc78",
   "metadata": {},
   "outputs": [
    {
     "data": {
      "text/html": [
       "<style>#sk-container-id-2 {color: black;background-color: white;}#sk-container-id-2 pre{padding: 0;}#sk-container-id-2 div.sk-toggleable {background-color: white;}#sk-container-id-2 label.sk-toggleable__label {cursor: pointer;display: block;width: 100%;margin-bottom: 0;padding: 0.3em;box-sizing: border-box;text-align: center;}#sk-container-id-2 label.sk-toggleable__label-arrow:before {content: \"▸\";float: left;margin-right: 0.25em;color: #696969;}#sk-container-id-2 label.sk-toggleable__label-arrow:hover:before {color: black;}#sk-container-id-2 div.sk-estimator:hover label.sk-toggleable__label-arrow:before {color: black;}#sk-container-id-2 div.sk-toggleable__content {max-height: 0;max-width: 0;overflow: hidden;text-align: left;background-color: #f0f8ff;}#sk-container-id-2 div.sk-toggleable__content pre {margin: 0.2em;color: black;border-radius: 0.25em;background-color: #f0f8ff;}#sk-container-id-2 input.sk-toggleable__control:checked~div.sk-toggleable__content {max-height: 200px;max-width: 100%;overflow: auto;}#sk-container-id-2 input.sk-toggleable__control:checked~label.sk-toggleable__label-arrow:before {content: \"▾\";}#sk-container-id-2 div.sk-estimator input.sk-toggleable__control:checked~label.sk-toggleable__label {background-color: #d4ebff;}#sk-container-id-2 div.sk-label input.sk-toggleable__control:checked~label.sk-toggleable__label {background-color: #d4ebff;}#sk-container-id-2 input.sk-hidden--visually {border: 0;clip: rect(1px 1px 1px 1px);clip: rect(1px, 1px, 1px, 1px);height: 1px;margin: -1px;overflow: hidden;padding: 0;position: absolute;width: 1px;}#sk-container-id-2 div.sk-estimator {font-family: monospace;background-color: #f0f8ff;border: 1px dotted black;border-radius: 0.25em;box-sizing: border-box;margin-bottom: 0.5em;}#sk-container-id-2 div.sk-estimator:hover {background-color: #d4ebff;}#sk-container-id-2 div.sk-parallel-item::after {content: \"\";width: 100%;border-bottom: 1px solid gray;flex-grow: 1;}#sk-container-id-2 div.sk-label:hover label.sk-toggleable__label {background-color: #d4ebff;}#sk-container-id-2 div.sk-serial::before {content: \"\";position: absolute;border-left: 1px solid gray;box-sizing: border-box;top: 0;bottom: 0;left: 50%;z-index: 0;}#sk-container-id-2 div.sk-serial {display: flex;flex-direction: column;align-items: center;background-color: white;padding-right: 0.2em;padding-left: 0.2em;position: relative;}#sk-container-id-2 div.sk-item {position: relative;z-index: 1;}#sk-container-id-2 div.sk-parallel {display: flex;align-items: stretch;justify-content: center;background-color: white;position: relative;}#sk-container-id-2 div.sk-item::before, #sk-container-id-2 div.sk-parallel-item::before {content: \"\";position: absolute;border-left: 1px solid gray;box-sizing: border-box;top: 0;bottom: 0;left: 50%;z-index: -1;}#sk-container-id-2 div.sk-parallel-item {display: flex;flex-direction: column;z-index: 1;position: relative;background-color: white;}#sk-container-id-2 div.sk-parallel-item:first-child::after {align-self: flex-end;width: 50%;}#sk-container-id-2 div.sk-parallel-item:last-child::after {align-self: flex-start;width: 50%;}#sk-container-id-2 div.sk-parallel-item:only-child::after {width: 0;}#sk-container-id-2 div.sk-dashed-wrapped {border: 1px dashed gray;margin: 0 0.4em 0.5em 0.4em;box-sizing: border-box;padding-bottom: 0.4em;background-color: white;}#sk-container-id-2 div.sk-label label {font-family: monospace;font-weight: bold;display: inline-block;line-height: 1.2em;}#sk-container-id-2 div.sk-label-container {text-align: center;}#sk-container-id-2 div.sk-container {/* jupyter's `normalize.less` sets `[hidden] { display: none; }` but bootstrap.min.css set `[hidden] { display: none !important; }` so we also need the `!important` here to be able to override the default hidden behavior on the sphinx rendered scikit-learn.org. See: https://github.com/scikit-learn/scikit-learn/issues/21755 */display: inline-block !important;position: relative;}#sk-container-id-2 div.sk-text-repr-fallback {display: none;}</style><div id=\"sk-container-id-2\" class=\"sk-top-container\"><div class=\"sk-text-repr-fallback\"><pre>RandomForestClassifier()</pre><b>In a Jupyter environment, please rerun this cell to show the HTML representation or trust the notebook. <br />On GitHub, the HTML representation is unable to render, please try loading this page with nbviewer.org.</b></div><div class=\"sk-container\" hidden><div class=\"sk-item\"><div class=\"sk-estimator sk-toggleable\"><input class=\"sk-toggleable__control sk-hidden--visually\" id=\"sk-estimator-id-2\" type=\"checkbox\" checked><label for=\"sk-estimator-id-2\" class=\"sk-toggleable__label sk-toggleable__label-arrow\">RandomForestClassifier</label><div class=\"sk-toggleable__content\"><pre>RandomForestClassifier()</pre></div></div></div></div></div>"
      ],
      "text/plain": [
       "RandomForestClassifier()"
      ]
     },
     "execution_count": 37,
     "metadata": {},
     "output_type": "execute_result"
    }
   ],
   "source": [
    "# Train the model on the training set\n",
    "rf.fit(X_train, Y_train)"
   ]
  },
  {
   "cell_type": "code",
   "execution_count": 38,
   "id": "b56a3a7e",
   "metadata": {},
   "outputs": [],
   "source": [
    "# Use the trained model to make predictions on the testing set\n",
    "y_pred = rf.predict(X_test)\n",
    "y_pred2 = rf.predict(X_train)"
   ]
  },
  {
   "cell_type": "code",
   "execution_count": 39,
   "id": "eb54590d",
   "metadata": {},
   "outputs": [
    {
     "name": "stdout",
     "output_type": "stream",
     "text": [
      "Accuracy: 86.95 %\n"
     ]
    }
   ],
   "source": [
    "# Evaluate the accuracy of the model\n",
    "accuracy = accuracy_score(Y_test, y_pred)\n",
    "print(\"Accuracy:\", round(accuracy*100,2),'%')"
   ]
  },
  {
   "cell_type": "code",
   "execution_count": 40,
   "id": "9960ccbe",
   "metadata": {},
   "outputs": [
    {
     "name": "stdout",
     "output_type": "stream",
     "text": [
      "for testing  :  89.85 %\n"
     ]
    }
   ],
   "source": [
    "# precision for testing\n",
    "print('for testing  : ' , round(precision_score(Y_test , y_pred)*100,2),'%')"
   ]
  },
  {
   "cell_type": "code",
   "execution_count": 41,
   "id": "80d15372",
   "metadata": {},
   "outputs": [
    {
     "name": "stdout",
     "output_type": "stream",
     "text": [
      "for testing  :  85.44 %\n"
     ]
    }
   ],
   "source": [
    "# Recall for testing\n",
    "print('for testing  : ' , round(recall_score(Y_test , y_pred)*100,2),'%')"
   ]
  },
  {
   "cell_type": "code",
   "execution_count": 42,
   "id": "3eb25c51",
   "metadata": {},
   "outputs": [
    {
     "name": "stdout",
     "output_type": "stream",
     "text": [
      "for testing  :  87.59 %\n"
     ]
    }
   ],
   "source": [
    "# f1_score for testing\n",
    "print('for testing  : ' , round(f1_score(Y_test , y_pred)*100,2),'%')"
   ]
  },
  {
   "cell_type": "code",
   "execution_count": 43,
   "id": "5e5c4d41",
   "metadata": {},
   "outputs": [],
   "source": [
    "cm_rf = confusion_matrix(Y_test,y_pred)"
   ]
  },
  {
   "cell_type": "code",
   "execution_count": 44,
   "id": "7ec76551",
   "metadata": {},
   "outputs": [],
   "source": [
    "# for sensitivity and specificity\n",
    "tn_rf, fp_rf, fn_rf, tp_rf = cm_rf.ravel()"
   ]
  },
  {
   "cell_type": "code",
   "execution_count": 45,
   "id": "c17ddcbe",
   "metadata": {},
   "outputs": [
    {
     "name": "stdout",
     "output_type": "stream",
     "text": [
      "specificity for data is :  88.72 %\n"
     ]
    }
   ],
   "source": [
    "specificity_rf = tn_rf / (tn_rf+fp_rf)\n",
    "print('specificity for data is : ',round(specificity_rf*100,2),'%')"
   ]
  },
  {
   "cell_type": "code",
   "execution_count": 46,
   "id": "c8f5e2d0",
   "metadata": {},
   "outputs": [
    {
     "name": "stdout",
     "output_type": "stream",
     "text": [
      "sensitivity for data is :  85.44 %\n"
     ]
    }
   ],
   "source": [
    "sensitivity_rf = tp_rf / (tp_rf+fn_rf)\n",
    "print('sensitivity for data is : ',round(sensitivity_rf*100,2),'%')"
   ]
  },
  {
   "cell_type": "code",
   "execution_count": 47,
   "id": "b57e186b",
   "metadata": {},
   "outputs": [],
   "source": [
    "#ROC and AUC\n",
    "fpr_rf, tpr_rf, threshold_rf = roc_curve(Y_test,y_pred)\n",
    "roc_auc_rf = auc(fpr_rf, tpr_rf)"
   ]
  },
  {
   "cell_type": "code",
   "execution_count": 48,
   "id": "13cccac3",
   "metadata": {},
   "outputs": [
    {
     "name": "stdout",
     "output_type": "stream",
     "text": [
      "Area under curve :  87.08 %\n"
     ]
    }
   ],
   "source": [
    "print('Area under curve : ',round(roc_auc_rf*100,2),'%')"
   ]
  },
  {
   "cell_type": "code",
   "execution_count": 49,
   "id": "a5db8c84",
   "metadata": {},
   "outputs": [
    {
     "data": {
      "text/plain": [
       "[<matplotlib.lines.Line2D at 0x1c37b899790>]"
      ]
     },
     "execution_count": 49,
     "metadata": {},
     "output_type": "execute_result"
    }
   ],
   "source": [
    "ax.plot(fpr_rf,tpr_rf, 'b', label = 'AUC = %0.2f' % roc_auc_rf)"
   ]
  },
  {
   "cell_type": "markdown",
   "id": "e1dac5a7",
   "metadata": {},
   "source": [
    "# KNN"
   ]
  },
  {
   "cell_type": "code",
   "execution_count": 50,
   "id": "5a45417f",
   "metadata": {},
   "outputs": [
    {
     "data": {
      "text/html": [
       "<style>#sk-container-id-3 {color: black;background-color: white;}#sk-container-id-3 pre{padding: 0;}#sk-container-id-3 div.sk-toggleable {background-color: white;}#sk-container-id-3 label.sk-toggleable__label {cursor: pointer;display: block;width: 100%;margin-bottom: 0;padding: 0.3em;box-sizing: border-box;text-align: center;}#sk-container-id-3 label.sk-toggleable__label-arrow:before {content: \"▸\";float: left;margin-right: 0.25em;color: #696969;}#sk-container-id-3 label.sk-toggleable__label-arrow:hover:before {color: black;}#sk-container-id-3 div.sk-estimator:hover label.sk-toggleable__label-arrow:before {color: black;}#sk-container-id-3 div.sk-toggleable__content {max-height: 0;max-width: 0;overflow: hidden;text-align: left;background-color: #f0f8ff;}#sk-container-id-3 div.sk-toggleable__content pre {margin: 0.2em;color: black;border-radius: 0.25em;background-color: #f0f8ff;}#sk-container-id-3 input.sk-toggleable__control:checked~div.sk-toggleable__content {max-height: 200px;max-width: 100%;overflow: auto;}#sk-container-id-3 input.sk-toggleable__control:checked~label.sk-toggleable__label-arrow:before {content: \"▾\";}#sk-container-id-3 div.sk-estimator input.sk-toggleable__control:checked~label.sk-toggleable__label {background-color: #d4ebff;}#sk-container-id-3 div.sk-label input.sk-toggleable__control:checked~label.sk-toggleable__label {background-color: #d4ebff;}#sk-container-id-3 input.sk-hidden--visually {border: 0;clip: rect(1px 1px 1px 1px);clip: rect(1px, 1px, 1px, 1px);height: 1px;margin: -1px;overflow: hidden;padding: 0;position: absolute;width: 1px;}#sk-container-id-3 div.sk-estimator {font-family: monospace;background-color: #f0f8ff;border: 1px dotted black;border-radius: 0.25em;box-sizing: border-box;margin-bottom: 0.5em;}#sk-container-id-3 div.sk-estimator:hover {background-color: #d4ebff;}#sk-container-id-3 div.sk-parallel-item::after {content: \"\";width: 100%;border-bottom: 1px solid gray;flex-grow: 1;}#sk-container-id-3 div.sk-label:hover label.sk-toggleable__label {background-color: #d4ebff;}#sk-container-id-3 div.sk-serial::before {content: \"\";position: absolute;border-left: 1px solid gray;box-sizing: border-box;top: 0;bottom: 0;left: 50%;z-index: 0;}#sk-container-id-3 div.sk-serial {display: flex;flex-direction: column;align-items: center;background-color: white;padding-right: 0.2em;padding-left: 0.2em;position: relative;}#sk-container-id-3 div.sk-item {position: relative;z-index: 1;}#sk-container-id-3 div.sk-parallel {display: flex;align-items: stretch;justify-content: center;background-color: white;position: relative;}#sk-container-id-3 div.sk-item::before, #sk-container-id-3 div.sk-parallel-item::before {content: \"\";position: absolute;border-left: 1px solid gray;box-sizing: border-box;top: 0;bottom: 0;left: 50%;z-index: -1;}#sk-container-id-3 div.sk-parallel-item {display: flex;flex-direction: column;z-index: 1;position: relative;background-color: white;}#sk-container-id-3 div.sk-parallel-item:first-child::after {align-self: flex-end;width: 50%;}#sk-container-id-3 div.sk-parallel-item:last-child::after {align-self: flex-start;width: 50%;}#sk-container-id-3 div.sk-parallel-item:only-child::after {width: 0;}#sk-container-id-3 div.sk-dashed-wrapped {border: 1px dashed gray;margin: 0 0.4em 0.5em 0.4em;box-sizing: border-box;padding-bottom: 0.4em;background-color: white;}#sk-container-id-3 div.sk-label label {font-family: monospace;font-weight: bold;display: inline-block;line-height: 1.2em;}#sk-container-id-3 div.sk-label-container {text-align: center;}#sk-container-id-3 div.sk-container {/* jupyter's `normalize.less` sets `[hidden] { display: none; }` but bootstrap.min.css set `[hidden] { display: none !important; }` so we also need the `!important` here to be able to override the default hidden behavior on the sphinx rendered scikit-learn.org. See: https://github.com/scikit-learn/scikit-learn/issues/21755 */display: inline-block !important;position: relative;}#sk-container-id-3 div.sk-text-repr-fallback {display: none;}</style><div id=\"sk-container-id-3\" class=\"sk-top-container\"><div class=\"sk-text-repr-fallback\"><pre>KNeighborsClassifier()</pre><b>In a Jupyter environment, please rerun this cell to show the HTML representation or trust the notebook. <br />On GitHub, the HTML representation is unable to render, please try loading this page with nbviewer.org.</b></div><div class=\"sk-container\" hidden><div class=\"sk-item\"><div class=\"sk-estimator sk-toggleable\"><input class=\"sk-toggleable__control sk-hidden--visually\" id=\"sk-estimator-id-3\" type=\"checkbox\" checked><label for=\"sk-estimator-id-3\" class=\"sk-toggleable__label sk-toggleable__label-arrow\">KNeighborsClassifier</label><div class=\"sk-toggleable__content\"><pre>KNeighborsClassifier()</pre></div></div></div></div></div>"
      ],
      "text/plain": [
       "KNeighborsClassifier()"
      ]
     },
     "execution_count": 50,
     "metadata": {},
     "output_type": "execute_result"
    }
   ],
   "source": [
    "classifier = KNeighborsClassifier(n_neighbors= 5)\n",
    "classifier.fit(X_train,Y_train)"
   ]
  },
  {
   "cell_type": "code",
   "execution_count": 51,
   "id": "1d6e1ece",
   "metadata": {},
   "outputs": [],
   "source": [
    "Y_pred = classifier.predict(X_test)"
   ]
  },
  {
   "cell_type": "code",
   "execution_count": 52,
   "id": "6b2415f7",
   "metadata": {},
   "outputs": [
    {
     "data": {
      "text/plain": [
       "array([[1919,  642],\n",
       "       [ 773, 2222]], dtype=int64)"
      ]
     },
     "execution_count": 52,
     "metadata": {},
     "output_type": "execute_result"
    }
   ],
   "source": [
    "cm= confusion_matrix(Y_test, Y_pred) \n",
    "cm"
   ]
  },
  {
   "cell_type": "code",
   "execution_count": 53,
   "id": "2ea9c7f1",
   "metadata": {},
   "outputs": [
    {
     "name": "stdout",
     "output_type": "stream",
     "text": [
      "              precision    recall  f1-score   support\n",
      "\n",
      "           0       0.71      0.75      0.73      2561\n",
      "           1       0.78      0.74      0.76      2995\n",
      "\n",
      "    accuracy                           0.75      5556\n",
      "   macro avg       0.74      0.75      0.74      5556\n",
      "weighted avg       0.75      0.75      0.75      5556\n",
      "\n"
     ]
    }
   ],
   "source": [
    "print(classification_report(Y_test,Y_pred))"
   ]
  },
  {
   "cell_type": "code",
   "execution_count": 54,
   "id": "d4656d77",
   "metadata": {},
   "outputs": [],
   "source": [
    "# for sensitivity and specificity\n",
    "tn, fp, fn, tp = cm.ravel()"
   ]
  },
  {
   "cell_type": "code",
   "execution_count": 55,
   "id": "d46eb643",
   "metadata": {},
   "outputs": [
    {
     "name": "stdout",
     "output_type": "stream",
     "text": [
      "specificity for data is :  74.93 %\n"
     ]
    }
   ],
   "source": [
    "specificity = tn / (tn+fp)\n",
    "print('specificity for data is : ',round(specificity*100,2),'%')"
   ]
  },
  {
   "cell_type": "code",
   "execution_count": 56,
   "id": "4f33c826",
   "metadata": {},
   "outputs": [
    {
     "name": "stdout",
     "output_type": "stream",
     "text": [
      "sensitivity for data is :  74.19 %\n"
     ]
    }
   ],
   "source": [
    "sensitivity = tp / (tp+fn)\n",
    "print('sensitivity for data is : ',round(sensitivity*100,2),'%')"
   ]
  },
  {
   "cell_type": "code",
   "execution_count": 57,
   "id": "96209805",
   "metadata": {},
   "outputs": [],
   "source": [
    "#ROC and AUC\n",
    "fpr_knn, tpr_knn, threshold_knn = roc_curve(Y_test,Y_pred)\n",
    "roc_auc_knn = auc(fpr_knn, tpr_knn)"
   ]
  },
  {
   "cell_type": "code",
   "execution_count": 58,
   "id": "ff894514",
   "metadata": {},
   "outputs": [
    {
     "name": "stdout",
     "output_type": "stream",
     "text": [
      "Area under curve :  74.56 %\n"
     ]
    }
   ],
   "source": [
    "print('Area under curve : ',round(roc_auc_knn*100,2),'%')"
   ]
  },
  {
   "cell_type": "code",
   "execution_count": 59,
   "id": "405e3e95",
   "metadata": {},
   "outputs": [
    {
     "data": {
      "text/plain": [
       "[<matplotlib.lines.Line2D at 0x1c37b9c4890>]"
      ]
     },
     "execution_count": 59,
     "metadata": {},
     "output_type": "execute_result"
    }
   ],
   "source": [
    "ax.plot(fpr_knn, tpr_knn, 'b', label = 'AUC = %0.2f' % roc_auc_knn)"
   ]
  },
  {
   "cell_type": "markdown",
   "id": "b73543bf",
   "metadata": {},
   "source": [
    "# SVM - KNN"
   ]
  },
  {
   "cell_type": "code",
   "execution_count": 60,
   "id": "1c46ca97",
   "metadata": {},
   "outputs": [],
   "source": [
    "# Create SVM and KNN classifiers\n",
    "svm = SVC(kernel='linear', C=1)\n",
    "knn = KNeighborsClassifier(n_neighbors=5)"
   ]
  },
  {
   "cell_type": "code",
   "execution_count": 61,
   "id": "31229e60",
   "metadata": {},
   "outputs": [
    {
     "data": {
      "text/html": [
       "<style>#sk-container-id-4 {color: black;background-color: white;}#sk-container-id-4 pre{padding: 0;}#sk-container-id-4 div.sk-toggleable {background-color: white;}#sk-container-id-4 label.sk-toggleable__label {cursor: pointer;display: block;width: 100%;margin-bottom: 0;padding: 0.3em;box-sizing: border-box;text-align: center;}#sk-container-id-4 label.sk-toggleable__label-arrow:before {content: \"▸\";float: left;margin-right: 0.25em;color: #696969;}#sk-container-id-4 label.sk-toggleable__label-arrow:hover:before {color: black;}#sk-container-id-4 div.sk-estimator:hover label.sk-toggleable__label-arrow:before {color: black;}#sk-container-id-4 div.sk-toggleable__content {max-height: 0;max-width: 0;overflow: hidden;text-align: left;background-color: #f0f8ff;}#sk-container-id-4 div.sk-toggleable__content pre {margin: 0.2em;color: black;border-radius: 0.25em;background-color: #f0f8ff;}#sk-container-id-4 input.sk-toggleable__control:checked~div.sk-toggleable__content {max-height: 200px;max-width: 100%;overflow: auto;}#sk-container-id-4 input.sk-toggleable__control:checked~label.sk-toggleable__label-arrow:before {content: \"▾\";}#sk-container-id-4 div.sk-estimator input.sk-toggleable__control:checked~label.sk-toggleable__label {background-color: #d4ebff;}#sk-container-id-4 div.sk-label input.sk-toggleable__control:checked~label.sk-toggleable__label {background-color: #d4ebff;}#sk-container-id-4 input.sk-hidden--visually {border: 0;clip: rect(1px 1px 1px 1px);clip: rect(1px, 1px, 1px, 1px);height: 1px;margin: -1px;overflow: hidden;padding: 0;position: absolute;width: 1px;}#sk-container-id-4 div.sk-estimator {font-family: monospace;background-color: #f0f8ff;border: 1px dotted black;border-radius: 0.25em;box-sizing: border-box;margin-bottom: 0.5em;}#sk-container-id-4 div.sk-estimator:hover {background-color: #d4ebff;}#sk-container-id-4 div.sk-parallel-item::after {content: \"\";width: 100%;border-bottom: 1px solid gray;flex-grow: 1;}#sk-container-id-4 div.sk-label:hover label.sk-toggleable__label {background-color: #d4ebff;}#sk-container-id-4 div.sk-serial::before {content: \"\";position: absolute;border-left: 1px solid gray;box-sizing: border-box;top: 0;bottom: 0;left: 50%;z-index: 0;}#sk-container-id-4 div.sk-serial {display: flex;flex-direction: column;align-items: center;background-color: white;padding-right: 0.2em;padding-left: 0.2em;position: relative;}#sk-container-id-4 div.sk-item {position: relative;z-index: 1;}#sk-container-id-4 div.sk-parallel {display: flex;align-items: stretch;justify-content: center;background-color: white;position: relative;}#sk-container-id-4 div.sk-item::before, #sk-container-id-4 div.sk-parallel-item::before {content: \"\";position: absolute;border-left: 1px solid gray;box-sizing: border-box;top: 0;bottom: 0;left: 50%;z-index: -1;}#sk-container-id-4 div.sk-parallel-item {display: flex;flex-direction: column;z-index: 1;position: relative;background-color: white;}#sk-container-id-4 div.sk-parallel-item:first-child::after {align-self: flex-end;width: 50%;}#sk-container-id-4 div.sk-parallel-item:last-child::after {align-self: flex-start;width: 50%;}#sk-container-id-4 div.sk-parallel-item:only-child::after {width: 0;}#sk-container-id-4 div.sk-dashed-wrapped {border: 1px dashed gray;margin: 0 0.4em 0.5em 0.4em;box-sizing: border-box;padding-bottom: 0.4em;background-color: white;}#sk-container-id-4 div.sk-label label {font-family: monospace;font-weight: bold;display: inline-block;line-height: 1.2em;}#sk-container-id-4 div.sk-label-container {text-align: center;}#sk-container-id-4 div.sk-container {/* jupyter's `normalize.less` sets `[hidden] { display: none; }` but bootstrap.min.css set `[hidden] { display: none !important; }` so we also need the `!important` here to be able to override the default hidden behavior on the sphinx rendered scikit-learn.org. See: https://github.com/scikit-learn/scikit-learn/issues/21755 */display: inline-block !important;position: relative;}#sk-container-id-4 div.sk-text-repr-fallback {display: none;}</style><div id=\"sk-container-id-4\" class=\"sk-top-container\"><div class=\"sk-text-repr-fallback\"><pre>KNeighborsClassifier()</pre><b>In a Jupyter environment, please rerun this cell to show the HTML representation or trust the notebook. <br />On GitHub, the HTML representation is unable to render, please try loading this page with nbviewer.org.</b></div><div class=\"sk-container\" hidden><div class=\"sk-item\"><div class=\"sk-estimator sk-toggleable\"><input class=\"sk-toggleable__control sk-hidden--visually\" id=\"sk-estimator-id-4\" type=\"checkbox\" checked><label for=\"sk-estimator-id-4\" class=\"sk-toggleable__label sk-toggleable__label-arrow\">KNeighborsClassifier</label><div class=\"sk-toggleable__content\"><pre>KNeighborsClassifier()</pre></div></div></div></div></div>"
      ],
      "text/plain": [
       "KNeighborsClassifier()"
      ]
     },
     "execution_count": 61,
     "metadata": {},
     "output_type": "execute_result"
    }
   ],
   "source": [
    "# Train classifiers on training data\n",
    "svm.fit(X_train, Y_train)\n",
    "knn.fit(X_train, Y_train)"
   ]
  },
  {
   "cell_type": "code",
   "execution_count": 62,
   "id": "113447b0",
   "metadata": {},
   "outputs": [],
   "source": [
    "# Make predictions on testing data\n",
    "svm_preds = svm.predict(X_test)\n",
    "knn_preds = knn.predict(X_test)"
   ]
  },
  {
   "cell_type": "code",
   "execution_count": 63,
   "id": "ac128430",
   "metadata": {},
   "outputs": [],
   "source": [
    "# Combine predictions using majority voting\n",
    "ensemble_preds = []\n",
    "for i in range(len(X_test)):\n",
    "    if svm_preds[i] == knn_preds[i]:\n",
    "        ensemble_preds.append(svm_preds[i])\n",
    "    else:\n",
    "        ensemble_preds.append(svm_preds[i])  # You can also use knn_preds here\n"
   ]
  },
  {
   "cell_type": "code",
   "execution_count": 64,
   "id": "8fb79e11",
   "metadata": {},
   "outputs": [
    {
     "name": "stdout",
     "output_type": "stream",
     "text": [
      "Ensemble accuracy: 70.66 %\n"
     ]
    }
   ],
   "source": [
    "# Calculate accuracy of ensemble predictions\n",
    "ensemble_acc = accuracy_score(Y_test, ensemble_preds)\n",
    "print(\"Ensemble accuracy:\", round(ensemble_acc*100,2),'%')"
   ]
  },
  {
   "cell_type": "code",
   "execution_count": 65,
   "id": "9822ec23",
   "metadata": {},
   "outputs": [
    {
     "data": {
      "text/plain": [
       "array([[2022,  539],\n",
       "       [1091, 1904]], dtype=int64)"
      ]
     },
     "execution_count": 65,
     "metadata": {},
     "output_type": "execute_result"
    }
   ],
   "source": [
    "cm = confusion_matrix(Y_test, ensemble_preds)\n",
    "cm"
   ]
  },
  {
   "cell_type": "code",
   "execution_count": 66,
   "id": "315fd850",
   "metadata": {},
   "outputs": [
    {
     "name": "stdout",
     "output_type": "stream",
     "text": [
      "for testing :  77.94 %\n"
     ]
    }
   ],
   "source": [
    "# precision for testing\n",
    "print('for testing : ' , round(precision_score(Y_test , ensemble_preds)*100,2),'%')"
   ]
  },
  {
   "cell_type": "code",
   "execution_count": 67,
   "id": "89efef6b",
   "metadata": {},
   "outputs": [
    {
     "name": "stdout",
     "output_type": "stream",
     "text": [
      "for testing :  63.57 %\n"
     ]
    }
   ],
   "source": [
    "# Recall for testing \n",
    "print('for testing : ' , round(recall_score(Y_test , ensemble_preds)*100,2),'%')"
   ]
  },
  {
   "cell_type": "code",
   "execution_count": 68,
   "id": "2fa4636b",
   "metadata": {},
   "outputs": [
    {
     "name": "stdout",
     "output_type": "stream",
     "text": [
      "for testing :  70.03 %\n"
     ]
    }
   ],
   "source": [
    "# f1_score for testing \n",
    "print('for testing : ' , round(f1_score(Y_test , ensemble_preds)*100,2),'%')"
   ]
  },
  {
   "cell_type": "code",
   "execution_count": 69,
   "id": "53d87299",
   "metadata": {},
   "outputs": [],
   "source": [
    "# for sensitivity and specificity\n",
    "tn_svmknn, fp_svmknn, fn_svmknn, tp_svmknn = cm.ravel()"
   ]
  },
  {
   "cell_type": "code",
   "execution_count": 70,
   "id": "504fc175",
   "metadata": {},
   "outputs": [
    {
     "name": "stdout",
     "output_type": "stream",
     "text": [
      "specificity for data is :  78.95 %\n"
     ]
    }
   ],
   "source": [
    "specificity_svmknn = tn_svmknn / (tn_svmknn+fp_svmknn)\n",
    "print('specificity for data is : ',round(specificity_svmknn*100,2),'%')"
   ]
  },
  {
   "cell_type": "code",
   "execution_count": 71,
   "id": "32c79790",
   "metadata": {},
   "outputs": [
    {
     "name": "stdout",
     "output_type": "stream",
     "text": [
      "sensitivity for data is :  63.57 %\n"
     ]
    }
   ],
   "source": [
    "sensitivity_svmknn = tp_svmknn / (tp_svmknn+fn_svmknn)\n",
    "print('sensitivity for data is : ',round(sensitivity_svmknn*100,2),'%')"
   ]
  },
  {
   "cell_type": "code",
   "execution_count": 72,
   "id": "9bf92923",
   "metadata": {},
   "outputs": [],
   "source": [
    "#ROC and AUC\n",
    "fpr_svmknn, tpr_svmknn, threshold_svmknn = roc_curve(Y_test,ensemble_preds)\n",
    "roc_auc_svmknn = auc(fpr_svmknn, tpr_svmknn)"
   ]
  },
  {
   "cell_type": "code",
   "execution_count": 73,
   "id": "9b9fc0f0",
   "metadata": {},
   "outputs": [
    {
     "name": "stdout",
     "output_type": "stream",
     "text": [
      "Area under curve :  71.26 %\n"
     ]
    }
   ],
   "source": [
    "print('Area under curve : ',round(roc_auc_svmknn*100,2),'%')"
   ]
  },
  {
   "cell_type": "code",
   "execution_count": 74,
   "id": "47c97dc8",
   "metadata": {},
   "outputs": [
    {
     "data": {
      "text/plain": [
       "[<matplotlib.lines.Line2D at 0x1c30a23f450>]"
      ]
     },
     "execution_count": 74,
     "metadata": {},
     "output_type": "execute_result"
    }
   ],
   "source": [
    "ax.plot(fpr_svmknn, tpr_svmknn, 'b', label = 'AUC = %0.2f' % roc_auc_svmknn)"
   ]
  },
  {
   "cell_type": "markdown",
   "id": "98a5dcf8",
   "metadata": {},
   "source": [
    "# KNN - ANN"
   ]
  },
  {
   "cell_type": "code",
   "execution_count": 75,
   "id": "478d9e97",
   "metadata": {},
   "outputs": [],
   "source": [
    "# Create KNN and ANN classifiers\n",
    "knn = KNeighborsClassifier(n_neighbors=5)\n",
    "ann = MLPClassifier(hidden_layer_sizes=(100, 50), activation='relu', solver='adam')"
   ]
  },
  {
   "cell_type": "code",
   "execution_count": 76,
   "id": "6ae53786",
   "metadata": {},
   "outputs": [
    {
     "data": {
      "text/html": [
       "<style>#sk-container-id-5 {color: black;background-color: white;}#sk-container-id-5 pre{padding: 0;}#sk-container-id-5 div.sk-toggleable {background-color: white;}#sk-container-id-5 label.sk-toggleable__label {cursor: pointer;display: block;width: 100%;margin-bottom: 0;padding: 0.3em;box-sizing: border-box;text-align: center;}#sk-container-id-5 label.sk-toggleable__label-arrow:before {content: \"▸\";float: left;margin-right: 0.25em;color: #696969;}#sk-container-id-5 label.sk-toggleable__label-arrow:hover:before {color: black;}#sk-container-id-5 div.sk-estimator:hover label.sk-toggleable__label-arrow:before {color: black;}#sk-container-id-5 div.sk-toggleable__content {max-height: 0;max-width: 0;overflow: hidden;text-align: left;background-color: #f0f8ff;}#sk-container-id-5 div.sk-toggleable__content pre {margin: 0.2em;color: black;border-radius: 0.25em;background-color: #f0f8ff;}#sk-container-id-5 input.sk-toggleable__control:checked~div.sk-toggleable__content {max-height: 200px;max-width: 100%;overflow: auto;}#sk-container-id-5 input.sk-toggleable__control:checked~label.sk-toggleable__label-arrow:before {content: \"▾\";}#sk-container-id-5 div.sk-estimator input.sk-toggleable__control:checked~label.sk-toggleable__label {background-color: #d4ebff;}#sk-container-id-5 div.sk-label input.sk-toggleable__control:checked~label.sk-toggleable__label {background-color: #d4ebff;}#sk-container-id-5 input.sk-hidden--visually {border: 0;clip: rect(1px 1px 1px 1px);clip: rect(1px, 1px, 1px, 1px);height: 1px;margin: -1px;overflow: hidden;padding: 0;position: absolute;width: 1px;}#sk-container-id-5 div.sk-estimator {font-family: monospace;background-color: #f0f8ff;border: 1px dotted black;border-radius: 0.25em;box-sizing: border-box;margin-bottom: 0.5em;}#sk-container-id-5 div.sk-estimator:hover {background-color: #d4ebff;}#sk-container-id-5 div.sk-parallel-item::after {content: \"\";width: 100%;border-bottom: 1px solid gray;flex-grow: 1;}#sk-container-id-5 div.sk-label:hover label.sk-toggleable__label {background-color: #d4ebff;}#sk-container-id-5 div.sk-serial::before {content: \"\";position: absolute;border-left: 1px solid gray;box-sizing: border-box;top: 0;bottom: 0;left: 50%;z-index: 0;}#sk-container-id-5 div.sk-serial {display: flex;flex-direction: column;align-items: center;background-color: white;padding-right: 0.2em;padding-left: 0.2em;position: relative;}#sk-container-id-5 div.sk-item {position: relative;z-index: 1;}#sk-container-id-5 div.sk-parallel {display: flex;align-items: stretch;justify-content: center;background-color: white;position: relative;}#sk-container-id-5 div.sk-item::before, #sk-container-id-5 div.sk-parallel-item::before {content: \"\";position: absolute;border-left: 1px solid gray;box-sizing: border-box;top: 0;bottom: 0;left: 50%;z-index: -1;}#sk-container-id-5 div.sk-parallel-item {display: flex;flex-direction: column;z-index: 1;position: relative;background-color: white;}#sk-container-id-5 div.sk-parallel-item:first-child::after {align-self: flex-end;width: 50%;}#sk-container-id-5 div.sk-parallel-item:last-child::after {align-self: flex-start;width: 50%;}#sk-container-id-5 div.sk-parallel-item:only-child::after {width: 0;}#sk-container-id-5 div.sk-dashed-wrapped {border: 1px dashed gray;margin: 0 0.4em 0.5em 0.4em;box-sizing: border-box;padding-bottom: 0.4em;background-color: white;}#sk-container-id-5 div.sk-label label {font-family: monospace;font-weight: bold;display: inline-block;line-height: 1.2em;}#sk-container-id-5 div.sk-label-container {text-align: center;}#sk-container-id-5 div.sk-container {/* jupyter's `normalize.less` sets `[hidden] { display: none; }` but bootstrap.min.css set `[hidden] { display: none !important; }` so we also need the `!important` here to be able to override the default hidden behavior on the sphinx rendered scikit-learn.org. See: https://github.com/scikit-learn/scikit-learn/issues/21755 */display: inline-block !important;position: relative;}#sk-container-id-5 div.sk-text-repr-fallback {display: none;}</style><div id=\"sk-container-id-5\" class=\"sk-top-container\"><div class=\"sk-text-repr-fallback\"><pre>MLPClassifier(hidden_layer_sizes=(100, 50))</pre><b>In a Jupyter environment, please rerun this cell to show the HTML representation or trust the notebook. <br />On GitHub, the HTML representation is unable to render, please try loading this page with nbviewer.org.</b></div><div class=\"sk-container\" hidden><div class=\"sk-item\"><div class=\"sk-estimator sk-toggleable\"><input class=\"sk-toggleable__control sk-hidden--visually\" id=\"sk-estimator-id-5\" type=\"checkbox\" checked><label for=\"sk-estimator-id-5\" class=\"sk-toggleable__label sk-toggleable__label-arrow\">MLPClassifier</label><div class=\"sk-toggleable__content\"><pre>MLPClassifier(hidden_layer_sizes=(100, 50))</pre></div></div></div></div></div>"
      ],
      "text/plain": [
       "MLPClassifier(hidden_layer_sizes=(100, 50))"
      ]
     },
     "execution_count": 76,
     "metadata": {},
     "output_type": "execute_result"
    }
   ],
   "source": [
    "# Train classifiers on training data\n",
    "knn.fit(X_train, Y_train)\n",
    "ann.fit(X_train, Y_train)"
   ]
  },
  {
   "cell_type": "code",
   "execution_count": 77,
   "id": "a7a5c149",
   "metadata": {},
   "outputs": [],
   "source": [
    "# Make predictions on testing data\n",
    "knn_preds = knn.predict(X_test)\n",
    "ann_preds = ann.predict(X_test)"
   ]
  },
  {
   "cell_type": "code",
   "execution_count": 78,
   "id": "3739078f",
   "metadata": {},
   "outputs": [],
   "source": [
    "# Combine predictions using majority voting\n",
    "ensemble_preds = []\n",
    "for i in range(len(X_test)):\n",
    "    if knn_preds[i] == ann_preds[i]:\n",
    "        ensemble_preds.append(knn_preds[i])\n",
    "    else:\n",
    "        ensemble_preds.append(knn_preds[i])  # You can also use ann_preds here"
   ]
  },
  {
   "cell_type": "code",
   "execution_count": 79,
   "id": "1e9f2d3c",
   "metadata": {},
   "outputs": [
    {
     "name": "stdout",
     "output_type": "stream",
     "text": [
      "Ensemble accuracy: 74.53 %\n"
     ]
    }
   ],
   "source": [
    "# Calculate accuracy of ensemble predictions\n",
    "ensemble_acc = accuracy_score(Y_test, ensemble_preds)\n",
    "print(\"Ensemble accuracy:\", round(ensemble_acc*100,2),'%')"
   ]
  },
  {
   "cell_type": "code",
   "execution_count": 80,
   "id": "d842e57d",
   "metadata": {},
   "outputs": [
    {
     "data": {
      "text/plain": [
       "array([[1919,  642],\n",
       "       [ 773, 2222]], dtype=int64)"
      ]
     },
     "execution_count": 80,
     "metadata": {},
     "output_type": "execute_result"
    }
   ],
   "source": [
    "cm = confusion_matrix(Y_test, ensemble_preds)\n",
    "cm"
   ]
  },
  {
   "cell_type": "code",
   "execution_count": 81,
   "id": "8ea98f74",
   "metadata": {},
   "outputs": [
    {
     "name": "stdout",
     "output_type": "stream",
     "text": [
      "for testing :  77.58 %\n"
     ]
    }
   ],
   "source": [
    "# precision for testing\n",
    "print('for testing : ' , round(precision_score(Y_test , ensemble_preds)*100,2),'%')"
   ]
  },
  {
   "cell_type": "code",
   "execution_count": 82,
   "id": "63f2a67c",
   "metadata": {},
   "outputs": [
    {
     "name": "stdout",
     "output_type": "stream",
     "text": [
      "for testing :  74.19 %\n"
     ]
    }
   ],
   "source": [
    "# Recall for testing \n",
    "print('for testing : ' , round(recall_score(Y_test , ensemble_preds)*100,2),'%')"
   ]
  },
  {
   "cell_type": "code",
   "execution_count": 83,
   "id": "e666b5aa",
   "metadata": {},
   "outputs": [
    {
     "name": "stdout",
     "output_type": "stream",
     "text": [
      "for testing :  75.85 %\n"
     ]
    }
   ],
   "source": [
    "# f1_score for testing \n",
    "print('for testing : ' , round(f1_score(Y_test , ensemble_preds)*100,2),'%')"
   ]
  },
  {
   "cell_type": "code",
   "execution_count": 84,
   "id": "ec0dc006",
   "metadata": {},
   "outputs": [],
   "source": [
    "# for sensitivity and specificity\n",
    "tn_knnann, fp_knnann, fn_knnann, tp_knnann = cm.ravel()"
   ]
  },
  {
   "cell_type": "code",
   "execution_count": 85,
   "id": "5c85d94d",
   "metadata": {},
   "outputs": [
    {
     "name": "stdout",
     "output_type": "stream",
     "text": [
      "specificity for data is :  74.93 %\n"
     ]
    }
   ],
   "source": [
    "specificity_knnann = tn_knnann / (tn_knnann+fp_knnann)\n",
    "print('specificity for data is : ',round(specificity_knnann*100,2),'%')"
   ]
  },
  {
   "cell_type": "code",
   "execution_count": 86,
   "id": "a5701720",
   "metadata": {},
   "outputs": [
    {
     "name": "stdout",
     "output_type": "stream",
     "text": [
      "sensitivity for data is :  74.19 %\n"
     ]
    }
   ],
   "source": [
    "sensitivity_knnann = tp_knnann / (tp_knnann+fn_knnann)\n",
    "print('sensitivity for data is : ',round(sensitivity_knnann*100,2),'%')"
   ]
  },
  {
   "cell_type": "code",
   "execution_count": 87,
   "id": "285e4eeb",
   "metadata": {},
   "outputs": [],
   "source": [
    "#ROC and AUC\n",
    "fpr_knnann, tpr_knnann, threshold_knnann = roc_curve(Y_test,ensemble_preds)\n",
    "roc_auc_knnann = auc(fpr_knnann, tpr_knnann)"
   ]
  },
  {
   "cell_type": "code",
   "execution_count": 88,
   "id": "f3454e5a",
   "metadata": {},
   "outputs": [
    {
     "name": "stdout",
     "output_type": "stream",
     "text": [
      "Area under curve :  74.56 %\n"
     ]
    }
   ],
   "source": [
    "print('Area under curve : ',round(roc_auc_knnann*100,2),'%')"
   ]
  },
  {
   "cell_type": "code",
   "execution_count": 89,
   "id": "04b05b8d",
   "metadata": {},
   "outputs": [
    {
     "data": {
      "text/plain": [
       "[<matplotlib.lines.Line2D at 0x1c30a185990>]"
      ]
     },
     "execution_count": 89,
     "metadata": {},
     "output_type": "execute_result"
    }
   ],
   "source": [
    "ax.plot(fpr_knnann, tpr_knnann, 'b', label = 'AUC = %0.2f' % roc_auc_knnann)"
   ]
  },
  {
   "cell_type": "markdown",
   "id": "0b0967d1",
   "metadata": {},
   "source": [
    "# RANDOMFOREST - ANN"
   ]
  },
  {
   "cell_type": "code",
   "execution_count": 90,
   "id": "2be239a3",
   "metadata": {},
   "outputs": [],
   "source": [
    "# Create Random Forest and ANN classifiers\n",
    "rf = RandomForestClassifier(n_estimators=100)\n",
    "ann = MLPClassifier(hidden_layer_sizes=(100, 50), activation='relu', solver='adam')"
   ]
  },
  {
   "cell_type": "code",
   "execution_count": 91,
   "id": "583d0bf9",
   "metadata": {},
   "outputs": [
    {
     "name": "stderr",
     "output_type": "stream",
     "text": [
      "C:\\Users\\raman\\AppData\\Local\\Programs\\Python\\Python311\\Lib\\site-packages\\sklearn\\neural_network\\_multilayer_perceptron.py:686: ConvergenceWarning: Stochastic Optimizer: Maximum iterations (200) reached and the optimization hasn't converged yet.\n",
      "  warnings.warn(\n"
     ]
    },
    {
     "data": {
      "text/html": [
       "<style>#sk-container-id-6 {color: black;background-color: white;}#sk-container-id-6 pre{padding: 0;}#sk-container-id-6 div.sk-toggleable {background-color: white;}#sk-container-id-6 label.sk-toggleable__label {cursor: pointer;display: block;width: 100%;margin-bottom: 0;padding: 0.3em;box-sizing: border-box;text-align: center;}#sk-container-id-6 label.sk-toggleable__label-arrow:before {content: \"▸\";float: left;margin-right: 0.25em;color: #696969;}#sk-container-id-6 label.sk-toggleable__label-arrow:hover:before {color: black;}#sk-container-id-6 div.sk-estimator:hover label.sk-toggleable__label-arrow:before {color: black;}#sk-container-id-6 div.sk-toggleable__content {max-height: 0;max-width: 0;overflow: hidden;text-align: left;background-color: #f0f8ff;}#sk-container-id-6 div.sk-toggleable__content pre {margin: 0.2em;color: black;border-radius: 0.25em;background-color: #f0f8ff;}#sk-container-id-6 input.sk-toggleable__control:checked~div.sk-toggleable__content {max-height: 200px;max-width: 100%;overflow: auto;}#sk-container-id-6 input.sk-toggleable__control:checked~label.sk-toggleable__label-arrow:before {content: \"▾\";}#sk-container-id-6 div.sk-estimator input.sk-toggleable__control:checked~label.sk-toggleable__label {background-color: #d4ebff;}#sk-container-id-6 div.sk-label input.sk-toggleable__control:checked~label.sk-toggleable__label {background-color: #d4ebff;}#sk-container-id-6 input.sk-hidden--visually {border: 0;clip: rect(1px 1px 1px 1px);clip: rect(1px, 1px, 1px, 1px);height: 1px;margin: -1px;overflow: hidden;padding: 0;position: absolute;width: 1px;}#sk-container-id-6 div.sk-estimator {font-family: monospace;background-color: #f0f8ff;border: 1px dotted black;border-radius: 0.25em;box-sizing: border-box;margin-bottom: 0.5em;}#sk-container-id-6 div.sk-estimator:hover {background-color: #d4ebff;}#sk-container-id-6 div.sk-parallel-item::after {content: \"\";width: 100%;border-bottom: 1px solid gray;flex-grow: 1;}#sk-container-id-6 div.sk-label:hover label.sk-toggleable__label {background-color: #d4ebff;}#sk-container-id-6 div.sk-serial::before {content: \"\";position: absolute;border-left: 1px solid gray;box-sizing: border-box;top: 0;bottom: 0;left: 50%;z-index: 0;}#sk-container-id-6 div.sk-serial {display: flex;flex-direction: column;align-items: center;background-color: white;padding-right: 0.2em;padding-left: 0.2em;position: relative;}#sk-container-id-6 div.sk-item {position: relative;z-index: 1;}#sk-container-id-6 div.sk-parallel {display: flex;align-items: stretch;justify-content: center;background-color: white;position: relative;}#sk-container-id-6 div.sk-item::before, #sk-container-id-6 div.sk-parallel-item::before {content: \"\";position: absolute;border-left: 1px solid gray;box-sizing: border-box;top: 0;bottom: 0;left: 50%;z-index: -1;}#sk-container-id-6 div.sk-parallel-item {display: flex;flex-direction: column;z-index: 1;position: relative;background-color: white;}#sk-container-id-6 div.sk-parallel-item:first-child::after {align-self: flex-end;width: 50%;}#sk-container-id-6 div.sk-parallel-item:last-child::after {align-self: flex-start;width: 50%;}#sk-container-id-6 div.sk-parallel-item:only-child::after {width: 0;}#sk-container-id-6 div.sk-dashed-wrapped {border: 1px dashed gray;margin: 0 0.4em 0.5em 0.4em;box-sizing: border-box;padding-bottom: 0.4em;background-color: white;}#sk-container-id-6 div.sk-label label {font-family: monospace;font-weight: bold;display: inline-block;line-height: 1.2em;}#sk-container-id-6 div.sk-label-container {text-align: center;}#sk-container-id-6 div.sk-container {/* jupyter's `normalize.less` sets `[hidden] { display: none; }` but bootstrap.min.css set `[hidden] { display: none !important; }` so we also need the `!important` here to be able to override the default hidden behavior on the sphinx rendered scikit-learn.org. See: https://github.com/scikit-learn/scikit-learn/issues/21755 */display: inline-block !important;position: relative;}#sk-container-id-6 div.sk-text-repr-fallback {display: none;}</style><div id=\"sk-container-id-6\" class=\"sk-top-container\"><div class=\"sk-text-repr-fallback\"><pre>MLPClassifier(hidden_layer_sizes=(100, 50))</pre><b>In a Jupyter environment, please rerun this cell to show the HTML representation or trust the notebook. <br />On GitHub, the HTML representation is unable to render, please try loading this page with nbviewer.org.</b></div><div class=\"sk-container\" hidden><div class=\"sk-item\"><div class=\"sk-estimator sk-toggleable\"><input class=\"sk-toggleable__control sk-hidden--visually\" id=\"sk-estimator-id-6\" type=\"checkbox\" checked><label for=\"sk-estimator-id-6\" class=\"sk-toggleable__label sk-toggleable__label-arrow\">MLPClassifier</label><div class=\"sk-toggleable__content\"><pre>MLPClassifier(hidden_layer_sizes=(100, 50))</pre></div></div></div></div></div>"
      ],
      "text/plain": [
       "MLPClassifier(hidden_layer_sizes=(100, 50))"
      ]
     },
     "execution_count": 91,
     "metadata": {},
     "output_type": "execute_result"
    }
   ],
   "source": [
    "# Train classifiers on training data\n",
    "rf.fit(X_train, Y_train)\n",
    "ann.fit(X_train, Y_train)"
   ]
  },
  {
   "cell_type": "code",
   "execution_count": 92,
   "id": "c0f0b4b7",
   "metadata": {},
   "outputs": [],
   "source": [
    "# Make predictions on testing data\n",
    "rf_preds = rf.predict(X_test)\n",
    "ann_preds = ann.predict(X_test)"
   ]
  },
  {
   "cell_type": "code",
   "execution_count": 93,
   "id": "4e4b7521",
   "metadata": {},
   "outputs": [],
   "source": [
    "# Combine predictions using majority voting\n",
    "ensemble_preds = []\n",
    "for i in range(len(X_test)):\n",
    "    if rf_preds[i] == ann_preds[i]:\n",
    "        ensemble_preds.append(rf_preds[i])\n",
    "    else:\n",
    "        ensemble_preds.append(rf_preds[i])  # You can also use ann_preds here\n"
   ]
  },
  {
   "cell_type": "code",
   "execution_count": 94,
   "id": "dcf1a8e0",
   "metadata": {},
   "outputs": [
    {
     "name": "stdout",
     "output_type": "stream",
     "text": [
      "Ensemble accuracy: 86.88 %\n"
     ]
    }
   ],
   "source": [
    "# Calculate accuracy of ensemble predictions\n",
    "ensemble_acc = accuracy_score(Y_test, ensemble_preds)\n",
    "print(\"Ensemble accuracy:\", round(ensemble_acc*100,2),'%')"
   ]
  },
  {
   "cell_type": "code",
   "execution_count": 95,
   "id": "c1a43bf5",
   "metadata": {},
   "outputs": [
    {
     "data": {
      "text/plain": [
       "array([[2270,  291],\n",
       "       [ 438, 2557]], dtype=int64)"
      ]
     },
     "execution_count": 95,
     "metadata": {},
     "output_type": "execute_result"
    }
   ],
   "source": [
    "cm = confusion_matrix(Y_test, ensemble_preds)\n",
    "cm"
   ]
  },
  {
   "cell_type": "code",
   "execution_count": 96,
   "id": "a1147c83",
   "metadata": {},
   "outputs": [
    {
     "name": "stdout",
     "output_type": "stream",
     "text": [
      "for testing :  89.78 %\n"
     ]
    }
   ],
   "source": [
    "# precision for testing\n",
    "print('for testing : ' , round(precision_score(Y_test , ensemble_preds)*100,2),'%')"
   ]
  },
  {
   "cell_type": "code",
   "execution_count": 97,
   "id": "f5cf49a0",
   "metadata": {},
   "outputs": [
    {
     "name": "stdout",
     "output_type": "stream",
     "text": [
      "for testing :  85.38 %\n"
     ]
    }
   ],
   "source": [
    "# Recall for testing \n",
    "print('for testing : ' , round(recall_score(Y_test , ensemble_preds)*100,2),'%')"
   ]
  },
  {
   "cell_type": "code",
   "execution_count": 98,
   "id": "73dedfbc",
   "metadata": {},
   "outputs": [
    {
     "name": "stdout",
     "output_type": "stream",
     "text": [
      "for testing :  87.52 %\n"
     ]
    }
   ],
   "source": [
    "# f1_score for testing \n",
    "print('for testing : ' , round(f1_score(Y_test , ensemble_preds)*100,2),'%')"
   ]
  },
  {
   "cell_type": "code",
   "execution_count": 99,
   "id": "b6bea440",
   "metadata": {},
   "outputs": [],
   "source": [
    "# for sensitivity and specificity\n",
    "tn_rfann, fp_rfann, fn_rfann, tp_rfann = cm.ravel()"
   ]
  },
  {
   "cell_type": "code",
   "execution_count": 100,
   "id": "e43f6e8c",
   "metadata": {},
   "outputs": [
    {
     "name": "stdout",
     "output_type": "stream",
     "text": [
      "specificity for data is :  88.64 %\n"
     ]
    }
   ],
   "source": [
    "specificity_rfann = tn_rfann / (tn_rfann+fp_rfann)\n",
    "print('specificity for data is : ',round(specificity_rfann*100,2),'%')"
   ]
  },
  {
   "cell_type": "code",
   "execution_count": 101,
   "id": "2a2f2c0c",
   "metadata": {},
   "outputs": [
    {
     "name": "stdout",
     "output_type": "stream",
     "text": [
      "sensitivity for data is :  85.38 %\n"
     ]
    }
   ],
   "source": [
    "sensitivity_rfann = tp_rfann / (tp_rfann+fn_rfann)\n",
    "print('sensitivity for data is : ',round(sensitivity_rfann*100,2),'%')"
   ]
  },
  {
   "cell_type": "code",
   "execution_count": 102,
   "id": "6507fb5e",
   "metadata": {},
   "outputs": [],
   "source": [
    "#ROC and AUC\n",
    "fpr_rfann, tpr_rfann, threshold_rfann = roc_curve(Y_test,ensemble_preds)\n",
    "roc_auc_rfann = auc(fpr_rfann, tpr_rfann)"
   ]
  },
  {
   "cell_type": "code",
   "execution_count": 103,
   "id": "532eb102",
   "metadata": {},
   "outputs": [
    {
     "name": "stdout",
     "output_type": "stream",
     "text": [
      "Area under curve :  87.01 %\n"
     ]
    }
   ],
   "source": [
    "print('Area under curve : ',round(roc_auc_rfann*100,2),'%')"
   ]
  },
  {
   "cell_type": "code",
   "execution_count": 104,
   "id": "3ca214a5",
   "metadata": {},
   "outputs": [
    {
     "data": {
      "text/plain": [
       "[<matplotlib.lines.Line2D at 0x1c30a294d90>]"
      ]
     },
     "execution_count": 104,
     "metadata": {},
     "output_type": "execute_result"
    }
   ],
   "source": [
    "ax.plot(fpr_rfann, tpr_rfann, 'b', label = 'AUC = %0.2f' % roc_auc_rfann)"
   ]
  },
  {
   "cell_type": "markdown",
   "id": "6050dcfa",
   "metadata": {},
   "source": [
    "# RANDOMFOREST - SVM"
   ]
  },
  {
   "cell_type": "code",
   "execution_count": 105,
   "id": "b0a662f2",
   "metadata": {},
   "outputs": [],
   "source": [
    "# Create Random Forest and SVM classifiers\n",
    "rf = RandomForestClassifier(n_estimators=100)\n",
    "svm = SVC(kernel='linear', C=1)"
   ]
  },
  {
   "cell_type": "code",
   "execution_count": 106,
   "id": "5b858856",
   "metadata": {},
   "outputs": [
    {
     "data": {
      "text/html": [
       "<style>#sk-container-id-7 {color: black;background-color: white;}#sk-container-id-7 pre{padding: 0;}#sk-container-id-7 div.sk-toggleable {background-color: white;}#sk-container-id-7 label.sk-toggleable__label {cursor: pointer;display: block;width: 100%;margin-bottom: 0;padding: 0.3em;box-sizing: border-box;text-align: center;}#sk-container-id-7 label.sk-toggleable__label-arrow:before {content: \"▸\";float: left;margin-right: 0.25em;color: #696969;}#sk-container-id-7 label.sk-toggleable__label-arrow:hover:before {color: black;}#sk-container-id-7 div.sk-estimator:hover label.sk-toggleable__label-arrow:before {color: black;}#sk-container-id-7 div.sk-toggleable__content {max-height: 0;max-width: 0;overflow: hidden;text-align: left;background-color: #f0f8ff;}#sk-container-id-7 div.sk-toggleable__content pre {margin: 0.2em;color: black;border-radius: 0.25em;background-color: #f0f8ff;}#sk-container-id-7 input.sk-toggleable__control:checked~div.sk-toggleable__content {max-height: 200px;max-width: 100%;overflow: auto;}#sk-container-id-7 input.sk-toggleable__control:checked~label.sk-toggleable__label-arrow:before {content: \"▾\";}#sk-container-id-7 div.sk-estimator input.sk-toggleable__control:checked~label.sk-toggleable__label {background-color: #d4ebff;}#sk-container-id-7 div.sk-label input.sk-toggleable__control:checked~label.sk-toggleable__label {background-color: #d4ebff;}#sk-container-id-7 input.sk-hidden--visually {border: 0;clip: rect(1px 1px 1px 1px);clip: rect(1px, 1px, 1px, 1px);height: 1px;margin: -1px;overflow: hidden;padding: 0;position: absolute;width: 1px;}#sk-container-id-7 div.sk-estimator {font-family: monospace;background-color: #f0f8ff;border: 1px dotted black;border-radius: 0.25em;box-sizing: border-box;margin-bottom: 0.5em;}#sk-container-id-7 div.sk-estimator:hover {background-color: #d4ebff;}#sk-container-id-7 div.sk-parallel-item::after {content: \"\";width: 100%;border-bottom: 1px solid gray;flex-grow: 1;}#sk-container-id-7 div.sk-label:hover label.sk-toggleable__label {background-color: #d4ebff;}#sk-container-id-7 div.sk-serial::before {content: \"\";position: absolute;border-left: 1px solid gray;box-sizing: border-box;top: 0;bottom: 0;left: 50%;z-index: 0;}#sk-container-id-7 div.sk-serial {display: flex;flex-direction: column;align-items: center;background-color: white;padding-right: 0.2em;padding-left: 0.2em;position: relative;}#sk-container-id-7 div.sk-item {position: relative;z-index: 1;}#sk-container-id-7 div.sk-parallel {display: flex;align-items: stretch;justify-content: center;background-color: white;position: relative;}#sk-container-id-7 div.sk-item::before, #sk-container-id-7 div.sk-parallel-item::before {content: \"\";position: absolute;border-left: 1px solid gray;box-sizing: border-box;top: 0;bottom: 0;left: 50%;z-index: -1;}#sk-container-id-7 div.sk-parallel-item {display: flex;flex-direction: column;z-index: 1;position: relative;background-color: white;}#sk-container-id-7 div.sk-parallel-item:first-child::after {align-self: flex-end;width: 50%;}#sk-container-id-7 div.sk-parallel-item:last-child::after {align-self: flex-start;width: 50%;}#sk-container-id-7 div.sk-parallel-item:only-child::after {width: 0;}#sk-container-id-7 div.sk-dashed-wrapped {border: 1px dashed gray;margin: 0 0.4em 0.5em 0.4em;box-sizing: border-box;padding-bottom: 0.4em;background-color: white;}#sk-container-id-7 div.sk-label label {font-family: monospace;font-weight: bold;display: inline-block;line-height: 1.2em;}#sk-container-id-7 div.sk-label-container {text-align: center;}#sk-container-id-7 div.sk-container {/* jupyter's `normalize.less` sets `[hidden] { display: none; }` but bootstrap.min.css set `[hidden] { display: none !important; }` so we also need the `!important` here to be able to override the default hidden behavior on the sphinx rendered scikit-learn.org. See: https://github.com/scikit-learn/scikit-learn/issues/21755 */display: inline-block !important;position: relative;}#sk-container-id-7 div.sk-text-repr-fallback {display: none;}</style><div id=\"sk-container-id-7\" class=\"sk-top-container\"><div class=\"sk-text-repr-fallback\"><pre>SVC(C=1, kernel=&#x27;linear&#x27;)</pre><b>In a Jupyter environment, please rerun this cell to show the HTML representation or trust the notebook. <br />On GitHub, the HTML representation is unable to render, please try loading this page with nbviewer.org.</b></div><div class=\"sk-container\" hidden><div class=\"sk-item\"><div class=\"sk-estimator sk-toggleable\"><input class=\"sk-toggleable__control sk-hidden--visually\" id=\"sk-estimator-id-7\" type=\"checkbox\" checked><label for=\"sk-estimator-id-7\" class=\"sk-toggleable__label sk-toggleable__label-arrow\">SVC</label><div class=\"sk-toggleable__content\"><pre>SVC(C=1, kernel=&#x27;linear&#x27;)</pre></div></div></div></div></div>"
      ],
      "text/plain": [
       "SVC(C=1, kernel='linear')"
      ]
     },
     "execution_count": 106,
     "metadata": {},
     "output_type": "execute_result"
    }
   ],
   "source": [
    "# Train classifiers on training data\n",
    "rf.fit(X_train, Y_train)\n",
    "svm.fit(X_train, Y_train)"
   ]
  },
  {
   "cell_type": "code",
   "execution_count": 107,
   "id": "475b567e",
   "metadata": {},
   "outputs": [],
   "source": [
    "# Make predictions on testing data\n",
    "rf_preds = rf.predict(X_test)\n",
    "svm_preds = svm.predict(X_test)"
   ]
  },
  {
   "cell_type": "code",
   "execution_count": 108,
   "id": "9542f0b8",
   "metadata": {},
   "outputs": [],
   "source": [
    "# Combine predictions using majority voting\n",
    "ensemble_preds = []\n",
    "for i in range(len(X_test)):\n",
    "    if rf_preds[i] == svm_preds[i]:\n",
    "        ensemble_preds.append(rf_preds[i])\n",
    "    else:\n",
    "        ensemble_preds.append(rf_preds[i])  # You can also use svm_preds here"
   ]
  },
  {
   "cell_type": "code",
   "execution_count": 109,
   "id": "44a179f6",
   "metadata": {},
   "outputs": [
    {
     "name": "stdout",
     "output_type": "stream",
     "text": [
      "Ensemble accuracy: 87.08 %\n"
     ]
    }
   ],
   "source": [
    "# Calculate accuracy of ensemble predictions\n",
    "ensemble_acc = accuracy_score(Y_test, ensemble_preds)\n",
    "print(\"Ensemble accuracy:\", round(ensemble_acc*100,2),'%')"
   ]
  },
  {
   "cell_type": "code",
   "execution_count": 110,
   "id": "f91ec43d",
   "metadata": {},
   "outputs": [
    {
     "data": {
      "text/plain": [
       "array([[2259,  302],\n",
       "       [ 416, 2579]], dtype=int64)"
      ]
     },
     "execution_count": 110,
     "metadata": {},
     "output_type": "execute_result"
    }
   ],
   "source": [
    "cm = confusion_matrix(Y_test, ensemble_preds)\n",
    "cm"
   ]
  },
  {
   "cell_type": "code",
   "execution_count": 111,
   "id": "7b174303",
   "metadata": {},
   "outputs": [
    {
     "name": "stdout",
     "output_type": "stream",
     "text": [
      "for testing :  89.52 %\n"
     ]
    }
   ],
   "source": [
    "# precision for testing\n",
    "print('for testing : ' , round(precision_score(Y_test , ensemble_preds)*100,2),'%')"
   ]
  },
  {
   "cell_type": "code",
   "execution_count": 112,
   "id": "06cfdbbc",
   "metadata": {},
   "outputs": [
    {
     "name": "stdout",
     "output_type": "stream",
     "text": [
      "for testing :  86.11 %\n"
     ]
    }
   ],
   "source": [
    "# Recall for testing \n",
    "print('for testing : ' , round(recall_score(Y_test , ensemble_preds)*100,2),'%')"
   ]
  },
  {
   "cell_type": "code",
   "execution_count": 113,
   "id": "99aa2259",
   "metadata": {},
   "outputs": [
    {
     "name": "stdout",
     "output_type": "stream",
     "text": [
      "for testing :  87.78 %\n"
     ]
    }
   ],
   "source": [
    "# f1_score for testing \n",
    "print('for testing : ' , round(f1_score(Y_test , ensemble_preds)*100,2),'%')"
   ]
  },
  {
   "cell_type": "code",
   "execution_count": 114,
   "id": "419cf451",
   "metadata": {},
   "outputs": [],
   "source": [
    "# for sensitivity and specificity\n",
    "tn_rfsvm, fp_rfsvm, fn_rfsvm, tp_rfsvm = cm.ravel()"
   ]
  },
  {
   "cell_type": "code",
   "execution_count": 115,
   "id": "473ffec9",
   "metadata": {},
   "outputs": [
    {
     "name": "stdout",
     "output_type": "stream",
     "text": [
      "specificity for data is :  88.21 %\n"
     ]
    }
   ],
   "source": [
    "specificity_rfsvm = tn_rfsvm / (tn_rfsvm+fp_rfsvm)\n",
    "print('specificity for data is : ',round(specificity_rfsvm*100,2),'%')"
   ]
  },
  {
   "cell_type": "code",
   "execution_count": 116,
   "id": "6facd539",
   "metadata": {},
   "outputs": [
    {
     "name": "stdout",
     "output_type": "stream",
     "text": [
      "sensitivity for data is :  86.11 %\n"
     ]
    }
   ],
   "source": [
    "sensitivity_rfsvm = tp_rfsvm / (tp_rfsvm+fn_rfsvm)\n",
    "print('sensitivity for data is : ',round(sensitivity_rfsvm*100,2),'%')"
   ]
  },
  {
   "cell_type": "code",
   "execution_count": 117,
   "id": "50f18589",
   "metadata": {},
   "outputs": [],
   "source": [
    "#ROC and AUC\n",
    "fpr_rfsvm, tpr_rfsvm, threshold_rfsvm = roc_curve(Y_test,ensemble_preds)\n",
    "roc_auc_rfsvm = auc(fpr_rfsvm, tpr_rfsvm)"
   ]
  },
  {
   "cell_type": "code",
   "execution_count": 118,
   "id": "518ca7c9",
   "metadata": {},
   "outputs": [
    {
     "name": "stdout",
     "output_type": "stream",
     "text": [
      "Area under curve :  87.16 %\n"
     ]
    }
   ],
   "source": [
    "print('Area under curve : ',round(roc_auc_rfsvm*100,2),'%')"
   ]
  },
  {
   "cell_type": "code",
   "execution_count": 119,
   "id": "106789fc",
   "metadata": {},
   "outputs": [
    {
     "data": {
      "text/plain": [
       "[<matplotlib.lines.Line2D at 0x1c30a18e550>]"
      ]
     },
     "execution_count": 119,
     "metadata": {},
     "output_type": "execute_result"
    }
   ],
   "source": [
    "ax.plot(fpr_rfsvm, tpr_rfsvm, 'b', label = 'AUC = %0.2f' % roc_auc_rfsvm)"
   ]
  },
  {
   "cell_type": "markdown",
   "id": "6661e436",
   "metadata": {},
   "source": [
    "# RANDOM FOREST - KNN "
   ]
  },
  {
   "cell_type": "code",
   "execution_count": 120,
   "id": "7a303555",
   "metadata": {},
   "outputs": [
    {
     "data": {
      "text/html": [
       "<style>#sk-container-id-8 {color: black;background-color: white;}#sk-container-id-8 pre{padding: 0;}#sk-container-id-8 div.sk-toggleable {background-color: white;}#sk-container-id-8 label.sk-toggleable__label {cursor: pointer;display: block;width: 100%;margin-bottom: 0;padding: 0.3em;box-sizing: border-box;text-align: center;}#sk-container-id-8 label.sk-toggleable__label-arrow:before {content: \"▸\";float: left;margin-right: 0.25em;color: #696969;}#sk-container-id-8 label.sk-toggleable__label-arrow:hover:before {color: black;}#sk-container-id-8 div.sk-estimator:hover label.sk-toggleable__label-arrow:before {color: black;}#sk-container-id-8 div.sk-toggleable__content {max-height: 0;max-width: 0;overflow: hidden;text-align: left;background-color: #f0f8ff;}#sk-container-id-8 div.sk-toggleable__content pre {margin: 0.2em;color: black;border-radius: 0.25em;background-color: #f0f8ff;}#sk-container-id-8 input.sk-toggleable__control:checked~div.sk-toggleable__content {max-height: 200px;max-width: 100%;overflow: auto;}#sk-container-id-8 input.sk-toggleable__control:checked~label.sk-toggleable__label-arrow:before {content: \"▾\";}#sk-container-id-8 div.sk-estimator input.sk-toggleable__control:checked~label.sk-toggleable__label {background-color: #d4ebff;}#sk-container-id-8 div.sk-label input.sk-toggleable__control:checked~label.sk-toggleable__label {background-color: #d4ebff;}#sk-container-id-8 input.sk-hidden--visually {border: 0;clip: rect(1px 1px 1px 1px);clip: rect(1px, 1px, 1px, 1px);height: 1px;margin: -1px;overflow: hidden;padding: 0;position: absolute;width: 1px;}#sk-container-id-8 div.sk-estimator {font-family: monospace;background-color: #f0f8ff;border: 1px dotted black;border-radius: 0.25em;box-sizing: border-box;margin-bottom: 0.5em;}#sk-container-id-8 div.sk-estimator:hover {background-color: #d4ebff;}#sk-container-id-8 div.sk-parallel-item::after {content: \"\";width: 100%;border-bottom: 1px solid gray;flex-grow: 1;}#sk-container-id-8 div.sk-label:hover label.sk-toggleable__label {background-color: #d4ebff;}#sk-container-id-8 div.sk-serial::before {content: \"\";position: absolute;border-left: 1px solid gray;box-sizing: border-box;top: 0;bottom: 0;left: 50%;z-index: 0;}#sk-container-id-8 div.sk-serial {display: flex;flex-direction: column;align-items: center;background-color: white;padding-right: 0.2em;padding-left: 0.2em;position: relative;}#sk-container-id-8 div.sk-item {position: relative;z-index: 1;}#sk-container-id-8 div.sk-parallel {display: flex;align-items: stretch;justify-content: center;background-color: white;position: relative;}#sk-container-id-8 div.sk-item::before, #sk-container-id-8 div.sk-parallel-item::before {content: \"\";position: absolute;border-left: 1px solid gray;box-sizing: border-box;top: 0;bottom: 0;left: 50%;z-index: -1;}#sk-container-id-8 div.sk-parallel-item {display: flex;flex-direction: column;z-index: 1;position: relative;background-color: white;}#sk-container-id-8 div.sk-parallel-item:first-child::after {align-self: flex-end;width: 50%;}#sk-container-id-8 div.sk-parallel-item:last-child::after {align-self: flex-start;width: 50%;}#sk-container-id-8 div.sk-parallel-item:only-child::after {width: 0;}#sk-container-id-8 div.sk-dashed-wrapped {border: 1px dashed gray;margin: 0 0.4em 0.5em 0.4em;box-sizing: border-box;padding-bottom: 0.4em;background-color: white;}#sk-container-id-8 div.sk-label label {font-family: monospace;font-weight: bold;display: inline-block;line-height: 1.2em;}#sk-container-id-8 div.sk-label-container {text-align: center;}#sk-container-id-8 div.sk-container {/* jupyter's `normalize.less` sets `[hidden] { display: none; }` but bootstrap.min.css set `[hidden] { display: none !important; }` so we also need the `!important` here to be able to override the default hidden behavior on the sphinx rendered scikit-learn.org. See: https://github.com/scikit-learn/scikit-learn/issues/21755 */display: inline-block !important;position: relative;}#sk-container-id-8 div.sk-text-repr-fallback {display: none;}</style><div id=\"sk-container-id-8\" class=\"sk-top-container\"><div class=\"sk-text-repr-fallback\"><pre>RandomForestClassifier()</pre><b>In a Jupyter environment, please rerun this cell to show the HTML representation or trust the notebook. <br />On GitHub, the HTML representation is unable to render, please try loading this page with nbviewer.org.</b></div><div class=\"sk-container\" hidden><div class=\"sk-item\"><div class=\"sk-estimator sk-toggleable\"><input class=\"sk-toggleable__control sk-hidden--visually\" id=\"sk-estimator-id-8\" type=\"checkbox\" checked><label for=\"sk-estimator-id-8\" class=\"sk-toggleable__label sk-toggleable__label-arrow\">RandomForestClassifier</label><div class=\"sk-toggleable__content\"><pre>RandomForestClassifier()</pre></div></div></div></div></div>"
      ],
      "text/plain": [
       "RandomForestClassifier()"
      ]
     },
     "execution_count": 120,
     "metadata": {},
     "output_type": "execute_result"
    }
   ],
   "source": [
    "# Train classifiers on training data\n",
    "knn.fit(X_train, Y_train)\n",
    "rf.fit(X_train, Y_train)"
   ]
  },
  {
   "cell_type": "code",
   "execution_count": 121,
   "id": "62460540",
   "metadata": {},
   "outputs": [],
   "source": [
    "# Make predictions on testing data\n",
    "knn_preds = knn.predict(X_test)\n",
    "rf_preds = rf.predict(X_test)"
   ]
  },
  {
   "cell_type": "code",
   "execution_count": 122,
   "id": "51714297",
   "metadata": {},
   "outputs": [],
   "source": [
    "# Combine predictions using majority voting\n",
    "ensemble_preds = []\n",
    "for i in range(len(X_test)):\n",
    "    if knn_preds[i] == rf_preds[i]:\n",
    "        ensemble_preds.append(knn_preds[i])\n",
    "    else:\n",
    "        ensemble_preds.append(knn_preds[i])  # You can also use rf_preds here"
   ]
  },
  {
   "cell_type": "code",
   "execution_count": 123,
   "id": "59d8486d",
   "metadata": {},
   "outputs": [
    {
     "name": "stdout",
     "output_type": "stream",
     "text": [
      "Ensemble accuracy: 74.53 %\n"
     ]
    }
   ],
   "source": [
    "# Calculate accuracy of ensemble predictions\n",
    "ensemble_acc = accuracy_score(Y_test, ensemble_preds)\n",
    "print(\"Ensemble accuracy:\", round(ensemble_acc*100,2),'%')"
   ]
  },
  {
   "cell_type": "code",
   "execution_count": 124,
   "id": "5e9a41f3",
   "metadata": {},
   "outputs": [
    {
     "data": {
      "text/plain": [
       "array([[1919,  642],\n",
       "       [ 773, 2222]], dtype=int64)"
      ]
     },
     "execution_count": 124,
     "metadata": {},
     "output_type": "execute_result"
    }
   ],
   "source": [
    "cm = confusion_matrix(Y_test, ensemble_preds)\n",
    "cm"
   ]
  },
  {
   "cell_type": "code",
   "execution_count": 125,
   "id": "9e399a49",
   "metadata": {},
   "outputs": [
    {
     "name": "stdout",
     "output_type": "stream",
     "text": [
      "for testing :  77.58 %\n"
     ]
    }
   ],
   "source": [
    "# precision for testing\n",
    "print('for testing : ' , round(precision_score(Y_test , ensemble_preds)*100,2),'%')"
   ]
  },
  {
   "cell_type": "code",
   "execution_count": 126,
   "id": "b5398821",
   "metadata": {},
   "outputs": [
    {
     "name": "stdout",
     "output_type": "stream",
     "text": [
      "for testing :  74.19 %\n"
     ]
    }
   ],
   "source": [
    "# Recall for testing \n",
    "print('for testing : ' , round(recall_score(Y_test , ensemble_preds)*100,2),'%')"
   ]
  },
  {
   "cell_type": "code",
   "execution_count": 127,
   "id": "dcfba93f",
   "metadata": {},
   "outputs": [
    {
     "name": "stdout",
     "output_type": "stream",
     "text": [
      "for testing :  75.85 %\n"
     ]
    }
   ],
   "source": [
    "# f1_score for testing \n",
    "print('for testing : ' , round(f1_score(Y_test , ensemble_preds)*100,2),'%')"
   ]
  },
  {
   "cell_type": "code",
   "execution_count": 128,
   "id": "a2424d4e",
   "metadata": {},
   "outputs": [],
   "source": [
    "# for sensitivity and specificity\n",
    "tn_rfknn, fp_rfknn, fn_rfknn, tp_rfknn = cm.ravel()"
   ]
  },
  {
   "cell_type": "code",
   "execution_count": 129,
   "id": "6e032b13",
   "metadata": {},
   "outputs": [
    {
     "name": "stdout",
     "output_type": "stream",
     "text": [
      "specificity for data is :  74.93 %\n"
     ]
    }
   ],
   "source": [
    "specificity_rfknn = tn_rfknn / (tn_rfknn+fp_rfknn)\n",
    "print('specificity for data is : ',round(specificity_rfknn*100,2),'%')"
   ]
  },
  {
   "cell_type": "code",
   "execution_count": 130,
   "id": "a5bda82b",
   "metadata": {},
   "outputs": [
    {
     "name": "stdout",
     "output_type": "stream",
     "text": [
      "sensitivity for data is :  74.19 %\n"
     ]
    }
   ],
   "source": [
    "sensitivity_rfknn = tp_rfknn / (tp_rfknn+fn_rfknn)\n",
    "print('sensitivity for data is : ',round(sensitivity_rfknn*100,2),'%')"
   ]
  },
  {
   "cell_type": "code",
   "execution_count": 131,
   "id": "69c3c480",
   "metadata": {},
   "outputs": [],
   "source": [
    "#ROC and AUC\n",
    "fpr_rfknn, tpr_rfknn, threshold_rfknn = roc_curve(Y_test,ensemble_preds)\n",
    "roc_auc_rfknn = auc(fpr_rfknn, tpr_rfknn)"
   ]
  },
  {
   "cell_type": "code",
   "execution_count": 132,
   "id": "09fb02c9",
   "metadata": {},
   "outputs": [
    {
     "name": "stdout",
     "output_type": "stream",
     "text": [
      "Area under curve :  74.56 %\n"
     ]
    }
   ],
   "source": [
    "print('Area under curve : ',round(roc_auc_rfknn*100,2),'%')"
   ]
  },
  {
   "cell_type": "code",
   "execution_count": 133,
   "id": "66ed3258",
   "metadata": {},
   "outputs": [
    {
     "data": {
      "text/plain": [
       "[<matplotlib.lines.Line2D at 0x1c30a27dad0>]"
      ]
     },
     "execution_count": 133,
     "metadata": {},
     "output_type": "execute_result"
    }
   ],
   "source": [
    "ax.plot(fpr_rfknn, tpr_rfknn, 'b', label = 'AUC = %0.2f' % roc_auc_rfknn)"
   ]
  },
  {
   "cell_type": "code",
   "execution_count": null,
   "id": "d1411b83",
   "metadata": {},
   "outputs": [],
   "source": []
  },
  {
   "cell_type": "code",
   "execution_count": null,
   "id": "205e85d4",
   "metadata": {},
   "outputs": [],
   "source": []
  },
  {
   "cell_type": "code",
   "execution_count": 157,
   "id": "ff3a346f",
   "metadata": {},
   "outputs": [
    {
     "data": {
      "image/png": "[encoded data removed]",
      "text/plain": [
       "<Figure size 800x600 with 1 Axes>"
      ]
     },
     "metadata": {},
     "output_type": "display_data"
    }
   ],
   "source": [
    "fig, ax = plt.subplots(1, figsize=(8, 6))\n",
    "fig.suptitle('ROC curve', fontsize=15)\n",
    "ax.plot(fpr_rfknn, tpr_rfknn, 'b',linestyle = '-', label = 'RF-KNN = %0.2f' % roc_auc_rfknn)\n",
    "ax.plot(fpr_rfsvm, tpr_rfsvm, 'r',linestyle = '--', label = 'RF-SVM = %0.2f' % roc_auc_rfsvm)\n",
    "ax.plot(fpr_rfann, tpr_rfann, 'cyan',linestyle = 'dotted', label = 'RF-ANN = %0.2f' % roc_auc_rfann)\n",
    "ax.plot(fpr_knnann, tpr_knnann, 'c',linestyle = 'dashdot', label = 'KNN-ANN = %0.2f' % roc_auc_knnann)\n",
    "ax.plot(fpr_svmknn, tpr_svmknn, 'k',linestyle = '--', label = 'SVM-KNN = %0.2f' % roc_auc_svmknn)\n",
    "ax.plot(fpr_knn, tpr_knn, 'm',linestyle = ':', label = 'KNN = %0.2f' % roc_auc_knn)\n",
    "ax.plot(fpr_rf,tpr_rf, 'b', linestyle = 'solid',label = 'RF = %0.2f' % roc_auc_rf)\n",
    "ax.plot(fpr_ann, tpr_ann, 'pink', linestyle = '-',label = 'ANN = %0.2f' % roc_auc_ann)\n",
    "ax.plot(fpr_svm, tpr_svm, 'g',linestyle = '--', label = 'SVM = %0.2f' % roc_auc_svm)\n",
    "plt.legend(loc=\"lower right\", title=\"Legend Title\", frameon=False)\n",
    "ax.set_xlabel('Sensitivity')\n",
    "ax.set_ylabel('Specificity')\n",
    "plt.show()\n"
   ]
  },
  {
   "cell_type": "code",
   "execution_count": null,
   "id": "867a0d49",
   "metadata": {},
   "outputs": [],
   "source": []
  },
  {
   "cell_type": "code",
   "execution_count": null,
   "id": "6ae6a15f",
   "metadata": {},
   "outputs": [],
   "source": []
  }
 ],
 "metadata": {
  "kernelspec": {
   "display_name": "Python 3 (ipykernel)",
   "language": "python",
   "name": "python3"
  },
  "language_info": {
   "codemirror_mode": {
    "name": "ipython",
    "version": 3
   },
   "file_extension": ".py",
   "mimetype": "text/x-python",
   "name": "python",
   "nbconvert_exporter": "python",
   "pygments_lexer": "ipython3",
   "version": "3.11.0"
  }
 },
 "nbformat": 4,
 "nbformat_minor": 5
}
