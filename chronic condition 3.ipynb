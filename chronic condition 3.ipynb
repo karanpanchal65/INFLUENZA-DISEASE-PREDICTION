{
 "cells": [
  {
   "cell_type": "code",
   "execution_count": 27,
   "id": "4371297c",
   "metadata": {},
   "outputs": [],
   "source": [
    "import pandas as pd\n",
    "import numpy as np\n",
    "import matplotlib.pyplot as plt\n",
    "import seaborn as snb"
   ]
  },
  {
   "cell_type": "code",
   "execution_count": 28,
   "id": "23e4e170",
   "metadata": {},
   "outputs": [],
   "source": [
    "df = pd.read_csv('influenza5.csv')"
   ]
  },
  {
   "cell_type": "code",
   "execution_count": 29,
   "id": "a746f09c",
   "metadata": {},
   "outputs": [],
   "source": [
    "df['Pathogen Test Result'] = df['Pathogen Test Result'].map({'Negative':0 ,'Positive':1})"
   ]
  },
  {
   "cell_type": "code",
   "execution_count": 30,
   "id": "04f05570",
   "metadata": {},
   "outputs": [],
   "source": [
    "df['Pathogen Test Result'] = df['Pathogen Test Result'].fillna(0)"
   ]
  },
  {
   "cell_type": "code",
   "execution_count": 31,
   "id": "8c3a73f7",
   "metadata": {},
   "outputs": [],
   "source": [
    "df['Pathogen Test Result'] = df['Pathogen Test Result'].astype(int)"
   ]
  },
  {
   "cell_type": "code",
   "execution_count": 32,
   "id": "5e51248d",
   "metadata": {},
   "outputs": [],
   "source": [
    "age = df['Host Age']"
   ]
  },
  {
   "cell_type": "code",
   "execution_count": 33,
   "id": "b666edd0",
   "metadata": {},
   "outputs": [],
   "source": [
    "age = age.replace('Not Provided' , '0').replace('Not Collected' , '0').replace('>90' , '95')"
   ]
  },
  {
   "cell_type": "code",
   "execution_count": 34,
   "id": "c26950ed",
   "metadata": {
    "scrolled": false
   },
   "outputs": [],
   "source": [
    "age = age"
   ]
  },
  {
   "cell_type": "code",
   "execution_count": 35,
   "id": "71f021e9",
   "metadata": {},
   "outputs": [],
   "source": [
    "age = age.astype(float)"
   ]
  },
  {
   "cell_type": "code",
   "execution_count": 36,
   "id": "79ed8df4",
   "metadata": {},
   "outputs": [],
   "source": [
    "age = age.astype(int)"
   ]
  },
  {
   "cell_type": "code",
   "execution_count": 37,
   "id": "b9f9dfb2",
   "metadata": {},
   "outputs": [
    {
     "data": {
      "text/plain": [
       "0         0\n",
       "1         0\n",
       "2        42\n",
       "3        26\n",
       "4         0\n",
       "         ..\n",
       "30525    58\n",
       "30526     0\n",
       "30527    74\n",
       "30528     4\n",
       "30529    42\n",
       "Name: Host Age, Length: 30530, dtype: int32"
      ]
     },
     "execution_count": 37,
     "metadata": {},
     "output_type": "execute_result"
    }
   ],
   "source": [
    "age"
   ]
  },
  {
   "cell_type": "code",
   "execution_count": 38,
   "id": "0658a20c",
   "metadata": {},
   "outputs": [],
   "source": [
    "df['Host Age'] = age"
   ]
  },
  {
   "cell_type": "code",
   "execution_count": 39,
   "id": "5a610701",
   "metadata": {},
   "outputs": [
    {
     "data": {
      "text/plain": [
       "Index(['Unnamed: 0', 'Collection Year', 'Pathogen Test Result', 'Host Sex',\n",
       "       'Host Age', 'Chronic Conditions', 'Fever', 'chills', 'conjunctivitis',\n",
       "       'cough', 'diarrhea', 'fever', 'headache', 'loss of appetite', 'malaise',\n",
       "       'myalgia', 'nausea', 'other symptoms', 'running nose', 'short breath',\n",
       "       'throat', 'vomiting', 'wheezing'],\n",
       "      dtype='object')"
      ]
     },
     "execution_count": 39,
     "metadata": {},
     "output_type": "execute_result"
    }
   ],
   "source": [
    "df.columns"
   ]
  },
  {
   "cell_type": "code",
   "execution_count": 15,
   "id": "eab46920",
   "metadata": {},
   "outputs": [
    {
     "data": {
      "text/html": [
       "<div>\n",
       "<style scoped>\n",
       "    .dataframe tbody tr th:only-of-type {\n",
       "        vertical-align: middle;\n",
       "    }\n",
       "\n",
       "    .dataframe tbody tr th {\n",
       "        vertical-align: top;\n",
       "    }\n",
       "\n",
       "    .dataframe thead th {\n",
       "        text-align: right;\n",
       "    }\n",
       "</style>\n",
       "<table border=\"1\" class=\"dataframe\">\n",
       "  <thead>\n",
       "    <tr style=\"text-align: right;\">\n",
       "      <th></th>\n",
       "      <th>Unnamed: 0</th>\n",
       "      <th>Collection Year</th>\n",
       "      <th>Pathogen Test Result</th>\n",
       "      <th>Host Sex</th>\n",
       "      <th>Host Age</th>\n",
       "      <th>Chronic Conditions</th>\n",
       "      <th>Fever</th>\n",
       "      <th>chills</th>\n",
       "      <th>conjunctivitis</th>\n",
       "      <th>cough</th>\n",
       "      <th>...</th>\n",
       "      <th>loss of appetite</th>\n",
       "      <th>malaise</th>\n",
       "      <th>myalgia</th>\n",
       "      <th>nausea</th>\n",
       "      <th>other symptoms</th>\n",
       "      <th>running nose</th>\n",
       "      <th>short breath</th>\n",
       "      <th>throat</th>\n",
       "      <th>vomiting</th>\n",
       "      <th>wheezing</th>\n",
       "    </tr>\n",
       "  </thead>\n",
       "  <tbody>\n",
       "    <tr>\n",
       "      <th>0</th>\n",
       "      <td>0</td>\n",
       "      <td>2009</td>\n",
       "      <td>0</td>\n",
       "      <td>Male</td>\n",
       "      <td>0</td>\n",
       "      <td>0</td>\n",
       "      <td>1</td>\n",
       "      <td>0</td>\n",
       "      <td>0</td>\n",
       "      <td>1</td>\n",
       "      <td>...</td>\n",
       "      <td>0</td>\n",
       "      <td>1</td>\n",
       "      <td>1</td>\n",
       "      <td>1</td>\n",
       "      <td>0</td>\n",
       "      <td>1</td>\n",
       "      <td>1</td>\n",
       "      <td>1</td>\n",
       "      <td>0</td>\n",
       "      <td>0</td>\n",
       "    </tr>\n",
       "    <tr>\n",
       "      <th>1</th>\n",
       "      <td>1</td>\n",
       "      <td>2008</td>\n",
       "      <td>0</td>\n",
       "      <td>Female</td>\n",
       "      <td>0</td>\n",
       "      <td>0</td>\n",
       "      <td>1</td>\n",
       "      <td>0</td>\n",
       "      <td>0</td>\n",
       "      <td>0</td>\n",
       "      <td>...</td>\n",
       "      <td>0</td>\n",
       "      <td>1</td>\n",
       "      <td>1</td>\n",
       "      <td>1</td>\n",
       "      <td>0</td>\n",
       "      <td>0</td>\n",
       "      <td>1</td>\n",
       "      <td>1</td>\n",
       "      <td>0</td>\n",
       "      <td>0</td>\n",
       "    </tr>\n",
       "    <tr>\n",
       "      <th>2</th>\n",
       "      <td>2</td>\n",
       "      <td>2013</td>\n",
       "      <td>1</td>\n",
       "      <td>Female</td>\n",
       "      <td>42</td>\n",
       "      <td>0</td>\n",
       "      <td>0</td>\n",
       "      <td>0</td>\n",
       "      <td>0</td>\n",
       "      <td>0</td>\n",
       "      <td>...</td>\n",
       "      <td>0</td>\n",
       "      <td>0</td>\n",
       "      <td>0</td>\n",
       "      <td>0</td>\n",
       "      <td>0</td>\n",
       "      <td>0</td>\n",
       "      <td>0</td>\n",
       "      <td>0</td>\n",
       "      <td>0</td>\n",
       "      <td>0</td>\n",
       "    </tr>\n",
       "    <tr>\n",
       "      <th>3</th>\n",
       "      <td>3</td>\n",
       "      <td>2019</td>\n",
       "      <td>0</td>\n",
       "      <td>Female</td>\n",
       "      <td>26</td>\n",
       "      <td>26</td>\n",
       "      <td>1</td>\n",
       "      <td>1</td>\n",
       "      <td>0</td>\n",
       "      <td>1</td>\n",
       "      <td>...</td>\n",
       "      <td>1</td>\n",
       "      <td>1</td>\n",
       "      <td>1</td>\n",
       "      <td>1</td>\n",
       "      <td>0</td>\n",
       "      <td>1</td>\n",
       "      <td>1</td>\n",
       "      <td>1</td>\n",
       "      <td>1</td>\n",
       "      <td>1</td>\n",
       "    </tr>\n",
       "    <tr>\n",
       "      <th>4</th>\n",
       "      <td>4</td>\n",
       "      <td>2009</td>\n",
       "      <td>0</td>\n",
       "      <td>Female</td>\n",
       "      <td>0</td>\n",
       "      <td>0</td>\n",
       "      <td>1</td>\n",
       "      <td>0</td>\n",
       "      <td>0</td>\n",
       "      <td>1</td>\n",
       "      <td>...</td>\n",
       "      <td>0</td>\n",
       "      <td>1</td>\n",
       "      <td>1</td>\n",
       "      <td>1</td>\n",
       "      <td>0</td>\n",
       "      <td>0</td>\n",
       "      <td>1</td>\n",
       "      <td>0</td>\n",
       "      <td>0</td>\n",
       "      <td>0</td>\n",
       "    </tr>\n",
       "    <tr>\n",
       "      <th>...</th>\n",
       "      <td>...</td>\n",
       "      <td>...</td>\n",
       "      <td>...</td>\n",
       "      <td>...</td>\n",
       "      <td>...</td>\n",
       "      <td>...</td>\n",
       "      <td>...</td>\n",
       "      <td>...</td>\n",
       "      <td>...</td>\n",
       "      <td>...</td>\n",
       "      <td>...</td>\n",
       "      <td>...</td>\n",
       "      <td>...</td>\n",
       "      <td>...</td>\n",
       "      <td>...</td>\n",
       "      <td>...</td>\n",
       "      <td>...</td>\n",
       "      <td>...</td>\n",
       "      <td>...</td>\n",
       "      <td>...</td>\n",
       "      <td>...</td>\n",
       "    </tr>\n",
       "    <tr>\n",
       "      <th>30525</th>\n",
       "      <td>30525</td>\n",
       "      <td>2016</td>\n",
       "      <td>0</td>\n",
       "      <td>Female</td>\n",
       "      <td>58</td>\n",
       "      <td>8</td>\n",
       "      <td>0</td>\n",
       "      <td>1</td>\n",
       "      <td>1</td>\n",
       "      <td>0</td>\n",
       "      <td>...</td>\n",
       "      <td>0</td>\n",
       "      <td>0</td>\n",
       "      <td>0</td>\n",
       "      <td>0</td>\n",
       "      <td>0</td>\n",
       "      <td>0</td>\n",
       "      <td>0</td>\n",
       "      <td>0</td>\n",
       "      <td>0</td>\n",
       "      <td>0</td>\n",
       "    </tr>\n",
       "    <tr>\n",
       "      <th>30526</th>\n",
       "      <td>30526</td>\n",
       "      <td>2008</td>\n",
       "      <td>0</td>\n",
       "      <td>Male</td>\n",
       "      <td>0</td>\n",
       "      <td>0</td>\n",
       "      <td>1</td>\n",
       "      <td>0</td>\n",
       "      <td>0</td>\n",
       "      <td>1</td>\n",
       "      <td>...</td>\n",
       "      <td>0</td>\n",
       "      <td>1</td>\n",
       "      <td>1</td>\n",
       "      <td>1</td>\n",
       "      <td>0</td>\n",
       "      <td>1</td>\n",
       "      <td>1</td>\n",
       "      <td>0</td>\n",
       "      <td>0</td>\n",
       "      <td>0</td>\n",
       "    </tr>\n",
       "    <tr>\n",
       "      <th>30527</th>\n",
       "      <td>30527</td>\n",
       "      <td>2018</td>\n",
       "      <td>1</td>\n",
       "      <td>Female</td>\n",
       "      <td>74</td>\n",
       "      <td>26</td>\n",
       "      <td>0</td>\n",
       "      <td>1</td>\n",
       "      <td>0</td>\n",
       "      <td>1</td>\n",
       "      <td>...</td>\n",
       "      <td>1</td>\n",
       "      <td>1</td>\n",
       "      <td>1</td>\n",
       "      <td>0</td>\n",
       "      <td>0</td>\n",
       "      <td>0</td>\n",
       "      <td>1</td>\n",
       "      <td>1</td>\n",
       "      <td>0</td>\n",
       "      <td>1</td>\n",
       "    </tr>\n",
       "    <tr>\n",
       "      <th>30528</th>\n",
       "      <td>30528</td>\n",
       "      <td>2020</td>\n",
       "      <td>0</td>\n",
       "      <td>Male</td>\n",
       "      <td>4</td>\n",
       "      <td>0</td>\n",
       "      <td>1</td>\n",
       "      <td>0</td>\n",
       "      <td>0</td>\n",
       "      <td>1</td>\n",
       "      <td>...</td>\n",
       "      <td>0</td>\n",
       "      <td>0</td>\n",
       "      <td>0</td>\n",
       "      <td>0</td>\n",
       "      <td>0</td>\n",
       "      <td>1</td>\n",
       "      <td>1</td>\n",
       "      <td>1</td>\n",
       "      <td>0</td>\n",
       "      <td>0</td>\n",
       "    </tr>\n",
       "    <tr>\n",
       "      <th>30529</th>\n",
       "      <td>30529</td>\n",
       "      <td>2014</td>\n",
       "      <td>1</td>\n",
       "      <td>Male</td>\n",
       "      <td>42</td>\n",
       "      <td>0</td>\n",
       "      <td>0</td>\n",
       "      <td>1</td>\n",
       "      <td>0</td>\n",
       "      <td>1</td>\n",
       "      <td>...</td>\n",
       "      <td>0</td>\n",
       "      <td>0</td>\n",
       "      <td>0</td>\n",
       "      <td>0</td>\n",
       "      <td>0</td>\n",
       "      <td>1</td>\n",
       "      <td>0</td>\n",
       "      <td>1</td>\n",
       "      <td>0</td>\n",
       "      <td>0</td>\n",
       "    </tr>\n",
       "  </tbody>\n",
       "</table>\n",
       "<p>30530 rows × 23 columns</p>\n",
       "</div>"
      ],
      "text/plain": [
       "       Unnamed: 0  Collection Year  Pathogen Test Result Host Sex  Host Age  \\\n",
       "0               0             2009                     0     Male         0   \n",
       "1               1             2008                     0   Female         0   \n",
       "2               2             2013                     1   Female        42   \n",
       "3               3             2019                     0   Female        26   \n",
       "4               4             2009                     0   Female         0   \n",
       "...           ...              ...                   ...      ...       ...   \n",
       "30525       30525             2016                     0   Female        58   \n",
       "30526       30526             2008                     0     Male         0   \n",
       "30527       30527             2018                     1   Female        74   \n",
       "30528       30528             2020                     0     Male         4   \n",
       "30529       30529             2014                     1     Male        42   \n",
       "\n",
       "       Chronic Conditions  Fever  chills  conjunctivitis  cough  ...  \\\n",
       "0                       0      1       0               0      1  ...   \n",
       "1                       0      1       0               0      0  ...   \n",
       "2                       0      0       0               0      0  ...   \n",
       "3                      26      1       1               0      1  ...   \n",
       "4                       0      1       0               0      1  ...   \n",
       "...                   ...    ...     ...             ...    ...  ...   \n",
       "30525                   8      0       1               1      0  ...   \n",
       "30526                   0      1       0               0      1  ...   \n",
       "30527                  26      0       1               0      1  ...   \n",
       "30528                   0      1       0               0      1  ...   \n",
       "30529                   0      0       1               0      1  ...   \n",
       "\n",
       "       loss of appetite  malaise  myalgia  nausea  other symptoms  \\\n",
       "0                     0        1        1       1               0   \n",
       "1                     0        1        1       1               0   \n",
       "2                     0        0        0       0               0   \n",
       "3                     1        1        1       1               0   \n",
       "4                     0        1        1       1               0   \n",
       "...                 ...      ...      ...     ...             ...   \n",
       "30525                 0        0        0       0               0   \n",
       "30526                 0        1        1       1               0   \n",
       "30527                 1        1        1       0               0   \n",
       "30528                 0        0        0       0               0   \n",
       "30529                 0        0        0       0               0   \n",
       "\n",
       "       running nose  short breath  throat  vomiting  wheezing  \n",
       "0                 1             1       1         0         0  \n",
       "1                 0             1       1         0         0  \n",
       "2                 0             0       0         0         0  \n",
       "3                 1             1       1         1         1  \n",
       "4                 0             1       0         0         0  \n",
       "...             ...           ...     ...       ...       ...  \n",
       "30525             0             0       0         0         0  \n",
       "30526             1             1       0         0         0  \n",
       "30527             0             1       1         0         1  \n",
       "30528             1             1       1         0         0  \n",
       "30529             1             0       1         0         0  \n",
       "\n",
       "[30530 rows x 23 columns]"
      ]
     },
     "execution_count": 15,
     "metadata": {},
     "output_type": "execute_result"
    }
   ],
   "source": [
    "df"
   ]
  },
  {
   "cell_type": "code",
   "execution_count": 16,
   "id": "c3012a2b",
   "metadata": {},
   "outputs": [
    {
     "data": {
      "text/plain": [
       "dtype('int32')"
      ]
     },
     "execution_count": 16,
     "metadata": {},
     "output_type": "execute_result"
    }
   ],
   "source": [
    "df['Host Age'].dtype"
   ]
  },
  {
   "cell_type": "code",
   "execution_count": 17,
   "id": "174e306d",
   "metadata": {},
   "outputs": [],
   "source": [
    "df = df[df['Host Age'] != 0]"
   ]
  },
  {
   "cell_type": "code",
   "execution_count": 18,
   "id": "f954108a",
   "metadata": {},
   "outputs": [],
   "source": [
    "df.index = np.arange(len(df))"
   ]
  },
  {
   "cell_type": "code",
   "execution_count": 19,
   "id": "80200009",
   "metadata": {},
   "outputs": [],
   "source": [
    " df = df.drop(['Unnamed: 0'],axis =1)"
   ]
  },
  {
   "cell_type": "code",
   "execution_count": 20,
   "id": "fd08782f",
   "metadata": {},
   "outputs": [],
   "source": [
    "df['Host Sex'] = df['Host Sex'].map({'Female' : 0 , 'Male' : 1})"
   ]
  },
  {
   "cell_type": "code",
   "execution_count": 21,
   "id": "734782a0",
   "metadata": {},
   "outputs": [],
   "source": [
    "y=[]\n",
    "x=df['Host Sex'].isnull()\n",
    "for i in range(len(x)):\n",
    "    if  x[i]:\n",
    "        y.append(i)\n",
    "df = df.drop(y) "
   ]
  },
  {
   "cell_type": "code",
   "execution_count": null,
   "id": "80c80a0f",
   "metadata": {},
   "outputs": [],
   "source": []
  },
  {
   "cell_type": "code",
   "execution_count": 25,
   "id": "bec4c23e",
   "metadata": {},
   "outputs": [],
   "source": [
    "correlation = df.corr()"
   ]
  },
  {
   "cell_type": "code",
   "execution_count": 26,
   "id": "9320c9ea",
   "metadata": {},
   "outputs": [
    {
     "data": {
      "text/plain": [
       "<AxesSubplot: >"
      ]
     },
     "execution_count": 26,
     "metadata": {},
     "output_type": "execute_result"
    },
    {
     "data": {
      "image/png": "[encoded data removed]",
      "text/plain": [
       "<Figure size 640x480 with 2 Axes>"
      ]
     },
     "metadata": {},
     "output_type": "display_data"
    }
   ],
   "source": [
    "snb.heatmap(correlation)"
   ]
  },
  {
   "cell_type": "code",
   "execution_count": 22,
   "id": "20fd6e58",
   "metadata": {},
   "outputs": [],
   "source": [
    "# df.to_csv('inf.csv')"
   ]
  },
  {
   "cell_type": "code",
   "execution_count": null,
   "id": "69de06a8",
   "metadata": {},
   "outputs": [],
   "source": []
  },
  {
   "cell_type": "code",
   "execution_count": null,
   "id": "0a38fa16",
   "metadata": {},
   "outputs": [],
   "source": []
  }
 ],
 "metadata": {
  "kernelspec": {
   "display_name": "Python 3 (ipykernel)",
   "language": "python",
   "name": "python3"
  },
  "language_info": {
   "codemirror_mode": {
    "name": "ipython",
    "version": 3
   },
   "file_extension": ".py",
   "mimetype": "text/x-python",
   "name": "python",
   "nbconvert_exporter": "python",
   "pygments_lexer": "ipython3",
   "version": "3.11.0"
  }
 },
 "nbformat": 4,
 "nbformat_minor": 5
}
