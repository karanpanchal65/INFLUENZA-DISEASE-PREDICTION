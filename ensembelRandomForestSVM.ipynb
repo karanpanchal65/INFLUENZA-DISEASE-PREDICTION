{
 "cells": [
  {
   "cell_type": "code",
   "execution_count": 1,
   "id": "95e4a600",
   "metadata": {},
   "outputs": [],
   "source": [
    "from sklearn.ensemble import RandomForestClassifier\n",
    "from sklearn.svm import SVC\n",
    "from sklearn.metrics import accuracy_score\n",
    "import pandas as pd\n",
    "from sklearn.model_selection import train_test_split\n",
    "from sklearn.metrics import precision_score , recall_score , f1_score , confusion_matrix\n",
    "from sklearn.metrics import roc_curve , auc\n",
    "import matplotlib.pyplot as plt\n",
    "import seaborn as snb"
   ]
  },
  {
   "cell_type": "code",
   "execution_count": 2,
   "id": "c6a67149",
   "metadata": {},
   "outputs": [],
   "source": [
    "# Load the dataset\n",
    "df = pd.read_csv('inf.csv')\n",
    "df = df.drop(['Unnamed: 0'],axis = 1)"
   ]
  },
  {
   "cell_type": "code",
   "execution_count": 3,
   "id": "4226b142",
   "metadata": {},
   "outputs": [],
   "source": [
    "# Split the data into features and target variable\n",
    "X = df.drop(['Pathogen Test Result'],axis = 1)\n",
    "Y = df['Pathogen Test Result']"
   ]
  },
  {
   "cell_type": "code",
   "execution_count": 4,
   "id": "1c1a3aa0",
   "metadata": {},
   "outputs": [],
   "source": [
    "# split dataset\n",
    "X_train , X_test , y_train , y_test = train_test_split(X,Y,test_size= 0.3, random_state=2)"
   ]
  },
  {
   "cell_type": "code",
   "execution_count": 5,
   "id": "67d28e5b",
   "metadata": {},
   "outputs": [],
   "source": [
    "# Create Random Forest and SVM classifiers\n",
    "rf = RandomForestClassifier(n_estimators=100)\n",
    "svm = SVC(kernel='linear', C=1)"
   ]
  },
  {
   "cell_type": "code",
   "execution_count": 6,
   "id": "d8c6e27c",
   "metadata": {},
   "outputs": [
    {
     "data": {
      "text/html": [
       "<style>#sk-container-id-1 {color: black;background-color: white;}#sk-container-id-1 pre{padding: 0;}#sk-container-id-1 div.sk-toggleable {background-color: white;}#sk-container-id-1 label.sk-toggleable__label {cursor: pointer;display: block;width: 100%;margin-bottom: 0;padding: 0.3em;box-sizing: border-box;text-align: center;}#sk-container-id-1 label.sk-toggleable__label-arrow:before {content: \"▸\";float: left;margin-right: 0.25em;color: #696969;}#sk-container-id-1 label.sk-toggleable__label-arrow:hover:before {color: black;}#sk-container-id-1 div.sk-estimator:hover label.sk-toggleable__label-arrow:before {color: black;}#sk-container-id-1 div.sk-toggleable__content {max-height: 0;max-width: 0;overflow: hidden;text-align: left;background-color: #f0f8ff;}#sk-container-id-1 div.sk-toggleable__content pre {margin: 0.2em;color: black;border-radius: 0.25em;background-color: #f0f8ff;}#sk-container-id-1 input.sk-toggleable__control:checked~div.sk-toggleable__content {max-height: 200px;max-width: 100%;overflow: auto;}#sk-container-id-1 input.sk-toggleable__control:checked~label.sk-toggleable__label-arrow:before {content: \"▾\";}#sk-container-id-1 div.sk-estimator input.sk-toggleable__control:checked~label.sk-toggleable__label {background-color: #d4ebff;}#sk-container-id-1 div.sk-label input.sk-toggleable__control:checked~label.sk-toggleable__label {background-color: #d4ebff;}#sk-container-id-1 input.sk-hidden--visually {border: 0;clip: rect(1px 1px 1px 1px);clip: rect(1px, 1px, 1px, 1px);height: 1px;margin: -1px;overflow: hidden;padding: 0;position: absolute;width: 1px;}#sk-container-id-1 div.sk-estimator {font-family: monospace;background-color: #f0f8ff;border: 1px dotted black;border-radius: 0.25em;box-sizing: border-box;margin-bottom: 0.5em;}#sk-container-id-1 div.sk-estimator:hover {background-color: #d4ebff;}#sk-container-id-1 div.sk-parallel-item::after {content: \"\";width: 100%;border-bottom: 1px solid gray;flex-grow: 1;}#sk-container-id-1 div.sk-label:hover label.sk-toggleable__label {background-color: #d4ebff;}#sk-container-id-1 div.sk-serial::before {content: \"\";position: absolute;border-left: 1px solid gray;box-sizing: border-box;top: 0;bottom: 0;left: 50%;z-index: 0;}#sk-container-id-1 div.sk-serial {display: flex;flex-direction: column;align-items: center;background-color: white;padding-right: 0.2em;padding-left: 0.2em;position: relative;}#sk-container-id-1 div.sk-item {position: relative;z-index: 1;}#sk-container-id-1 div.sk-parallel {display: flex;align-items: stretch;justify-content: center;background-color: white;position: relative;}#sk-container-id-1 div.sk-item::before, #sk-container-id-1 div.sk-parallel-item::before {content: \"\";position: absolute;border-left: 1px solid gray;box-sizing: border-box;top: 0;bottom: 0;left: 50%;z-index: -1;}#sk-container-id-1 div.sk-parallel-item {display: flex;flex-direction: column;z-index: 1;position: relative;background-color: white;}#sk-container-id-1 div.sk-parallel-item:first-child::after {align-self: flex-end;width: 50%;}#sk-container-id-1 div.sk-parallel-item:last-child::after {align-self: flex-start;width: 50%;}#sk-container-id-1 div.sk-parallel-item:only-child::after {width: 0;}#sk-container-id-1 div.sk-dashed-wrapped {border: 1px dashed gray;margin: 0 0.4em 0.5em 0.4em;box-sizing: border-box;padding-bottom: 0.4em;background-color: white;}#sk-container-id-1 div.sk-label label {font-family: monospace;font-weight: bold;display: inline-block;line-height: 1.2em;}#sk-container-id-1 div.sk-label-container {text-align: center;}#sk-container-id-1 div.sk-container {/* jupyter's `normalize.less` sets `[hidden] { display: none; }` but bootstrap.min.css set `[hidden] { display: none !important; }` so we also need the `!important` here to be able to override the default hidden behavior on the sphinx rendered scikit-learn.org. See: https://github.com/scikit-learn/scikit-learn/issues/21755 */display: inline-block !important;position: relative;}#sk-container-id-1 div.sk-text-repr-fallback {display: none;}</style><div id=\"sk-container-id-1\" class=\"sk-top-container\"><div class=\"sk-text-repr-fallback\"><pre>SVC(C=1, kernel=&#x27;linear&#x27;)</pre><b>In a Jupyter environment, please rerun this cell to show the HTML representation or trust the notebook. <br />On GitHub, the HTML representation is unable to render, please try loading this page with nbviewer.org.</b></div><div class=\"sk-container\" hidden><div class=\"sk-item\"><div class=\"sk-estimator sk-toggleable\"><input class=\"sk-toggleable__control sk-hidden--visually\" id=\"sk-estimator-id-1\" type=\"checkbox\" checked><label for=\"sk-estimator-id-1\" class=\"sk-toggleable__label sk-toggleable__label-arrow\">SVC</label><div class=\"sk-toggleable__content\"><pre>SVC(C=1, kernel=&#x27;linear&#x27;)</pre></div></div></div></div></div>"
      ],
      "text/plain": [
       "SVC(C=1, kernel='linear')"
      ]
     },
     "execution_count": 6,
     "metadata": {},
     "output_type": "execute_result"
    }
   ],
   "source": [
    "# Train classifiers on training data\n",
    "rf.fit(X_train, y_train)\n",
    "svm.fit(X_train, y_train)"
   ]
  },
  {
   "cell_type": "code",
   "execution_count": 7,
   "id": "05029c82",
   "metadata": {},
   "outputs": [],
   "source": [
    "# Make predictions on testing data\n",
    "rf_preds = rf.predict(X_test)\n",
    "svm_preds = svm.predict(X_test)"
   ]
  },
  {
   "cell_type": "code",
   "execution_count": 8,
   "id": "389c83c4",
   "metadata": {},
   "outputs": [],
   "source": [
    "# Combine predictions using majority voting\n",
    "ensemble_preds = []\n",
    "for i in range(len(X_test)):\n",
    "    if rf_preds[i] == svm_preds[i]:\n",
    "        ensemble_preds.append(rf_preds[i])\n",
    "    else:\n",
    "        ensemble_preds.append(rf_preds[i])  # You can also use svm_preds here"
   ]
  },
  {
   "cell_type": "code",
   "execution_count": 9,
   "id": "50b4799e",
   "metadata": {},
   "outputs": [
    {
     "name": "stdout",
     "output_type": "stream",
     "text": [
      "Ensemble accuracy: 87.24 %\n"
     ]
    }
   ],
   "source": [
    "# Calculate accuracy of ensemble predictions\n",
    "ensemble_acc = accuracy_score(y_test, ensemble_preds)\n",
    "print(\"Ensemble accuracy:\", round(ensemble_acc*100,2),'%')"
   ]
  },
  {
   "cell_type": "code",
   "execution_count": 10,
   "id": "65393792",
   "metadata": {},
   "outputs": [
    {
     "data": {
      "text/plain": [
       "array([[2274,  287],\n",
       "       [ 422, 2573]], dtype=int64)"
      ]
     },
     "execution_count": 10,
     "metadata": {},
     "output_type": "execute_result"
    },
    {
     "data": {
      "image/png": "[encoded data removed]",
      "text/plain": [
       "<Figure size 640x480 with 2 Axes>"
      ]
     },
     "metadata": {},
     "output_type": "display_data"
    }
   ],
   "source": [
    "cm = confusion_matrix(y_test, ensemble_preds)\n",
    "snb.heatmap(cm,annot=True)\n",
    "cm"
   ]
  },
  {
   "cell_type": "code",
   "execution_count": 11,
   "id": "46ae85a9",
   "metadata": {},
   "outputs": [
    {
     "name": "stdout",
     "output_type": "stream",
     "text": [
      "for testing :  89.97 %\n"
     ]
    }
   ],
   "source": [
    "# precision for testing\n",
    "print('for testing : ' , round(precision_score(y_test , ensemble_preds)*100,2),'%')"
   ]
  },
  {
   "cell_type": "code",
   "execution_count": 12,
   "id": "553aad05",
   "metadata": {},
   "outputs": [
    {
     "name": "stdout",
     "output_type": "stream",
     "text": [
      "for testing :  85.91 %\n"
     ]
    }
   ],
   "source": [
    "# Recall for testing \n",
    "print('for testing : ' , round(recall_score(y_test , ensemble_preds)*100,2),'%')"
   ]
  },
  {
   "cell_type": "code",
   "execution_count": 13,
   "id": "777d764d",
   "metadata": {},
   "outputs": [
    {
     "name": "stdout",
     "output_type": "stream",
     "text": [
      "for testing :  87.89 %\n"
     ]
    }
   ],
   "source": [
    "# f1_score for testing \n",
    "print('for testing : ' , round(f1_score(y_test , ensemble_preds)*100,2),'%')"
   ]
  },
  {
   "cell_type": "code",
   "execution_count": 14,
   "id": "01b44ce5",
   "metadata": {},
   "outputs": [],
   "source": [
    "# for sensitivity and specificity\n",
    "tn, fp, fn, tp = cm.ravel()"
   ]
  },
  {
   "cell_type": "code",
   "execution_count": 15,
   "id": "1a4209d5",
   "metadata": {},
   "outputs": [
    {
     "name": "stdout",
     "output_type": "stream",
     "text": [
      "specificity for data is :  88.79 %\n"
     ]
    }
   ],
   "source": [
    "specificity = tn / (tn+fp)\n",
    "print('specificity for data is : ',round(specificity*100,2),'%')"
   ]
  },
  {
   "cell_type": "code",
   "execution_count": 16,
   "id": "27089ca1",
   "metadata": {},
   "outputs": [
    {
     "name": "stdout",
     "output_type": "stream",
     "text": [
      "sensitivity for data is :  85.91 %\n"
     ]
    }
   ],
   "source": [
    "sensitivity = tp / (tp+fn)\n",
    "print('sensitivity for data is : ',round(sensitivity*100,2),'%')"
   ]
  },
  {
   "cell_type": "code",
   "execution_count": 17,
   "id": "c1722048",
   "metadata": {},
   "outputs": [],
   "source": [
    "#ROC and AUC\n",
    "fpr, tpr, threshold = roc_curve(y_test,ensemble_preds)\n",
    "roc_auc = auc(fpr, tpr)"
   ]
  },
  {
   "cell_type": "code",
   "execution_count": 18,
   "id": "efeabc8d",
   "metadata": {},
   "outputs": [
    {
     "name": "stdout",
     "output_type": "stream",
     "text": [
      "Area under curve :  87.35 %\n"
     ]
    }
   ],
   "source": [
    "print('Area under curve : ',round(roc_auc*100,2),'%')"
   ]
  },
  {
   "cell_type": "code",
   "execution_count": 19,
   "id": "af3e808a",
   "metadata": {},
   "outputs": [
    {
     "data": {
      "image/png": "[encoded data removed]",
      "text/plain": [
       "<Figure size 640x480 with 1 Axes>"
      ]
     },
     "metadata": {},
     "output_type": "display_data"
    }
   ],
   "source": [
    "plt.title('Receiver Operating Characteristic')\n",
    "plt.plot(fpr, tpr, 'b', label = 'AUC = %0.2f' % roc_auc)\n",
    "plt.legend(loc = 'lower right')\n",
    "plt.plot([0, 1], [0, 1],'r--')\n",
    "plt.xlim([0, 1])\n",
    "plt.ylim([0, 1])\n",
    "plt.ylabel('True Positive Rate')\n",
    "plt.xlabel('False Positive Rate')\n",
    "plt.show()"
   ]
  }
 ],
 "metadata": {
  "kernelspec": {
   "display_name": "Python 3 (ipykernel)",
   "language": "python",
   "name": "python3"
  },
  "language_info": {
   "codemirror_mode": {
    "name": "ipython",
    "version": 3
   },
   "file_extension": ".py",
   "mimetype": "text/x-python",
   "name": "python",
   "nbconvert_exporter": "python",
   "pygments_lexer": "ipython3",
   "version": "3.11.0"
  }
 },
 "nbformat": 4,
 "nbformat_minor": 5
}
