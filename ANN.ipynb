{
 "cells": [
  {
   "cell_type": "code",
   "execution_count": 1,
   "id": "24b309d9",
   "metadata": {},
   "outputs": [],
   "source": [
    "import pandas as pd\n",
    "import numpy as np\n",
    "from sklearn.model_selection import train_test_split\n",
    "from keras.models import Sequential\n",
    "from keras.layers import Dense\n",
    "from sklearn.metrics import accuracy_score\n",
    "from sklearn.metrics import precision_score , recall_score , f1_score , confusion_matrix\n",
    "from sklearn.metrics import roc_curve , auc\n",
    "import matplotlib.pyplot as plt\n",
    "import seaborn as snb"
   ]
  },
  {
   "cell_type": "code",
   "execution_count": 2,
   "id": "98143767",
   "metadata": {},
   "outputs": [],
   "source": [
    "# Load the dataset\n",
    "data = pd.read_csv(\"inf.csv\")\n",
    "data = data.drop(['Unnamed: 0'],axis = 1)"
   ]
  },
  {
   "cell_type": "code",
   "execution_count": 3,
   "id": "3f3cf6a0",
   "metadata": {},
   "outputs": [],
   "source": [
    "# Split the data into features and target variable\n",
    "X = data.drop('Pathogen Test Result', axis=1)\n",
    "y = data['Pathogen Test Result']"
   ]
  },
  {
   "cell_type": "code",
   "execution_count": 4,
   "id": "9b6ec471",
   "metadata": {},
   "outputs": [],
   "source": [
    "# Split the data into training and testing sets\n",
    "X_train, X_test, y_train, y_test = train_test_split(X, y, test_size=0.2)"
   ]
  },
  {
   "cell_type": "code",
   "execution_count": 5,
   "id": "5555d5c7",
   "metadata": {},
   "outputs": [],
   "source": [
    "# Create a neural network model\n",
    "model = Sequential()\n",
    "model.add(Dense(16, input_dim=X_train.shape[1], activation='relu'))\n",
    "model.add(Dense(8, activation='relu'))\n",
    "model.add(Dense(1, activation='sigmoid'))"
   ]
  },
  {
   "cell_type": "code",
   "execution_count": 6,
   "id": "225ed9b8",
   "metadata": {},
   "outputs": [],
   "source": [
    "# Compile the model\n",
    "model.compile(loss='binary_crossentropy', optimizer='adam', metrics=['accuracy'])"
   ]
  },
  {
   "cell_type": "code",
   "execution_count": 7,
   "id": "f462d3f0",
   "metadata": {
    "scrolled": true
   },
   "outputs": [
    {
     "name": "stdout",
     "output_type": "stream",
     "text": [
      "Epoch 1/100\n",
      "463/463 [==============================] - 2s 2ms/step - loss: 38.3547 - accuracy: 0.5251\n",
      "Epoch 2/100\n",
      "463/463 [==============================] - 1s 2ms/step - loss: 0.7256 - accuracy: 0.5264\n",
      "Epoch 3/100\n",
      "463/463 [==============================] - 1s 2ms/step - loss: 0.7170 - accuracy: 0.5289\n",
      "Epoch 4/100\n",
      "463/463 [==============================] - 1s 2ms/step - loss: 0.7097 - accuracy: 0.5351\n",
      "Epoch 5/100\n",
      "463/463 [==============================] - 1s 2ms/step - loss: 0.7118 - accuracy: 0.5353\n",
      "Epoch 6/100\n",
      "463/463 [==============================] - 1s 2ms/step - loss: 0.7262 - accuracy: 0.5360\n",
      "Epoch 7/100\n",
      "463/463 [==============================] - 1s 2ms/step - loss: 0.7176 - accuracy: 0.5412\n",
      "Epoch 8/100\n",
      "463/463 [==============================] - 1s 2ms/step - loss: 0.7122 - accuracy: 0.5436\n",
      "Epoch 9/100\n",
      "463/463 [==============================] - 1s 2ms/step - loss: 0.7247 - accuracy: 0.5347\n",
      "Epoch 10/100\n",
      "463/463 [==============================] - 1s 2ms/step - loss: 0.7170 - accuracy: 0.5417\n",
      "Epoch 11/100\n",
      "463/463 [==============================] - 1s 2ms/step - loss: 0.7136 - accuracy: 0.5453\n",
      "Epoch 12/100\n",
      "463/463 [==============================] - 1s 2ms/step - loss: 0.7211 - accuracy: 0.5396\n",
      "Epoch 13/100\n",
      "463/463 [==============================] - 1s 2ms/step - loss: 0.7092 - accuracy: 0.5490\n",
      "Epoch 14/100\n",
      "463/463 [==============================] - 1s 1ms/step - loss: 0.7012 - accuracy: 0.5509\n",
      "Epoch 15/100\n",
      "463/463 [==============================] - 1s 2ms/step - loss: 0.7006 - accuracy: 0.5498\n",
      "Epoch 16/100\n",
      "463/463 [==============================] - 1s 2ms/step - loss: 0.7027 - accuracy: 0.5561\n",
      "Epoch 17/100\n",
      "463/463 [==============================] - 1s 2ms/step - loss: 0.7111 - accuracy: 0.5465\n",
      "Epoch 18/100\n",
      "463/463 [==============================] - 1s 2ms/step - loss: 0.7077 - accuracy: 0.5463\n",
      "Epoch 19/100\n",
      "463/463 [==============================] - 1s 2ms/step - loss: 0.6950 - accuracy: 0.5560\n",
      "Epoch 20/100\n",
      "463/463 [==============================] - 1s 2ms/step - loss: 0.6971 - accuracy: 0.5525\n",
      "Epoch 21/100\n",
      "463/463 [==============================] - 1s 2ms/step - loss: 0.6979 - accuracy: 0.5488\n",
      "Epoch 22/100\n",
      "463/463 [==============================] - 1s 2ms/step - loss: 0.7117 - accuracy: 0.5445\n",
      "Epoch 23/100\n",
      "463/463 [==============================] - 1s 2ms/step - loss: 0.7100 - accuracy: 0.5455\n",
      "Epoch 24/100\n",
      "463/463 [==============================] - 1s 2ms/step - loss: 0.7070 - accuracy: 0.5449\n",
      "Epoch 25/100\n",
      "463/463 [==============================] - 1s 2ms/step - loss: 0.7000 - accuracy: 0.5557\n",
      "Epoch 26/100\n",
      "463/463 [==============================] - 1s 2ms/step - loss: 0.6957 - accuracy: 0.5511\n",
      "Epoch 27/100\n",
      "463/463 [==============================] - 1s 2ms/step - loss: 0.7019 - accuracy: 0.5509\n",
      "Epoch 28/100\n",
      "463/463 [==============================] - 1s 2ms/step - loss: 0.6926 - accuracy: 0.5480\n",
      "Epoch 29/100\n",
      "463/463 [==============================] - 1s 2ms/step - loss: 0.6939 - accuracy: 0.5505\n",
      "Epoch 30/100\n",
      "463/463 [==============================] - 1s 1ms/step - loss: 0.6896 - accuracy: 0.5532\n",
      "Epoch 31/100\n",
      "463/463 [==============================] - 1s 1ms/step - loss: 0.6972 - accuracy: 0.5435\n",
      "Epoch 32/100\n",
      "463/463 [==============================] - 1s 1ms/step - loss: 0.7042 - accuracy: 0.5416\n",
      "Epoch 33/100\n",
      "463/463 [==============================] - 1s 2ms/step - loss: 0.6938 - accuracy: 0.5511\n",
      "Epoch 34/100\n",
      "463/463 [==============================] - 1s 2ms/step - loss: 0.6958 - accuracy: 0.5497\n",
      "Epoch 35/100\n",
      "463/463 [==============================] - 1s 2ms/step - loss: 0.6963 - accuracy: 0.5499\n",
      "Epoch 36/100\n",
      "463/463 [==============================] - 1s 2ms/step - loss: 0.6902 - accuracy: 0.5549\n",
      "Epoch 37/100\n",
      "463/463 [==============================] - 1s 2ms/step - loss: 0.6944 - accuracy: 0.5519\n",
      "Epoch 38/100\n",
      "463/463 [==============================] - 1s 2ms/step - loss: 0.6937 - accuracy: 0.5484\n",
      "Epoch 39/100\n",
      "463/463 [==============================] - 1s 2ms/step - loss: 0.6850 - accuracy: 0.5637\n",
      "Epoch 40/100\n",
      "463/463 [==============================] - 1s 2ms/step - loss: 0.7027 - accuracy: 0.5467\n",
      "Epoch 41/100\n",
      "463/463 [==============================] - 1s 2ms/step - loss: 0.6990 - accuracy: 0.5503\n",
      "Epoch 42/100\n",
      "463/463 [==============================] - 1s 2ms/step - loss: 0.6933 - accuracy: 0.5532\n",
      "Epoch 43/100\n",
      "463/463 [==============================] - 1s 2ms/step - loss: 0.6946 - accuracy: 0.5525\n",
      "Epoch 44/100\n",
      "463/463 [==============================] - 1s 2ms/step - loss: 0.6971 - accuracy: 0.5550\n",
      "Epoch 45/100\n",
      "463/463 [==============================] - 1s 2ms/step - loss: 0.6810 - accuracy: 0.5568\n",
      "Epoch 46/100\n",
      "463/463 [==============================] - 1s 2ms/step - loss: 0.6859 - accuracy: 0.5597\n",
      "Epoch 47/100\n",
      "463/463 [==============================] - 1s 2ms/step - loss: 0.6981 - accuracy: 0.5505\n",
      "Epoch 48/100\n",
      "463/463 [==============================] - 1s 2ms/step - loss: 0.6871 - accuracy: 0.5459\n",
      "Epoch 49/100\n",
      "463/463 [==============================] - 1s 2ms/step - loss: 0.6841 - accuracy: 0.5549\n",
      "Epoch 50/100\n",
      "463/463 [==============================] - 1s 2ms/step - loss: 0.6957 - accuracy: 0.5461\n",
      "Epoch 51/100\n",
      "463/463 [==============================] - 1s 2ms/step - loss: 0.6892 - accuracy: 0.5458\n",
      "Epoch 52/100\n",
      "463/463 [==============================] - 1s 3ms/step - loss: 0.6906 - accuracy: 0.5522\n",
      "Epoch 53/100\n",
      "463/463 [==============================] - 1s 2ms/step - loss: 0.6889 - accuracy: 0.5511\n",
      "Epoch 54/100\n",
      "463/463 [==============================] - 1s 2ms/step - loss: 0.6957 - accuracy: 0.5407\n",
      "Epoch 55/100\n",
      "463/463 [==============================] - 1s 3ms/step - loss: 0.6878 - accuracy: 0.5538\n",
      "Epoch 56/100\n",
      "463/463 [==============================] - 1s 2ms/step - loss: 0.6816 - accuracy: 0.5513\n",
      "Epoch 57/100\n",
      "463/463 [==============================] - 1s 2ms/step - loss: 0.6962 - accuracy: 0.5492\n",
      "Epoch 58/100\n",
      "463/463 [==============================] - 1s 2ms/step - loss: 0.6849 - accuracy: 0.5514\n",
      "Epoch 59/100\n",
      "463/463 [==============================] - 1s 2ms/step - loss: 0.6850 - accuracy: 0.5567\n",
      "Epoch 60/100\n",
      "463/463 [==============================] - 1s 2ms/step - loss: 0.6886 - accuracy: 0.5495\n",
      "Epoch 61/100\n",
      "463/463 [==============================] - 1s 2ms/step - loss: 0.6819 - accuracy: 0.5630\n",
      "Epoch 62/100\n",
      "463/463 [==============================] - 1s 2ms/step - loss: 0.6938 - accuracy: 0.5505\n",
      "Epoch 63/100\n",
      "463/463 [==============================] - 1s 2ms/step - loss: 0.6807 - accuracy: 0.5576\n",
      "Epoch 64/100\n",
      "463/463 [==============================] - 1s 2ms/step - loss: 0.6877 - accuracy: 0.5565\n",
      "Epoch 65/100\n",
      "463/463 [==============================] - 1s 2ms/step - loss: 0.6763 - accuracy: 0.5615\n",
      "Epoch 66/100\n",
      "463/463 [==============================] - 1s 2ms/step - loss: 0.6806 - accuracy: 0.5569\n",
      "Epoch 67/100\n",
      "463/463 [==============================] - 1s 2ms/step - loss: 0.6838 - accuracy: 0.5551\n",
      "Epoch 68/100\n",
      "463/463 [==============================] - 1s 2ms/step - loss: 0.6823 - accuracy: 0.5629\n",
      "Epoch 69/100\n",
      "463/463 [==============================] - 1s 2ms/step - loss: 0.6805 - accuracy: 0.5596\n",
      "Epoch 70/100\n",
      "463/463 [==============================] - 1s 2ms/step - loss: 0.6775 - accuracy: 0.5642\n",
      "Epoch 71/100\n",
      "463/463 [==============================] - 1s 2ms/step - loss: 0.6756 - accuracy: 0.5651\n",
      "Epoch 72/100\n",
      "463/463 [==============================] - 1s 2ms/step - loss: 0.6751 - accuracy: 0.5644\n",
      "Epoch 73/100\n",
      "463/463 [==============================] - 1s 2ms/step - loss: 0.6703 - accuracy: 0.5660\n",
      "Epoch 74/100\n",
      "463/463 [==============================] - 1s 2ms/step - loss: 0.6722 - accuracy: 0.5614\n",
      "Epoch 75/100\n",
      "463/463 [==============================] - 1s 2ms/step - loss: 0.6739 - accuracy: 0.5632\n",
      "Epoch 76/100\n",
      "463/463 [==============================] - 1s 2ms/step - loss: 0.6742 - accuracy: 0.5659\n",
      "Epoch 77/100\n",
      "463/463 [==============================] - 1s 2ms/step - loss: 0.6712 - accuracy: 0.5606\n",
      "Epoch 78/100\n",
      "463/463 [==============================] - 1s 2ms/step - loss: 0.6686 - accuracy: 0.5638\n",
      "Epoch 79/100\n",
      "463/463 [==============================] - 1s 2ms/step - loss: 0.6680 - accuracy: 0.5674\n",
      "Epoch 80/100\n",
      "463/463 [==============================] - 1s 2ms/step - loss: 0.6669 - accuracy: 0.5608\n",
      "Epoch 81/100\n"
     ]
    },
    {
     "name": "stdout",
     "output_type": "stream",
     "text": [
      "463/463 [==============================] - 1s 2ms/step - loss: 0.6630 - accuracy: 0.5659\n",
      "Epoch 82/100\n",
      "463/463 [==============================] - 1s 2ms/step - loss: 0.6669 - accuracy: 0.5584\n",
      "Epoch 83/100\n",
      "463/463 [==============================] - 1s 1ms/step - loss: 0.6637 - accuracy: 0.5693\n",
      "Epoch 84/100\n",
      "463/463 [==============================] - 1s 2ms/step - loss: 0.6644 - accuracy: 0.5692\n",
      "Epoch 85/100\n",
      "463/463 [==============================] - 1s 2ms/step - loss: 0.6598 - accuracy: 0.5719\n",
      "Epoch 86/100\n",
      "463/463 [==============================] - 1s 2ms/step - loss: 0.6631 - accuracy: 0.5670\n",
      "Epoch 87/100\n",
      "463/463 [==============================] - 1s 2ms/step - loss: 0.6640 - accuracy: 0.5645\n",
      "Epoch 88/100\n",
      "463/463 [==============================] - 1s 2ms/step - loss: 0.6607 - accuracy: 0.5709\n",
      "Epoch 89/100\n",
      "463/463 [==============================] - 1s 1ms/step - loss: 0.6623 - accuracy: 0.5646\n",
      "Epoch 90/100\n",
      "463/463 [==============================] - 1s 2ms/step - loss: 0.6603 - accuracy: 0.5729\n",
      "Epoch 91/100\n",
      "463/463 [==============================] - 1s 1ms/step - loss: 0.6597 - accuracy: 0.5662\n",
      "Epoch 92/100\n",
      "463/463 [==============================] - 1s 2ms/step - loss: 0.6588 - accuracy: 0.5698\n",
      "Epoch 93/100\n",
      "463/463 [==============================] - 1s 1ms/step - loss: 0.6583 - accuracy: 0.5700\n",
      "Epoch 94/100\n",
      "463/463 [==============================] - 1s 2ms/step - loss: 0.6623 - accuracy: 0.5684\n",
      "Epoch 95/100\n",
      "463/463 [==============================] - 1s 2ms/step - loss: 0.6637 - accuracy: 0.5619\n",
      "Epoch 96/100\n",
      "463/463 [==============================] - 1s 2ms/step - loss: 0.6614 - accuracy: 0.5638\n",
      "Epoch 97/100\n",
      "463/463 [==============================] - 1s 2ms/step - loss: 0.6576 - accuracy: 0.5700\n",
      "Epoch 98/100\n",
      "463/463 [==============================] - 1s 2ms/step - loss: 0.6595 - accuracy: 0.5658\n",
      "Epoch 99/100\n",
      "463/463 [==============================] - 1s 2ms/step - loss: 0.6621 - accuracy: 0.5679\n",
      "Epoch 100/100\n",
      "463/463 [==============================] - 1s 2ms/step - loss: 0.6618 - accuracy: 0.5615\n"
     ]
    },
    {
     "data": {
      "text/plain": [
       "<keras.callbacks.History at 0x1c226da3710>"
      ]
     },
     "execution_count": 7,
     "metadata": {},
     "output_type": "execute_result"
    }
   ],
   "source": [
    "# Train the model on the training set\n",
    "model.fit(X_train, y_train, epochs=100, batch_size=32)"
   ]
  },
  {
   "cell_type": "code",
   "execution_count": 8,
   "id": "b4ce202b",
   "metadata": {},
   "outputs": [
    {
     "name": "stdout",
     "output_type": "stream",
     "text": [
      "116/116 [==============================] - 0s 1ms/step\n"
     ]
    }
   ],
   "source": [
    "# Use the trained model to make predictions on the testing set\n",
    "y_pred = model.predict(X_test)\n",
    "y_pred = np.round(y_pred)"
   ]
  },
  {
   "cell_type": "code",
   "execution_count": 9,
   "id": "dfadb099",
   "metadata": {},
   "outputs": [
    {
     "name": "stdout",
     "output_type": "stream",
     "text": [
      "463/463 [==============================] - 1s 1ms/step\n"
     ]
    }
   ],
   "source": [
    "y_pred2 = model.predict(X_train)\n",
    "y_pred2 = np.round(y_pred)"
   ]
  },
  {
   "cell_type": "code",
   "execution_count": 10,
   "id": "fd7f98a5",
   "metadata": {},
   "outputs": [
    {
     "name": "stdout",
     "output_type": "stream",
     "text": [
      "Accuracy: 57.91 %\n"
     ]
    }
   ],
   "source": [
    "# Evaluate the accuracy of the model\n",
    "accuracy = accuracy_score(y_test, y_pred)\n",
    "print(\"Accuracy:\", round(accuracy*100,2),'%')"
   ]
  },
  {
   "cell_type": "code",
   "execution_count": 11,
   "id": "f4c42877",
   "metadata": {},
   "outputs": [],
   "source": [
    "cm = confusion_matrix(y_test, y_pred)"
   ]
  },
  {
   "cell_type": "code",
   "execution_count": 12,
   "id": "8a78bff5",
   "metadata": {},
   "outputs": [
    {
     "data": {
      "text/plain": [
       "array([[ 770,  965],\n",
       "       [ 594, 1375]], dtype=int64)"
      ]
     },
     "execution_count": 12,
     "metadata": {},
     "output_type": "execute_result"
    },
    {
     "data": {
      "image/png": "[encoded data removed]",
      "text/plain": [
       "<Figure size 640x480 with 2 Axes>"
      ]
     },
     "metadata": {},
     "output_type": "display_data"
    }
   ],
   "source": [
    "snb.heatmap(cm,annot=True)\n",
    "cm"
   ]
  },
  {
   "cell_type": "code",
   "execution_count": 13,
   "id": "8a777731",
   "metadata": {},
   "outputs": [
    {
     "name": "stdout",
     "output_type": "stream",
     "text": [
      "for testing :  58.76 %\n"
     ]
    }
   ],
   "source": [
    "# precision for testing\n",
    "print('for testing : ' , round(precision_score(y_test , y_pred)*100,2),'%')"
   ]
  },
  {
   "cell_type": "code",
   "execution_count": 14,
   "id": "eddc2027",
   "metadata": {},
   "outputs": [
    {
     "name": "stdout",
     "output_type": "stream",
     "text": [
      "for testing :  69.83 %\n"
     ]
    }
   ],
   "source": [
    "# Recall for testing \n",
    "print('for testing : ' , round(recall_score(y_test , y_pred)*100,2),'%')"
   ]
  },
  {
   "cell_type": "code",
   "execution_count": 15,
   "id": "c8bc1c4a",
   "metadata": {},
   "outputs": [
    {
     "name": "stdout",
     "output_type": "stream",
     "text": [
      "for testing :  63.82 %\n"
     ]
    }
   ],
   "source": [
    "# f1_score for testing \n",
    "print('for testing : ' , round(f1_score(y_test , y_pred)*100,2),'%')"
   ]
  },
  {
   "cell_type": "code",
   "execution_count": 16,
   "id": "3a565b30",
   "metadata": {},
   "outputs": [],
   "source": [
    "# for sensitivity and specificity\n",
    "tn, fp, fn, tp = cm.ravel()"
   ]
  },
  {
   "cell_type": "code",
   "execution_count": 17,
   "id": "798810bb",
   "metadata": {},
   "outputs": [
    {
     "name": "stdout",
     "output_type": "stream",
     "text": [
      "specificity for data is :  44.38 %\n"
     ]
    }
   ],
   "source": [
    "specificity = tn / (tn+fp)\n",
    "print('specificity for data is : ',round(specificity*100,2),'%')"
   ]
  },
  {
   "cell_type": "code",
   "execution_count": 18,
   "id": "30cf629c",
   "metadata": {},
   "outputs": [
    {
     "name": "stdout",
     "output_type": "stream",
     "text": [
      "sensitivity for data is :  69.83 %\n"
     ]
    }
   ],
   "source": [
    "sensitivity = tp / (tp+fn)\n",
    "print('sensitivity for data is : ',round(sensitivity*100,2),'%')"
   ]
  },
  {
   "cell_type": "code",
   "execution_count": 19,
   "id": "b8f6519f",
   "metadata": {},
   "outputs": [],
   "source": [
    "#ROC and AUC\n",
    "fpr, tpr, threshold = roc_curve(y_test,y_pred)\n",
    "roc_auc = auc(fpr, tpr)"
   ]
  },
  {
   "cell_type": "code",
   "execution_count": 20,
   "id": "34974605",
   "metadata": {},
   "outputs": [
    {
     "name": "stdout",
     "output_type": "stream",
     "text": [
      "Area under curve :  57.11 %\n"
     ]
    }
   ],
   "source": [
    "print('Area under curve : ',round(roc_auc*100,2),'%')"
   ]
  },
  {
   "cell_type": "code",
   "execution_count": 21,
   "id": "93a955f9",
   "metadata": {},
   "outputs": [
    {
     "data": {
      "image/png": "[encoded data removed]",
      "text/plain": [
       "<Figure size 640x480 with 1 Axes>"
      ]
     },
     "metadata": {},
     "output_type": "display_data"
    }
   ],
   "source": [
    "plt.title('Receiver Operating Characteristic')\n",
    "plt.plot(fpr, tpr, 'b', label = 'AUC = %0.2f' % roc_auc)\n",
    "plt.legend(loc = 'lower right')\n",
    "plt.plot([0, 1], [0, 1],'r--')\n",
    "plt.xlim([0, 1])\n",
    "plt.ylim([0, 1])\n",
    "plt.ylabel('True Positive Rate')\n",
    "plt.xlabel('False Positive Rate')\n",
    "plt.show()"
   ]
  },
  {
   "cell_type": "code",
   "execution_count": null,
   "id": "c9475e63",
   "metadata": {},
   "outputs": [],
   "source": []
  }
 ],
 "metadata": {
  "kernelspec": {
   "display_name": "Python 3 (ipykernel)",
   "language": "python",
   "name": "python3"
  },
  "language_info": {
   "codemirror_mode": {
    "name": "ipython",
    "version": 3
   },
   "file_extension": ".py",
   "mimetype": "text/x-python",
   "name": "python",
   "nbconvert_exporter": "python",
   "pygments_lexer": "ipython3",
   "version": "3.11.0"
  }
 },
 "nbformat": 4,
 "nbformat_minor": 5
}
